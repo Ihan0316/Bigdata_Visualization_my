{
 "cells": [
  {
   "cell_type": "code",
   "id": "5fc93a941a26c9f6",
   "metadata": {
    "ExecuteTime": {
     "end_time": "2025-03-04T05:13:48.196572Z",
     "start_time": "2025-03-04T05:13:48.193119Z"
    }
   },
   "source": [
    "import urllib.request\n",
    "import datetime\n",
    "import json\n",
    "import ssl\n",
    "\n",
    "client_id = 'OfUhh9NpmXzZeWhUNB8H'\n",
    "client_secret = 'jECI0GhNyV'\n",
    "\n",
    "def getRequestUrl(url):\n",
    "    # Create an SSL context to handle SSL verification\n",
    "    context = ssl.create_default_context()\n",
    "    context.check_hostname = False\n",
    "    context.verify_mode = ssl.CERT_NONE\n",
    "\n",
    "    req = urllib.request.Request(url)\n",
    "    req.add_header(\"X-Naver-Client-Id\", client_id)\n",
    "    req.add_header(\"X-Naver-Client-Secret\", client_secret)\n",
    "\n",
    "    try:\n",
    "        # Pass the context to the urlopen function to handle SSL\n",
    "        response = urllib.request.urlopen(req, context=context)\n",
    "        if response.getcode() == 200:\n",
    "            print(\"[%s] Url Request Success\" % datetime.datetime.now())\n",
    "            return response.read().decode('utf-8')\n",
    "\n",
    "    except Exception as e:\n",
    "        print(e)\n",
    "        print(\"[%s] Error for URL : %s\" % (datetime.datetime.now(), url))\n",
    "        return None"
   ],
   "outputs": [],
   "execution_count": 3
  },
  {
   "metadata": {
    "ExecuteTime": {
     "end_time": "2025-03-04T05:12:11.963385Z",
     "start_time": "2025-03-04T05:01:48.314979Z"
    }
   },
   "cell_type": "code",
   "source": [
    "#[CODE 2]\n",
    "def getNaverSearch(node, srcText, start, display):\n",
    "    base = \"https://openapi.naver.com/v1/search\"\n",
    "    node = \"/%s.json\" % node\n",
    "    parameters = \"?query=%s&start=%s&display=%s\" %(urllib.parse.quote(srcText), start, display)\n",
    "    url = base + node + parameters\n",
    "    responseDecode = getRequestUrl(url) #[CODE 1]\n",
    "    if (responseDecode == None):\n",
    "        return None\n",
    "    else:\n",
    "        return json.loads(responseDecode)\n"
   ],
   "id": "9ba7ab38213179b0",
   "outputs": [],
   "execution_count": 29
  },
  {
   "metadata": {
    "collapsed": true,
    "ExecuteTime": {
     "end_time": "2025-03-04T05:12:11.963596Z",
     "start_time": "2025-03-04T05:01:48.322341Z"
    }
   },
   "cell_type": "code",
   "source": [
    "#[CODE 3]\n",
    "def getPostData(post, jsonResult, cnt):\n",
    "    title = post['title']\n",
    "    description = post['description']\n",
    "    org_link = post['originallink']\n",
    "    link = post['link']\n",
    "    pDate = datetime.datetime.strptime(post['pubDate'], '%a, %d %b %Y %H:%M:%S +0900')\n",
    "    pDate = pDate.strftime('%Y-%m-%d %H:%M:%S')\n",
    "    jsonResult.append({'cnt':cnt, 'title':title, 'description': description,\n",
    "    'org_link':org_link, 'link': link, 'pDate':pDate})\n",
    "    return"
   ],
   "id": "initial_id",
   "outputs": [],
   "execution_count": 30
  },
  {
   "metadata": {
    "ExecuteTime": {
     "end_time": "2025-03-04T05:12:11.970469Z",
     "start_time": "2025-03-04T05:01:48.329036Z"
    }
   },
   "cell_type": "code",
   "source": [
    "#[CODE 0]\n",
    "def main():\n",
    "    node = 'news' #크롤링할 대상\n",
    "    srcText = input('검색어를 입력하세요: ')\n",
    "    cnt = 0\n",
    "    jsonResult = []\n",
    "    jsonResponse = getNaverSearch(node, srcText, 1, 100) #[CODE 2]\n",
    "    total = jsonResponse['total']\n",
    "    while ((jsonResponse != None) and (jsonResponse['display'] != 0)):\n",
    "        for post in jsonResponse['items']:\n",
    "            cnt += 1\n",
    "            getPostData(post, jsonResult, cnt) #[CODE 3]\n",
    "        start = jsonResponse['start'] + jsonResponse['display']\n",
    "        jsonResponse = getNaverSearch(node, srcText, start, 100) #[CODE 2]\n",
    "    print('전체 검색 : %d 건' %total)\n",
    "    with open('%s_naver_%s.json' % (srcText, node), 'w', encoding='utf8') as outfile:\n",
    "        jsonFile = json.dumps(jsonResult, indent = 4, sort_keys = True, ensure_ascii = False)\n",
    "        outfile.write(jsonFile)\n",
    "    print(\"가져온 데이터 : %d 건\" %(cnt))\n",
    "    print('%s_naver_%s.json SAVED' % (srcText, node))\n",
    "\n",
    "if __name__ == '__main__':\n",
    "    main()"
   ],
   "id": "7ef2cd5176bf90a9",
   "outputs": [
    {
     "name": "stdout",
     "output_type": "stream",
     "text": [
      "[2025-03-04 14:01:52.533165] Url Request Success\n",
      "[2025-03-04 14:01:52.760415] Url Request Success\n",
      "[2025-03-04 14:01:53.493880] Url Request Success\n",
      "[2025-03-04 14:01:53.736398] Url Request Success\n",
      "[2025-03-04 14:01:54.053546] Url Request Success\n",
      "[2025-03-04 14:01:54.360025] Url Request Success\n",
      "[2025-03-04 14:01:54.608436] Url Request Success\n",
      "[2025-03-04 14:01:55.150789] Url Request Success\n",
      "[2025-03-04 14:01:55.446566] Url Request Success\n",
      "[2025-03-04 14:01:55.725749] Url Request Success\n",
      "HTTP Error 400: Bad Request\n",
      "[2025-03-04 14:01:55.823037] Error for URL : https://openapi.naver.com/v1/search/news.json?query=%EC%95%A0%ED%94%8C&start=1001&display=100\n",
      "전체 검색 : 1619455 건\n",
      "가져온 데이터 : 1000 건\n",
      "애플_naver_news.json SAVED\n"
     ]
    }
   ],
   "execution_count": 31
  }
 ],
 "metadata": {
  "kernelspec": {
   "display_name": "Python 3",
   "language": "python",
   "name": "python3"
  },
  "language_info": {
   "codemirror_mode": {
    "name": "ipython",
    "version": 2
   },
   "file_extension": ".py",
   "mimetype": "text/x-python",
   "name": "python",
   "nbconvert_exporter": "python",
   "pygments_lexer": "ipython2",
   "version": "2.7.6"
  }
 },
 "nbformat": 4,
 "nbformat_minor": 5
}
