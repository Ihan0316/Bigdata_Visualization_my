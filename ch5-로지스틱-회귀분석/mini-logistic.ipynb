{
 "cells": [
  {
   "cell_type": "code",
   "id": "initial_id",
   "metadata": {
    "collapsed": true,
    "ExecuteTime": {
     "end_time": "2025-03-07T03:16:09.878106Z",
     "start_time": "2025-03-07T03:16:09.061273Z"
    }
   },
   "source": [
    "\n",
    "import ssl\n",
    "import pandas as pd\n",
    "import numpy as np\n",
    "import matplotlib.pyplot as plt\n",
    "from sklearn.model_selection import train_test_split\n",
    "from sklearn.preprocessing import StandardScaler\n",
    "from sklearn.linear_model import LogisticRegression\n",
    "from sklearn.metrics import accuracy_score, classification_report, confusion_matrix\n",
    "import seaborn as sns\n",
    "import matplotlib.font_manager as fm\n",
    "\n",
    "# SSL 인증서 무시\n",
    "ssl._create_default_https_context = ssl._create_unverified_context\n",
    "\n",
    "# 데이터셋 다운로드 및 로드\n",
    "url = \"https://archive.ics.uci.edu/ml/machine-learning-databases/wine-quality/winequality-red.csv\"\n",
    "df = pd.read_csv(url, delimiter=\";\")\n",
    "\n",
    "# 데이터 확인\n",
    "print(df.head())\n",
    "print(df.info())\n",
    "\n",
    "\n",
    "\n",
    "# 폰트 경로 설정\n",
    "# font_path = \"C:/Windows/Fonts/NanumGothic.ttf\"\n",
    "font_path= \"/System/Library/Fonts/AppleSDGothicNeo.ttc\"\n",
    "font_prop = fm.FontProperties(fname=font_path)\n",
    "\n",
    "# Matplotlib 기본 폰트 설정\n",
    "plt.rc('font', family=font_prop.get_name())\n",
    "\n",
    "# 음수 기호 깨짐 방지\n",
    "plt.rcParams['axes.unicode_minus'] = False\n",
    "\n",
    "# 품질 분포 확인\n",
    "sns.countplot(x=df[\"quality\"])\n",
    "plt.title(\"와인 품질 분포\",fontproperties=font_prop)\n",
    "plt.show()\n"
   ],
   "outputs": [
    {
     "name": "stdout",
     "output_type": "stream",
     "text": [
      "   fixed acidity  volatile acidity  citric acid  residual sugar  chlorides  \\\n",
      "0            7.4              0.70         0.00             1.9      0.076   \n",
      "1            7.8              0.88         0.00             2.6      0.098   \n",
      "2            7.8              0.76         0.04             2.3      0.092   \n",
      "3           11.2              0.28         0.56             1.9      0.075   \n",
      "4            7.4              0.70         0.00             1.9      0.076   \n",
      "\n",
      "   free sulfur dioxide  total sulfur dioxide  density    pH  sulphates  \\\n",
      "0                 11.0                  34.0   0.9978  3.51       0.56   \n",
      "1                 25.0                  67.0   0.9968  3.20       0.68   \n",
      "2                 15.0                  54.0   0.9970  3.26       0.65   \n",
      "3                 17.0                  60.0   0.9980  3.16       0.58   \n",
      "4                 11.0                  34.0   0.9978  3.51       0.56   \n",
      "\n",
      "   alcohol  quality  \n",
      "0      9.4        5  \n",
      "1      9.8        5  \n",
      "2      9.8        5  \n",
      "3      9.8        6  \n",
      "4      9.4        5  \n",
      "<class 'pandas.core.frame.DataFrame'>\n",
      "RangeIndex: 1599 entries, 0 to 1598\n",
      "Data columns (total 12 columns):\n",
      " #   Column                Non-Null Count  Dtype  \n",
      "---  ------                --------------  -----  \n",
      " 0   fixed acidity         1599 non-null   float64\n",
      " 1   volatile acidity      1599 non-null   float64\n",
      " 2   citric acid           1599 non-null   float64\n",
      " 3   residual sugar        1599 non-null   float64\n",
      " 4   chlorides             1599 non-null   float64\n",
      " 5   free sulfur dioxide   1599 non-null   float64\n",
      " 6   total sulfur dioxide  1599 non-null   float64\n",
      " 7   density               1599 non-null   float64\n",
      " 8   pH                    1599 non-null   float64\n",
      " 9   sulphates             1599 non-null   float64\n",
      " 10  alcohol               1599 non-null   float64\n",
      " 11  quality               1599 non-null   int64  \n",
      "dtypes: float64(11), int64(1)\n",
      "memory usage: 150.0 KB\n",
      "None\n"
     ]
    },
    {
     "data": {
      "text/plain": [
       "<Figure size 640x480 with 1 Axes>"
      ],
      "image/png": "[encoded data removed]"
     },
     "metadata": {},
     "output_type": "display_data"
    }
   ],
   "execution_count": 2
  },
  {
   "metadata": {
    "ExecuteTime": {
     "end_time": "2025-03-07T03:16:09.893123Z",
     "start_time": "2025-03-07T03:16:09.888513Z"
    }
   },
   "cell_type": "code",
   "source": [
    "# 품질 점수를 이진 분류 라벨(0: 나쁜 와인, 1: 좋은 와인)로 변환\n",
    "df[\"quality_label\"] = (df[\"quality\"] >= 6).astype(int)\n",
    "\n",
    "# 독립 변수(X)와 종속 변수(y) 정의\n",
    "X = df.drop(columns=[\"quality\", \"quality_label\"])  # 독립 변수 (11개)\n",
    "y = df[\"quality_label\"]  # 종속 변수 (0 또는 1)\n",
    "\n",
    "# 데이터 분할 (훈련 80%, 테스트 20%)\n",
    "X_train, X_test, y_train, y_test = train_test_split(X, y, test_size=0.2, random_state=42)\n",
    "\n",
    "# 데이터 정규화 (스케일링)\n",
    "scaler = StandardScaler()\n",
    "X_train_scaled = scaler.fit_transform(X_train)\n",
    "X_test_scaled = scaler.transform(X_test)\n"
   ],
   "id": "77983e1ce4f7533c",
   "outputs": [],
   "execution_count": 3
  },
  {
   "metadata": {
    "ExecuteTime": {
     "end_time": "2025-03-07T03:16:10.034762Z",
     "start_time": "2025-03-07T03:16:09.904173Z"
    }
   },
   "cell_type": "code",
   "source": [
    "# 로지스틱 회귀 모델 학습\n",
    "model = LogisticRegression()\n",
    "model.fit(X_train_scaled, y_train)\n",
    "\n",
    "# 예측 수행\n",
    "y_pred = model.predict(X_test_scaled)\n",
    "\n",
    "# 모델 평가\n",
    "accuracy = accuracy_score(y_test, y_pred)\n",
    "print(f\"모델 정확도: {accuracy:.2f}\")\n",
    "\n",
    "# 혼동 행렬 시각화\n",
    "conf_matrix = confusion_matrix(y_test, y_pred)\n",
    "sns.heatmap(conf_matrix, annot=True, fmt=\"d\", cmap=\"Blues\")\n",
    "plt.xlabel(\"예측값\")\n",
    "plt.ylabel(\"실제값\")\n",
    "plt.title(\"혼동 행렬\")\n",
    "plt.show()\n",
    "\n",
    "# 분류 보고서 출력\n",
    "print(classification_report(y_test, y_pred))\n"
   ],
   "id": "80cd36712711eb9a",
   "outputs": [
    {
     "name": "stdout",
     "output_type": "stream",
     "text": [
      "모델 정확도: 0.74\n"
     ]
    },
    {
     "data": {
      "text/plain": [
       "<Figure size 640x480 with 2 Axes>"
      ],
      "image/png": "[encoded data removed]"
     },
     "metadata": {},
     "output_type": "display_data"
    },
    {
     "name": "stdout",
     "output_type": "stream",
     "text": [
      "              precision    recall  f1-score   support\n",
      "\n",
      "           0       0.69      0.74      0.72       141\n",
      "           1       0.79      0.74      0.76       179\n",
      "\n",
      "    accuracy                           0.74       320\n",
      "   macro avg       0.74      0.74      0.74       320\n",
      "weighted avg       0.74      0.74      0.74       320\n",
      "\n"
     ]
    }
   ],
   "execution_count": 4
  },
  {
   "metadata": {
    "ExecuteTime": {
     "end_time": "2025-03-07T03:16:10.053801Z",
     "start_time": "2025-03-07T03:16:10.049177Z"
    }
   },
   "cell_type": "code",
   "source": [
    "# 샘플 데이터 3개 생성 (기존 데이터의 평균과 표준편차를 활용하여 생성)\n",
    "sample_data = pd.DataFrame(\n",
    "    [\n",
    "        [7.4, 0.7, 0.0, 1.9, 0.076, 11.0, 34.0, 0.9978, 3.51, 0.56, 9.4],   # 예제 1\n",
    "        [6.3, 0.3, 0.4, 1.5, 0.050, 14.0, 22.0, 0.9932, 3.32, 0.49, 10.0],   # 예제 2\n",
    "        [8.1, 0.4, 0.4, 2.0, 0.080, 6.0, 30.0, 0.9962, 3.30, 0.62, 11.0]    # 예제 3\n",
    "    ],\n",
    "    columns=X.columns  # 원래 학습 데이터와 동일한 열 이름 사용\n",
    ")\n",
    "\n",
    "# 스케일링 적용 (훈련 데이터와 같은 방식으로 변환)\n",
    "sample_data_scaled = scaler.transform(sample_data)\n",
    "\n",
    "# 예측 수행\n",
    "sample_predictions = model.predict(sample_data_scaled)\n",
    "sample_probabilities = model.predict_proba(sample_data_scaled)[:, 1]  # 좋은 와인(1)일 확률\n",
    "\n",
    "# 결과 출력\n",
    "for i, (pred, prob) in enumerate(zip(sample_predictions, sample_probabilities)):\n",
    "    print(f\"샘플 {i+1}: 예측 결과 = {'좋은 와인(1)' if pred == 1 else '나쁜 와인(0)'} (확률: {prob:.2f})\")\n"
   ],
   "id": "62ede466e7798bfb",
   "outputs": [
    {
     "name": "stdout",
     "output_type": "stream",
     "text": [
      "샘플 1: 예측 결과 = 나쁜 와인(0) (확률: 0.22)\n",
      "샘플 2: 예측 결과 = 좋은 와인(1) (확률: 0.58)\n",
      "샘플 3: 예측 결과 = 좋은 와인(1) (확률: 0.71)\n"
     ]
    }
   ],
   "execution_count": 5
  },
  {
   "metadata": {
    "ExecuteTime": {
     "end_time": "2025-03-07T03:16:10.072560Z",
     "start_time": "2025-03-07T03:16:10.070473Z"
    }
   },
   "cell_type": "code",
   "source": "",
   "id": "fd1fe02922d47cb3",
   "outputs": [],
   "execution_count": null
  }
 ],
 "metadata": {
  "kernelspec": {
   "display_name": "Python 3",
   "language": "python",
   "name": "python3"
  },
  "language_info": {
   "codemirror_mode": {
    "name": "ipython",
    "version": 2
   },
   "file_extension": ".py",
   "mimetype": "text/x-python",
   "name": "python",
   "nbconvert_exporter": "python",
   "pygments_lexer": "ipython2",
   "version": "2.7.6"
  }
 },
 "nbformat": 4,
 "nbformat_minor": 5
}
