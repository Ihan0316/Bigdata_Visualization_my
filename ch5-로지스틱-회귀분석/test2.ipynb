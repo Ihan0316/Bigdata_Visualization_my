{
 "cells": [
  {
   "cell_type": "markdown",
   "metadata": {},
   "source": [
    "## 결정 트리 분석 , 시각확 산점도, 선형 회귀 그래프 이용할 예정. \n",
    "### 결정 트리 시각화 (다른 프로그램을 설치해야함. )\n",
    "### 샘플 데이터, 센서 데이터의 움직임 수집한 데이터. \n",
    "### UCI 대학의 연구원들이 몸에 센서달고, 몇일 간 생활을해서, \n",
    "### 움직임을 판단 -> 서있기, 앉기, 눕기, 계단 오르기 등. "
   ]
  },
  {
   "cell_type": "markdown",
   "metadata": {},
   "source": [
    "## 용어정리\n",
    "### 결정 트리 : 머신러닝 알고리즘 중에 하나이고, 다중 분류를 하는데 사용을 많이 함.\n",
    "### 스스로 데이터 안에 특정 규칙을 찾아서 학습하고, 트리 구조 분류 규칙을 만든다. \n",
    "### 규칙 노드, 리프노드(결정노드) \n",
    "### 예) 날개가 있나요? : 규칙노드 \n",
    "###      /True        \\False\n",
    "### 날수있니?    털이 있니? : 규칙 노드 \n",
    "###   /T     \\ F     /T     \\F\n",
    "### 참새   펭귄    다람쥐  개구리 : 결정 노드 \n",
    "\n",
    "### 정보이득지수 : 엔트로피(entropy) 개념을 기반으로함.\n",
    "### 엔트로피 : 데이터 집합의 혼잡도를 의미. \n",
    "### 예) 데이터에 다른 데이터가 섞여서 균일도가 떨어지면 -> 혼잡도가 높다 -> 엔트로피 높다. \n",
    "### 정보이득지수 = 1 - 엔트로피 \n",
    "### 엔트로피 높다 -> 정보이득지수 낮다. -> 데이터가 순수하지 않다. (다른 데이터들이 섞여 있다.)\n",
    "### 엔트로피 낮다 -> 정보이득지수 높다. -> 데이터가 균일도가 높다. -> (다른 데이터들이 많이 섞여 있지 않다..)\n",
    "\n",
    "### 지니계수 : 경제학 용어이고, 소득의 불균형의 정도를 나타 낼 때 사용했고, 우리는 데이터의 순도\n",
    "### 지니계수 높다 -> 순도가 낮은 데이터의 집합 -> 균일도 낮다 -> 엔트로피 높다 -> 다른 데이터들이 섞여 있다.\n",
    "\n",
    "\n",
    "### 사이킷런에서 제공하는 결정 트리 분류 모델의 매개변수 \n",
    "### min_samples_split : 노드를 분할하기 위한 최소 샘플 데이터 갯수 (기본값: 2)\n",
    "### min_samples_leaf : 리프 노드가 되기 위한 최소 샘플 데이터 갯수 \n",
    "### max_features : 최적의 분할을 하기위 한 고려해야할 최대 피처 갯수 (예, 독립변수 ) \n",
    "### None : 모든 피쳐 사용 , int : 사용할 피쳐의 갯수, float : 사용할 피처 개수를 퍼센트 \n",
    "### sqrt : 루트 계산. \n",
    "\n",
    "### max_depth : 트리의 최대 깊이 \n",
    "### max_leaf_nodes : 리프노드(결정 노드 ) 에 들어가는 샘플의 최대 데이터 갯수. \n",
    "\n",
    "### Graphviz 패키지 : 결정 트리를 시각화 하는 도구. "
   ]
  },
  {
   "cell_type": "markdown",
   "metadata": {},
   "source": [
    "### 샘플 데이터 소개: README.txt 상세히 설명이 나옴. \n",
    "### 요약 : 30명의 연구원이 데이터 수집에 참여했고, 삼성 갤럭시 s2 을 착용하고, 6가지 움직임을 실험.\n",
    "### 워킹, 계단 오르기, 계단 내리기, 눕기, 서있기, 앉기 등 \n",
    "### 움직임은 가속계, 자이로스코프 를 이용해서, XYZ 3축에 대한 데이터를 수집. \n"
   ]
  },
  {
   "cell_type": "code",
   "metadata": {
    "ExecuteTime": {
     "end_time": "2025-03-07T00:42:19.891183Z",
     "start_time": "2025-03-07T00:42:19.888565Z"
    }
   },
   "source": [
    "# 샘플 데이터 받아서, 정리해보기.\n",
    "import numpy as np \n",
    "import pandas as pd \n",
    "pd.__version__"
   ],
   "outputs": [
    {
     "data": {
      "text/plain": [
       "'2.2.3'"
      ]
     },
     "execution_count": 1,
     "metadata": {},
     "output_type": "execute_result"
    }
   ],
   "execution_count": 1
  },
  {
   "cell_type": "code",
   "metadata": {
    "ExecuteTime": {
     "end_time": "2025-03-07T00:45:20.150234Z",
     "start_time": "2025-03-07T00:45:20.143319Z"
    }
   },
   "source": [
    "# 피처 이름 읽기\n",
    "# sep=\"\\s+\" -> 하나 이상의 공백을 의미\n",
    "# header=None -> 처음 부터 실제값을 사용하겠다라는 의미. \n",
    "feature_name_df = pd.read_csv(\"./UCI HAR Dataset/features.txt\", sep=\"\\s+\", header=None, names=[\"index\",\"feature_name\"], engine=\"python\")\n",
    "feature_name_df.head()"
   ],
   "outputs": [
    {
     "data": {
      "text/plain": [
       "   index       feature_name\n",
       "0      1  tBodyAcc-mean()-X\n",
       "1      2  tBodyAcc-mean()-Y\n",
       "2      3  tBodyAcc-mean()-Z\n",
       "3      4   tBodyAcc-std()-X\n",
       "4      5   tBodyAcc-std()-Y"
      ],
      "text/html": [
       "<div>\n",
       "<style scoped>\n",
       "    .dataframe tbody tr th:only-of-type {\n",
       "        vertical-align: middle;\n",
       "    }\n",
       "\n",
       "    .dataframe tbody tr th {\n",
       "        vertical-align: top;\n",
       "    }\n",
       "\n",
       "    .dataframe thead th {\n",
       "        text-align: right;\n",
       "    }\n",
       "</style>\n",
       "<table border=\"1\" class=\"dataframe\">\n",
       "  <thead>\n",
       "    <tr style=\"text-align: right;\">\n",
       "      <th></th>\n",
       "      <th>index</th>\n",
       "      <th>feature_name</th>\n",
       "    </tr>\n",
       "  </thead>\n",
       "  <tbody>\n",
       "    <tr>\n",
       "      <th>0</th>\n",
       "      <td>1</td>\n",
       "      <td>tBodyAcc-mean()-X</td>\n",
       "    </tr>\n",
       "    <tr>\n",
       "      <th>1</th>\n",
       "      <td>2</td>\n",
       "      <td>tBodyAcc-mean()-Y</td>\n",
       "    </tr>\n",
       "    <tr>\n",
       "      <th>2</th>\n",
       "      <td>3</td>\n",
       "      <td>tBodyAcc-mean()-Z</td>\n",
       "    </tr>\n",
       "    <tr>\n",
       "      <th>3</th>\n",
       "      <td>4</td>\n",
       "      <td>tBodyAcc-std()-X</td>\n",
       "    </tr>\n",
       "    <tr>\n",
       "      <th>4</th>\n",
       "      <td>5</td>\n",
       "      <td>tBodyAcc-std()-Y</td>\n",
       "    </tr>\n",
       "  </tbody>\n",
       "</table>\n",
       "</div>"
      ]
     },
     "execution_count": 2,
     "metadata": {},
     "output_type": "execute_result"
    }
   ],
   "execution_count": 2
  },
  {
   "cell_type": "code",
   "metadata": {
    "ExecuteTime": {
     "end_time": "2025-03-07T00:45:35.591832Z",
     "start_time": "2025-03-07T00:45:35.589611Z"
    }
   },
   "source": [
    "# 데이터 갯수 조회 \n",
    "feature_name_df.shape"
   ],
   "outputs": [
    {
     "data": {
      "text/plain": [
       "(561, 2)"
      ]
     },
     "execution_count": 3,
     "metadata": {},
     "output_type": "execute_result"
    }
   ],
   "execution_count": 3
  },
  {
   "cell_type": "code",
   "metadata": {
    "ExecuteTime": {
     "end_time": "2025-03-07T00:46:14.231840Z",
     "start_time": "2025-03-07T00:46:14.229307Z"
    }
   },
   "source": [
    "# 해당 피쳐 이름만 추출해보기. \n",
    "feature_name = feature_name_df.iloc[:,1].values.tolist()\n",
    "# head() 함수와 동일한 기능.\n",
    "feature_name[:5]"
   ],
   "outputs": [
    {
     "data": {
      "text/plain": [
       "['tBodyAcc-mean()-X',\n",
       " 'tBodyAcc-mean()-Y',\n",
       " 'tBodyAcc-mean()-Z',\n",
       " 'tBodyAcc-std()-X',\n",
       " 'tBodyAcc-std()-Y']"
      ]
     },
     "execution_count": 4,
     "metadata": {},
     "output_type": "execute_result"
    }
   ],
   "execution_count": 4
  },
  {
   "cell_type": "code",
   "metadata": {
    "ExecuteTime": {
     "end_time": "2025-03-07T00:47:34.377864Z",
     "start_time": "2025-03-07T00:47:33.150766Z"
    }
   },
   "source": [
    "# 샘플 데이터의 학습용 데이터, 평가용 데이터를 , 로드해서, 메모리상에 불러오기. \n",
    "X_train = pd.read_csv(\"./UCI HAR Dataset/train/X_train.txt\",sep=\"\\s+\", header=None, engine=\"python\")\n",
    "X_train.shape"
   ],
   "outputs": [
    {
     "data": {
      "text/plain": [
       "(7352, 561)"
      ]
     },
     "execution_count": 5,
     "metadata": {},
     "output_type": "execute_result"
    }
   ],
   "execution_count": 5
  },
  {
   "cell_type": "code",
   "metadata": {
    "ExecuteTime": {
     "end_time": "2025-03-07T00:47:55.846152Z",
     "start_time": "2025-03-07T00:47:55.837480Z"
    }
   },
   "source": [
    "# 샘플 데이터의 학습용 데이터, 평가용 데이터를 , 로드해서, 메모리상에 불러오기. \n",
    "Y_train = pd.read_csv(\"./UCI HAR Dataset/train/y_train.txt\",sep=\"\\s+\", header=None, names=[\"action\"],engine=\"python\")\n",
    "Y_train.shape"
   ],
   "outputs": [
    {
     "data": {
      "text/plain": [
       "(7352, 1)"
      ]
     },
     "execution_count": 6,
     "metadata": {},
     "output_type": "execute_result"
    }
   ],
   "execution_count": 6
  },
  {
   "cell_type": "code",
   "metadata": {
    "ExecuteTime": {
     "end_time": "2025-03-07T00:48:07.330862Z",
     "start_time": "2025-03-07T00:48:06.846753Z"
    }
   },
   "source": [
    "# 샘플 데이터의 학습용 데이터, 평가용 데이터를 , 로드해서, 메모리상에 불러오기. \n",
    "X_test = pd.read_csv(\"./UCI HAR Dataset/test/X_test.txt\",sep=\"\\s+\", header=None, engine=\"python\")\n",
    "X_test.shape"
   ],
   "outputs": [
    {
     "data": {
      "text/plain": [
       "(2947, 561)"
      ]
     },
     "execution_count": 7,
     "metadata": {},
     "output_type": "execute_result"
    }
   ],
   "execution_count": 7
  },
  {
   "cell_type": "code",
   "metadata": {
    "ExecuteTime": {
     "end_time": "2025-03-07T00:48:09.764984Z",
     "start_time": "2025-03-07T00:48:09.759037Z"
    }
   },
   "source": [
    "Y_test = pd.read_csv(\"./UCI HAR Dataset/test/y_test.txt\",sep=\"\\s+\", header=None,names=[\"action\"], engine=\"python\")\n",
    "Y_test.shape"
   ],
   "outputs": [
    {
     "data": {
      "text/plain": [
       "(2947, 1)"
      ]
     },
     "execution_count": 8,
     "metadata": {},
     "output_type": "execute_result"
    }
   ],
   "execution_count": 8
  },
  {
   "cell_type": "code",
   "metadata": {
    "ExecuteTime": {
     "end_time": "2025-03-07T00:48:19.833753Z",
     "start_time": "2025-03-07T00:48:19.831850Z"
    }
   },
   "source": [
    "# train, test 의 컬럼 달기. \n",
    "X_train.columns = feature_name\n",
    "X_test.columns = feature_name\n"
   ],
   "outputs": [],
   "execution_count": 9
  },
  {
   "cell_type": "code",
   "metadata": {
    "ExecuteTime": {
     "end_time": "2025-03-07T00:48:22.683336Z",
     "start_time": "2025-03-07T00:48:22.674681Z"
    }
   },
   "source": [
    "# X_train , 상위 5개 조회 \n",
    "X_train.head()"
   ],
   "outputs": [
    {
     "data": {
      "text/plain": [
       "   tBodyAcc-mean()-X  tBodyAcc-mean()-Y  tBodyAcc-mean()-Z  tBodyAcc-std()-X  \\\n",
       "0           0.288585          -0.020294          -0.132905         -0.995279   \n",
       "1           0.278419          -0.016411          -0.123520         -0.998245   \n",
       "2           0.279653          -0.019467          -0.113462         -0.995380   \n",
       "3           0.279174          -0.026201          -0.123283         -0.996091   \n",
       "4           0.276629          -0.016570          -0.115362         -0.998139   \n",
       "\n",
       "   tBodyAcc-std()-Y  tBodyAcc-std()-Z  tBodyAcc-mad()-X  tBodyAcc-mad()-Y  \\\n",
       "0         -0.983111         -0.913526         -0.995112         -0.983185   \n",
       "1         -0.975300         -0.960322         -0.998807         -0.974914   \n",
       "2         -0.967187         -0.978944         -0.996520         -0.963668   \n",
       "3         -0.983403         -0.990675         -0.997099         -0.982750   \n",
       "4         -0.980817         -0.990482         -0.998321         -0.979672   \n",
       "\n",
       "   tBodyAcc-mad()-Z  tBodyAcc-max()-X  ...  fBodyBodyGyroJerkMag-meanFreq()  \\\n",
       "0         -0.923527         -0.934724  ...                        -0.074323   \n",
       "1         -0.957686         -0.943068  ...                         0.158075   \n",
       "2         -0.977469         -0.938692  ...                         0.414503   \n",
       "3         -0.989302         -0.938692  ...                         0.404573   \n",
       "4         -0.990441         -0.942469  ...                         0.087753   \n",
       "\n",
       "   fBodyBodyGyroJerkMag-skewness()  fBodyBodyGyroJerkMag-kurtosis()  \\\n",
       "0                        -0.298676                        -0.710304   \n",
       "1                        -0.595051                        -0.861499   \n",
       "2                        -0.390748                        -0.760104   \n",
       "3                        -0.117290                        -0.482845   \n",
       "4                        -0.351471                        -0.699205   \n",
       "\n",
       "   angle(tBodyAccMean,gravity)  angle(tBodyAccJerkMean),gravityMean)  \\\n",
       "0                    -0.112754                              0.030400   \n",
       "1                     0.053477                             -0.007435   \n",
       "2                    -0.118559                              0.177899   \n",
       "3                    -0.036788                             -0.012892   \n",
       "4                     0.123320                              0.122542   \n",
       "\n",
       "   angle(tBodyGyroMean,gravityMean)  angle(tBodyGyroJerkMean,gravityMean)  \\\n",
       "0                         -0.464761                             -0.018446   \n",
       "1                         -0.732626                              0.703511   \n",
       "2                          0.100699                              0.808529   \n",
       "3                          0.640011                             -0.485366   \n",
       "4                          0.693578                             -0.615971   \n",
       "\n",
       "   angle(X,gravityMean)  angle(Y,gravityMean)  angle(Z,gravityMean)  \n",
       "0             -0.841247              0.179941             -0.058627  \n",
       "1             -0.844788              0.180289             -0.054317  \n",
       "2             -0.848933              0.180637             -0.049118  \n",
       "3             -0.848649              0.181935             -0.047663  \n",
       "4             -0.847865              0.185151             -0.043892  \n",
       "\n",
       "[5 rows x 561 columns]"
      ],
      "text/html": [
       "<div>\n",
       "<style scoped>\n",
       "    .dataframe tbody tr th:only-of-type {\n",
       "        vertical-align: middle;\n",
       "    }\n",
       "\n",
       "    .dataframe tbody tr th {\n",
       "        vertical-align: top;\n",
       "    }\n",
       "\n",
       "    .dataframe thead th {\n",
       "        text-align: right;\n",
       "    }\n",
       "</style>\n",
       "<table border=\"1\" class=\"dataframe\">\n",
       "  <thead>\n",
       "    <tr style=\"text-align: right;\">\n",
       "      <th></th>\n",
       "      <th>tBodyAcc-mean()-X</th>\n",
       "      <th>tBodyAcc-mean()-Y</th>\n",
       "      <th>tBodyAcc-mean()-Z</th>\n",
       "      <th>tBodyAcc-std()-X</th>\n",
       "      <th>tBodyAcc-std()-Y</th>\n",
       "      <th>tBodyAcc-std()-Z</th>\n",
       "      <th>tBodyAcc-mad()-X</th>\n",
       "      <th>tBodyAcc-mad()-Y</th>\n",
       "      <th>tBodyAcc-mad()-Z</th>\n",
       "      <th>tBodyAcc-max()-X</th>\n",
       "      <th>...</th>\n",
       "      <th>fBodyBodyGyroJerkMag-meanFreq()</th>\n",
       "      <th>fBodyBodyGyroJerkMag-skewness()</th>\n",
       "      <th>fBodyBodyGyroJerkMag-kurtosis()</th>\n",
       "      <th>angle(tBodyAccMean,gravity)</th>\n",
       "      <th>angle(tBodyAccJerkMean),gravityMean)</th>\n",
       "      <th>angle(tBodyGyroMean,gravityMean)</th>\n",
       "      <th>angle(tBodyGyroJerkMean,gravityMean)</th>\n",
       "      <th>angle(X,gravityMean)</th>\n",
       "      <th>angle(Y,gravityMean)</th>\n",
       "      <th>angle(Z,gravityMean)</th>\n",
       "    </tr>\n",
       "  </thead>\n",
       "  <tbody>\n",
       "    <tr>\n",
       "      <th>0</th>\n",
       "      <td>0.288585</td>\n",
       "      <td>-0.020294</td>\n",
       "      <td>-0.132905</td>\n",
       "      <td>-0.995279</td>\n",
       "      <td>-0.983111</td>\n",
       "      <td>-0.913526</td>\n",
       "      <td>-0.995112</td>\n",
       "      <td>-0.983185</td>\n",
       "      <td>-0.923527</td>\n",
       "      <td>-0.934724</td>\n",
       "      <td>...</td>\n",
       "      <td>-0.074323</td>\n",
       "      <td>-0.298676</td>\n",
       "      <td>-0.710304</td>\n",
       "      <td>-0.112754</td>\n",
       "      <td>0.030400</td>\n",
       "      <td>-0.464761</td>\n",
       "      <td>-0.018446</td>\n",
       "      <td>-0.841247</td>\n",
       "      <td>0.179941</td>\n",
       "      <td>-0.058627</td>\n",
       "    </tr>\n",
       "    <tr>\n",
       "      <th>1</th>\n",
       "      <td>0.278419</td>\n",
       "      <td>-0.016411</td>\n",
       "      <td>-0.123520</td>\n",
       "      <td>-0.998245</td>\n",
       "      <td>-0.975300</td>\n",
       "      <td>-0.960322</td>\n",
       "      <td>-0.998807</td>\n",
       "      <td>-0.974914</td>\n",
       "      <td>-0.957686</td>\n",
       "      <td>-0.943068</td>\n",
       "      <td>...</td>\n",
       "      <td>0.158075</td>\n",
       "      <td>-0.595051</td>\n",
       "      <td>-0.861499</td>\n",
       "      <td>0.053477</td>\n",
       "      <td>-0.007435</td>\n",
       "      <td>-0.732626</td>\n",
       "      <td>0.703511</td>\n",
       "      <td>-0.844788</td>\n",
       "      <td>0.180289</td>\n",
       "      <td>-0.054317</td>\n",
       "    </tr>\n",
       "    <tr>\n",
       "      <th>2</th>\n",
       "      <td>0.279653</td>\n",
       "      <td>-0.019467</td>\n",
       "      <td>-0.113462</td>\n",
       "      <td>-0.995380</td>\n",
       "      <td>-0.967187</td>\n",
       "      <td>-0.978944</td>\n",
       "      <td>-0.996520</td>\n",
       "      <td>-0.963668</td>\n",
       "      <td>-0.977469</td>\n",
       "      <td>-0.938692</td>\n",
       "      <td>...</td>\n",
       "      <td>0.414503</td>\n",
       "      <td>-0.390748</td>\n",
       "      <td>-0.760104</td>\n",
       "      <td>-0.118559</td>\n",
       "      <td>0.177899</td>\n",
       "      <td>0.100699</td>\n",
       "      <td>0.808529</td>\n",
       "      <td>-0.848933</td>\n",
       "      <td>0.180637</td>\n",
       "      <td>-0.049118</td>\n",
       "    </tr>\n",
       "    <tr>\n",
       "      <th>3</th>\n",
       "      <td>0.279174</td>\n",
       "      <td>-0.026201</td>\n",
       "      <td>-0.123283</td>\n",
       "      <td>-0.996091</td>\n",
       "      <td>-0.983403</td>\n",
       "      <td>-0.990675</td>\n",
       "      <td>-0.997099</td>\n",
       "      <td>-0.982750</td>\n",
       "      <td>-0.989302</td>\n",
       "      <td>-0.938692</td>\n",
       "      <td>...</td>\n",
       "      <td>0.404573</td>\n",
       "      <td>-0.117290</td>\n",
       "      <td>-0.482845</td>\n",
       "      <td>-0.036788</td>\n",
       "      <td>-0.012892</td>\n",
       "      <td>0.640011</td>\n",
       "      <td>-0.485366</td>\n",
       "      <td>-0.848649</td>\n",
       "      <td>0.181935</td>\n",
       "      <td>-0.047663</td>\n",
       "    </tr>\n",
       "    <tr>\n",
       "      <th>4</th>\n",
       "      <td>0.276629</td>\n",
       "      <td>-0.016570</td>\n",
       "      <td>-0.115362</td>\n",
       "      <td>-0.998139</td>\n",
       "      <td>-0.980817</td>\n",
       "      <td>-0.990482</td>\n",
       "      <td>-0.998321</td>\n",
       "      <td>-0.979672</td>\n",
       "      <td>-0.990441</td>\n",
       "      <td>-0.942469</td>\n",
       "      <td>...</td>\n",
       "      <td>0.087753</td>\n",
       "      <td>-0.351471</td>\n",
       "      <td>-0.699205</td>\n",
       "      <td>0.123320</td>\n",
       "      <td>0.122542</td>\n",
       "      <td>0.693578</td>\n",
       "      <td>-0.615971</td>\n",
       "      <td>-0.847865</td>\n",
       "      <td>0.185151</td>\n",
       "      <td>-0.043892</td>\n",
       "    </tr>\n",
       "  </tbody>\n",
       "</table>\n",
       "<p>5 rows × 561 columns</p>\n",
       "</div>"
      ]
     },
     "execution_count": 10,
     "metadata": {},
     "output_type": "execute_result"
    }
   ],
   "execution_count": 10
  },
  {
   "cell_type": "code",
   "metadata": {
    "ExecuteTime": {
     "end_time": "2025-03-07T00:48:26.382769Z",
     "start_time": "2025-03-07T00:48:26.380117Z"
    }
   },
   "source": [
    "# Y_train 값 조회 \n",
    "# Y_train_value_count= Y_train[\"action\"].value_counts()\n",
    "print(f\"Y_train['action'].value_counts() : \\n {Y_train['action'].value_counts()}\")"
   ],
   "outputs": [
    {
     "name": "stdout",
     "output_type": "stream",
     "text": [
      "Y_train['action'].value_counts() : \n",
      " action\n",
      "6    1407\n",
      "5    1374\n",
      "4    1286\n",
      "1    1226\n",
      "2    1073\n",
      "3     986\n",
      "Name: count, dtype: int64\n"
     ]
    }
   ],
   "execution_count": 11
  },
  {
   "cell_type": "code",
   "metadata": {
    "ExecuteTime": {
     "end_time": "2025-03-07T00:48:42.279375Z",
     "start_time": "2025-03-07T00:48:42.275090Z"
    }
   },
   "source": [
    "# 움직임의 6가지 라벨링 불러오기. \n",
    "label_name_df = pd.read_csv(\"./UCI HAR Dataset/activity_labels.txt\", sep=\"\\s+\", header=None ,\n",
    "                            names=[\"index\",\"label\"], engine=\"python\")\n",
    "label_name_df.head()"
   ],
   "outputs": [
    {
     "data": {
      "text/plain": [
       "   index               label\n",
       "0      1             WALKING\n",
       "1      2    WALKING_UPSTAIRS\n",
       "2      3  WALKING_DOWNSTAIRS\n",
       "3      4             SITTING\n",
       "4      5            STANDING"
      ],
      "text/html": [
       "<div>\n",
       "<style scoped>\n",
       "    .dataframe tbody tr th:only-of-type {\n",
       "        vertical-align: middle;\n",
       "    }\n",
       "\n",
       "    .dataframe tbody tr th {\n",
       "        vertical-align: top;\n",
       "    }\n",
       "\n",
       "    .dataframe thead th {\n",
       "        text-align: right;\n",
       "    }\n",
       "</style>\n",
       "<table border=\"1\" class=\"dataframe\">\n",
       "  <thead>\n",
       "    <tr style=\"text-align: right;\">\n",
       "      <th></th>\n",
       "      <th>index</th>\n",
       "      <th>label</th>\n",
       "    </tr>\n",
       "  </thead>\n",
       "  <tbody>\n",
       "    <tr>\n",
       "      <th>0</th>\n",
       "      <td>1</td>\n",
       "      <td>WALKING</td>\n",
       "    </tr>\n",
       "    <tr>\n",
       "      <th>1</th>\n",
       "      <td>2</td>\n",
       "      <td>WALKING_UPSTAIRS</td>\n",
       "    </tr>\n",
       "    <tr>\n",
       "      <th>2</th>\n",
       "      <td>3</td>\n",
       "      <td>WALKING_DOWNSTAIRS</td>\n",
       "    </tr>\n",
       "    <tr>\n",
       "      <th>3</th>\n",
       "      <td>4</td>\n",
       "      <td>SITTING</td>\n",
       "    </tr>\n",
       "    <tr>\n",
       "      <th>4</th>\n",
       "      <td>5</td>\n",
       "      <td>STANDING</td>\n",
       "    </tr>\n",
       "  </tbody>\n",
       "</table>\n",
       "</div>"
      ]
     },
     "execution_count": 12,
     "metadata": {},
     "output_type": "execute_result"
    }
   ],
   "execution_count": 12
  },
  {
   "cell_type": "code",
   "metadata": {
    "ExecuteTime": {
     "end_time": "2025-03-07T00:48:49.140014Z",
     "start_time": "2025-03-07T00:48:49.137454Z"
    }
   },
   "source": [
    "# 인덱스 제거 \n",
    "label_name = label_name_df.iloc[:,1].values.tolist()\n",
    "label_name"
   ],
   "outputs": [
    {
     "data": {
      "text/plain": [
       "['WALKING',\n",
       " 'WALKING_UPSTAIRS',\n",
       " 'WALKING_DOWNSTAIRS',\n",
       " 'SITTING',\n",
       " 'STANDING',\n",
       " 'LAYING']"
      ]
     },
     "execution_count": 13,
     "metadata": {},
     "output_type": "execute_result"
    }
   ],
   "execution_count": 13
  },
  {
   "cell_type": "code",
   "metadata": {
    "ExecuteTime": {
     "end_time": "2025-03-07T01:02:21.084021Z",
     "start_time": "2025-03-07T01:02:21.082193Z"
    }
   },
   "source": [
    "# 분석 모델 구축\n",
    "from sklearn.tree import DecisionTreeClassifier"
   ],
   "outputs": [],
   "execution_count": 18
  },
  {
   "cell_type": "code",
   "metadata": {
    "ExecuteTime": {
     "end_time": "2025-03-07T01:02:22.643275Z",
     "start_time": "2025-03-07T01:02:22.641378Z"
    }
   },
   "source": [
    "# 모델 불러오기\n",
    "dt_HAR = DecisionTreeClassifier()\n"
   ],
   "outputs": [],
   "execution_count": 19
  },
  {
   "cell_type": "code",
   "metadata": {
    "ExecuteTime": {
     "end_time": "2025-03-07T01:02:27.777297Z",
     "start_time": "2025-03-07T01:02:25.662067Z"
    }
   },
   "source": [
    "# 모델 훈련(학습 시키기)\n",
    "dt_HAR.fit(X_train, Y_train)"
   ],
   "outputs": [
    {
     "data": {
      "text/plain": [
       "DecisionTreeClassifier()"
      ],
      "text/html": [
       "<style>#sk-container-id-1 {color: black;background-color: white;}#sk-container-id-1 pre{padding: 0;}#sk-container-id-1 div.sk-toggleable {background-color: white;}#sk-container-id-1 label.sk-toggleable__label {cursor: pointer;display: block;width: 100%;margin-bottom: 0;padding: 0.3em;box-sizing: border-box;text-align: center;}#sk-container-id-1 label.sk-toggleable__label-arrow:before {content: \"▸\";float: left;margin-right: 0.25em;color: #696969;}#sk-container-id-1 label.sk-toggleable__label-arrow:hover:before {color: black;}#sk-container-id-1 div.sk-estimator:hover label.sk-toggleable__label-arrow:before {color: black;}#sk-container-id-1 div.sk-toggleable__content {max-height: 0;max-width: 0;overflow: hidden;text-align: left;background-color: #f0f8ff;}#sk-container-id-1 div.sk-toggleable__content pre {margin: 0.2em;color: black;border-radius: 0.25em;background-color: #f0f8ff;}#sk-container-id-1 input.sk-toggleable__control:checked~div.sk-toggleable__content {max-height: 200px;max-width: 100%;overflow: auto;}#sk-container-id-1 input.sk-toggleable__control:checked~label.sk-toggleable__label-arrow:before {content: \"▾\";}#sk-container-id-1 div.sk-estimator input.sk-toggleable__control:checked~label.sk-toggleable__label {background-color: #d4ebff;}#sk-container-id-1 div.sk-label input.sk-toggleable__control:checked~label.sk-toggleable__label {background-color: #d4ebff;}#sk-container-id-1 input.sk-hidden--visually {border: 0;clip: rect(1px 1px 1px 1px);clip: rect(1px, 1px, 1px, 1px);height: 1px;margin: -1px;overflow: hidden;padding: 0;position: absolute;width: 1px;}#sk-container-id-1 div.sk-estimator {font-family: monospace;background-color: #f0f8ff;border: 1px dotted black;border-radius: 0.25em;box-sizing: border-box;margin-bottom: 0.5em;}#sk-container-id-1 div.sk-estimator:hover {background-color: #d4ebff;}#sk-container-id-1 div.sk-parallel-item::after {content: \"\";width: 100%;border-bottom: 1px solid gray;flex-grow: 1;}#sk-container-id-1 div.sk-label:hover label.sk-toggleable__label {background-color: #d4ebff;}#sk-container-id-1 div.sk-serial::before {content: \"\";position: absolute;border-left: 1px solid gray;box-sizing: border-box;top: 0;bottom: 0;left: 50%;z-index: 0;}#sk-container-id-1 div.sk-serial {display: flex;flex-direction: column;align-items: center;background-color: white;padding-right: 0.2em;padding-left: 0.2em;position: relative;}#sk-container-id-1 div.sk-item {position: relative;z-index: 1;}#sk-container-id-1 div.sk-parallel {display: flex;align-items: stretch;justify-content: center;background-color: white;position: relative;}#sk-container-id-1 div.sk-item::before, #sk-container-id-1 div.sk-parallel-item::before {content: \"\";position: absolute;border-left: 1px solid gray;box-sizing: border-box;top: 0;bottom: 0;left: 50%;z-index: -1;}#sk-container-id-1 div.sk-parallel-item {display: flex;flex-direction: column;z-index: 1;position: relative;background-color: white;}#sk-container-id-1 div.sk-parallel-item:first-child::after {align-self: flex-end;width: 50%;}#sk-container-id-1 div.sk-parallel-item:last-child::after {align-self: flex-start;width: 50%;}#sk-container-id-1 div.sk-parallel-item:only-child::after {width: 0;}#sk-container-id-1 div.sk-dashed-wrapped {border: 1px dashed gray;margin: 0 0.4em 0.5em 0.4em;box-sizing: border-box;padding-bottom: 0.4em;background-color: white;}#sk-container-id-1 div.sk-label label {font-family: monospace;font-weight: bold;display: inline-block;line-height: 1.2em;}#sk-container-id-1 div.sk-label-container {text-align: center;}#sk-container-id-1 div.sk-container {/* jupyter's `normalize.less` sets `[hidden] { display: none; }` but bootstrap.min.css set `[hidden] { display: none !important; }` so we also need the `!important` here to be able to override the default hidden behavior on the sphinx rendered scikit-learn.org. See: https://github.com/scikit-learn/scikit-learn/issues/21755 */display: inline-block !important;position: relative;}#sk-container-id-1 div.sk-text-repr-fallback {display: none;}</style><div id=\"sk-container-id-1\" class=\"sk-top-container\"><div class=\"sk-text-repr-fallback\"><pre>DecisionTreeClassifier()</pre><b>In a Jupyter environment, please rerun this cell to show the HTML representation or trust the notebook. <br />On GitHub, the HTML representation is unable to render, please try loading this page with nbviewer.org.</b></div><div class=\"sk-container\" hidden><div class=\"sk-item\"><div class=\"sk-estimator sk-toggleable\"><input class=\"sk-toggleable__control sk-hidden--visually\" id=\"sk-estimator-id-1\" type=\"checkbox\" checked><label for=\"sk-estimator-id-1\" class=\"sk-toggleable__label sk-toggleable__label-arrow\">DecisionTreeClassifier</label><div class=\"sk-toggleable__content\"><pre>DecisionTreeClassifier()</pre></div></div></div></div></div>"
      ]
     },
     "execution_count": 20,
     "metadata": {},
     "output_type": "execute_result"
    }
   ],
   "execution_count": 20
  },
  {
   "cell_type": "code",
   "metadata": {
    "ExecuteTime": {
     "end_time": "2025-03-07T01:03:01.297716Z",
     "start_time": "2025-03-07T01:03:01.290933Z"
    }
   },
   "source": [
    "# 학습 된 모델을 이용해서, 평가하기(예측값 구하기.)\n",
    "Y_predict = dt_HAR.predict(X_test)"
   ],
   "outputs": [],
   "execution_count": 21
  },
  {
   "cell_type": "code",
   "metadata": {
    "ExecuteTime": {
     "end_time": "2025-03-07T01:03:05.954401Z",
     "start_time": "2025-03-07T01:03:05.951174Z"
    }
   },
   "source": [
    "# 정확도 측정 해보기. \n",
    "from sklearn.metrics import accuracy_score\n",
    "\n",
    "accuracy = accuracy_score(Y_test, Y_predict)\n",
    "print(f\"accuracy 정확도 : {accuracy}\")\n",
    "print(\"accuracy 정확도: {0:.4f}\".format(accuracy))"
   ],
   "outputs": [
    {
     "name": "stdout",
     "output_type": "stream",
     "text": [
      "accuracy 정확도 : 0.8608754665761792\n",
      "accuracy 정확도: 0.8609\n"
     ]
    }
   ],
   "execution_count": 22
  },
  {
   "cell_type": "code",
   "metadata": {
    "ExecuteTime": {
     "end_time": "2025-03-07T01:03:22.333120Z",
     "start_time": "2025-03-07T01:03:22.330573Z"
    }
   },
   "source": [
    "# 결정 트리의 하이퍼 매개변수의 기본정보 -> gini 정보 지수 확인용 \n",
    "# 'criterion': 'gini', 분할 기준이 지니 계수를 이용한다. \n",
    "print(\"결정 트리의 하이퍼 매개변수의 기본정보 : \", dt_HAR.get_params())"
   ],
   "outputs": [
    {
     "name": "stdout",
     "output_type": "stream",
     "text": [
      "결정 트리의 하이퍼 매개변수의 기본정보 :  {'ccp_alpha': 0.0, 'class_weight': None, 'criterion': 'gini', 'max_depth': None, 'max_features': None, 'max_leaf_nodes': None, 'min_impurity_decrease': 0.0, 'min_samples_leaf': 1, 'min_samples_split': 2, 'min_weight_fraction_leaf': 0.0, 'random_state': None, 'splitter': 'best'}\n"
     ]
    }
   ],
   "execution_count": 23
  },
  {
   "cell_type": "code",
   "metadata": {
    "ExecuteTime": {
     "end_time": "2025-03-07T01:04:56.507269Z",
     "start_time": "2025-03-07T01:04:09.950591Z"
    }
   },
   "source": [
    "# 해당 정보를 이용해서, 기본 그래프 확인.\n",
    "# 결정트리 시각화 툴 설치해서, 확인 해보기.\n",
    "from sklearn.model_selection import GridSearchCV\n",
    "\n",
    "# 규칙 노드와, 결정 노드 사이의 깊이를 임의로 정해서, 모델에게 넘겨주기\n",
    "# 모델은 전달받은 깊이를 스스로 학습해서, 최적의 깊이를 찾기.\n",
    "params = {\n",
    "  \"max_depth\" : [6,8,10,12,16,20,24]\n",
    "}\n",
    "# scoring=\"accuracy\" -> 정확도 기준\n",
    "# cv=5 -> 교차 검증 분할수 5번, 4개의 훈련셋 , 1개의 검증 , 5번 반복\n",
    "# return_train_score= True -> 훈련 데이터에 대한 성능 점수를 반환 받겠다. \n",
    "grid_cv = GridSearchCV(dt_HAR, param_grid=params, scoring=\"accuracy\", cv=5, return_train_score= True)\n",
    "\n",
    "# 교차 검증을 이용해서, 모델에 학습 시키기 \n",
    "grid_cv.fit(X_train,Y_train)\n",
    "\n",
    "#"
   ],
   "outputs": [
    {
     "data": {
      "text/plain": [
       "GridSearchCV(cv=5, estimator=DecisionTreeClassifier(),\n",
       "             param_grid={'max_depth': [6, 8, 10, 12, 16, 20, 24]},\n",
       "             return_train_score=True, scoring='accuracy')"
      ],
      "text/html": [
       "<style>#sk-container-id-2 {color: black;background-color: white;}#sk-container-id-2 pre{padding: 0;}#sk-container-id-2 div.sk-toggleable {background-color: white;}#sk-container-id-2 label.sk-toggleable__label {cursor: pointer;display: block;width: 100%;margin-bottom: 0;padding: 0.3em;box-sizing: border-box;text-align: center;}#sk-container-id-2 label.sk-toggleable__label-arrow:before {content: \"▸\";float: left;margin-right: 0.25em;color: #696969;}#sk-container-id-2 label.sk-toggleable__label-arrow:hover:before {color: black;}#sk-container-id-2 div.sk-estimator:hover label.sk-toggleable__label-arrow:before {color: black;}#sk-container-id-2 div.sk-toggleable__content {max-height: 0;max-width: 0;overflow: hidden;text-align: left;background-color: #f0f8ff;}#sk-container-id-2 div.sk-toggleable__content pre {margin: 0.2em;color: black;border-radius: 0.25em;background-color: #f0f8ff;}#sk-container-id-2 input.sk-toggleable__control:checked~div.sk-toggleable__content {max-height: 200px;max-width: 100%;overflow: auto;}#sk-container-id-2 input.sk-toggleable__control:checked~label.sk-toggleable__label-arrow:before {content: \"▾\";}#sk-container-id-2 div.sk-estimator input.sk-toggleable__control:checked~label.sk-toggleable__label {background-color: #d4ebff;}#sk-container-id-2 div.sk-label input.sk-toggleable__control:checked~label.sk-toggleable__label {background-color: #d4ebff;}#sk-container-id-2 input.sk-hidden--visually {border: 0;clip: rect(1px 1px 1px 1px);clip: rect(1px, 1px, 1px, 1px);height: 1px;margin: -1px;overflow: hidden;padding: 0;position: absolute;width: 1px;}#sk-container-id-2 div.sk-estimator {font-family: monospace;background-color: #f0f8ff;border: 1px dotted black;border-radius: 0.25em;box-sizing: border-box;margin-bottom: 0.5em;}#sk-container-id-2 div.sk-estimator:hover {background-color: #d4ebff;}#sk-container-id-2 div.sk-parallel-item::after {content: \"\";width: 100%;border-bottom: 1px solid gray;flex-grow: 1;}#sk-container-id-2 div.sk-label:hover label.sk-toggleable__label {background-color: #d4ebff;}#sk-container-id-2 div.sk-serial::before {content: \"\";position: absolute;border-left: 1px solid gray;box-sizing: border-box;top: 0;bottom: 0;left: 50%;z-index: 0;}#sk-container-id-2 div.sk-serial {display: flex;flex-direction: column;align-items: center;background-color: white;padding-right: 0.2em;padding-left: 0.2em;position: relative;}#sk-container-id-2 div.sk-item {position: relative;z-index: 1;}#sk-container-id-2 div.sk-parallel {display: flex;align-items: stretch;justify-content: center;background-color: white;position: relative;}#sk-container-id-2 div.sk-item::before, #sk-container-id-2 div.sk-parallel-item::before {content: \"\";position: absolute;border-left: 1px solid gray;box-sizing: border-box;top: 0;bottom: 0;left: 50%;z-index: -1;}#sk-container-id-2 div.sk-parallel-item {display: flex;flex-direction: column;z-index: 1;position: relative;background-color: white;}#sk-container-id-2 div.sk-parallel-item:first-child::after {align-self: flex-end;width: 50%;}#sk-container-id-2 div.sk-parallel-item:last-child::after {align-self: flex-start;width: 50%;}#sk-container-id-2 div.sk-parallel-item:only-child::after {width: 0;}#sk-container-id-2 div.sk-dashed-wrapped {border: 1px dashed gray;margin: 0 0.4em 0.5em 0.4em;box-sizing: border-box;padding-bottom: 0.4em;background-color: white;}#sk-container-id-2 div.sk-label label {font-family: monospace;font-weight: bold;display: inline-block;line-height: 1.2em;}#sk-container-id-2 div.sk-label-container {text-align: center;}#sk-container-id-2 div.sk-container {/* jupyter's `normalize.less` sets `[hidden] { display: none; }` but bootstrap.min.css set `[hidden] { display: none !important; }` so we also need the `!important` here to be able to override the default hidden behavior on the sphinx rendered scikit-learn.org. See: https://github.com/scikit-learn/scikit-learn/issues/21755 */display: inline-block !important;position: relative;}#sk-container-id-2 div.sk-text-repr-fallback {display: none;}</style><div id=\"sk-container-id-2\" class=\"sk-top-container\"><div class=\"sk-text-repr-fallback\"><pre>GridSearchCV(cv=5, estimator=DecisionTreeClassifier(),\n",
       "             param_grid={&#x27;max_depth&#x27;: [6, 8, 10, 12, 16, 20, 24]},\n",
       "             return_train_score=True, scoring=&#x27;accuracy&#x27;)</pre><b>In a Jupyter environment, please rerun this cell to show the HTML representation or trust the notebook. <br />On GitHub, the HTML representation is unable to render, please try loading this page with nbviewer.org.</b></div><div class=\"sk-container\" hidden><div class=\"sk-item sk-dashed-wrapped\"><div class=\"sk-label-container\"><div class=\"sk-label sk-toggleable\"><input class=\"sk-toggleable__control sk-hidden--visually\" id=\"sk-estimator-id-2\" type=\"checkbox\" ><label for=\"sk-estimator-id-2\" class=\"sk-toggleable__label sk-toggleable__label-arrow\">GridSearchCV</label><div class=\"sk-toggleable__content\"><pre>GridSearchCV(cv=5, estimator=DecisionTreeClassifier(),\n",
       "             param_grid={&#x27;max_depth&#x27;: [6, 8, 10, 12, 16, 20, 24]},\n",
       "             return_train_score=True, scoring=&#x27;accuracy&#x27;)</pre></div></div></div><div class=\"sk-parallel\"><div class=\"sk-parallel-item\"><div class=\"sk-item\"><div class=\"sk-label-container\"><div class=\"sk-label sk-toggleable\"><input class=\"sk-toggleable__control sk-hidden--visually\" id=\"sk-estimator-id-3\" type=\"checkbox\" ><label for=\"sk-estimator-id-3\" class=\"sk-toggleable__label sk-toggleable__label-arrow\">estimator: DecisionTreeClassifier</label><div class=\"sk-toggleable__content\"><pre>DecisionTreeClassifier()</pre></div></div></div><div class=\"sk-serial\"><div class=\"sk-item\"><div class=\"sk-estimator sk-toggleable\"><input class=\"sk-toggleable__control sk-hidden--visually\" id=\"sk-estimator-id-4\" type=\"checkbox\" ><label for=\"sk-estimator-id-4\" class=\"sk-toggleable__label sk-toggleable__label-arrow\">DecisionTreeClassifier</label><div class=\"sk-toggleable__content\"><pre>DecisionTreeClassifier()</pre></div></div></div></div></div></div></div></div></div></div>"
      ]
     },
     "execution_count": 24,
     "metadata": {},
     "output_type": "execute_result"
    }
   ],
   "execution_count": 24
  },
  {
   "cell_type": "code",
   "metadata": {
    "ExecuteTime": {
     "end_time": "2025-03-07T01:06:38.620523Z",
     "start_time": "2025-03-07T01:06:38.614938Z"
    }
   },
   "source": [
    "cv_results_df = pd.DataFrame(grid_cv.cv_results_)\n",
    "\n",
    "cv_results_df[[\"param_max_depth\", \"mean_test_score\",\"mean_train_score\"]]"
   ],
   "outputs": [
    {
     "data": {
      "text/plain": [
       "  param_max_depth  mean_test_score  mean_train_score\n",
       "0               6         0.844261          0.944879\n",
       "1               8         0.851884          0.982692\n",
       "2              10         0.853246          0.993403\n",
       "3              12         0.840055          0.997178\n",
       "4              16         0.842366          0.999660\n",
       "5              20         0.848624          0.999966\n",
       "6              24         0.846992          1.000000"
      ],
      "text/html": [
       "<div>\n",
       "<style scoped>\n",
       "    .dataframe tbody tr th:only-of-type {\n",
       "        vertical-align: middle;\n",
       "    }\n",
       "\n",
       "    .dataframe tbody tr th {\n",
       "        vertical-align: top;\n",
       "    }\n",
       "\n",
       "    .dataframe thead th {\n",
       "        text-align: right;\n",
       "    }\n",
       "</style>\n",
       "<table border=\"1\" class=\"dataframe\">\n",
       "  <thead>\n",
       "    <tr style=\"text-align: right;\">\n",
       "      <th></th>\n",
       "      <th>param_max_depth</th>\n",
       "      <th>mean_test_score</th>\n",
       "      <th>mean_train_score</th>\n",
       "    </tr>\n",
       "  </thead>\n",
       "  <tbody>\n",
       "    <tr>\n",
       "      <th>0</th>\n",
       "      <td>6</td>\n",
       "      <td>0.844261</td>\n",
       "      <td>0.944879</td>\n",
       "    </tr>\n",
       "    <tr>\n",
       "      <th>1</th>\n",
       "      <td>8</td>\n",
       "      <td>0.851884</td>\n",
       "      <td>0.982692</td>\n",
       "    </tr>\n",
       "    <tr>\n",
       "      <th>2</th>\n",
       "      <td>10</td>\n",
       "      <td>0.853246</td>\n",
       "      <td>0.993403</td>\n",
       "    </tr>\n",
       "    <tr>\n",
       "      <th>3</th>\n",
       "      <td>12</td>\n",
       "      <td>0.840055</td>\n",
       "      <td>0.997178</td>\n",
       "    </tr>\n",
       "    <tr>\n",
       "      <th>4</th>\n",
       "      <td>16</td>\n",
       "      <td>0.842366</td>\n",
       "      <td>0.999660</td>\n",
       "    </tr>\n",
       "    <tr>\n",
       "      <th>5</th>\n",
       "      <td>20</td>\n",
       "      <td>0.848624</td>\n",
       "      <td>0.999966</td>\n",
       "    </tr>\n",
       "    <tr>\n",
       "      <th>6</th>\n",
       "      <td>24</td>\n",
       "      <td>0.846992</td>\n",
       "      <td>1.000000</td>\n",
       "    </tr>\n",
       "  </tbody>\n",
       "</table>\n",
       "</div>"
      ]
     },
     "execution_count": 25,
     "metadata": {},
     "output_type": "execute_result"
    }
   ],
   "execution_count": 25
  },
  {
   "cell_type": "code",
   "metadata": {
    "ExecuteTime": {
     "end_time": "2025-03-07T01:07:46.834323Z",
     "start_time": "2025-03-07T01:07:46.831357Z"
    }
   },
   "source": [
    "print(\"최고의 평균 정확도 : {0:.4f}, 최적의 하이퍼 매개변수 : {1}\".format(grid_cv.best_score_,grid_cv.best_params_))"
   ],
   "outputs": [
    {
     "name": "stdout",
     "output_type": "stream",
     "text": [
      "최고의 평균 정확도 : 0.8532, 최적의 하이퍼 매개변수 : {'max_depth': 10}\n"
     ]
    }
   ],
   "execution_count": 26
  },
  {
   "cell_type": "code",
   "metadata": {
    "ExecuteTime": {
     "end_time": "2025-03-07T01:09:10.395511Z",
     "start_time": "2025-03-07T01:08:08.151769Z"
    }
   },
   "source": [
    "# 2번째, 교차 검증을 해서, 조금 더 정확한 결과를 확인해보기.\n",
    "params = {\n",
    "  \"max_depth\" : [8,16,20],\n",
    "  \"min_samples_split\" : [8,16,24]\n",
    "}\n",
    "\n",
    "# 모델 학습 시키기, 옵션 설정이 동일해서, 위의 코드 재사용. \n",
    "# scoring=\"accuracy\" -> 정확도 기준\n",
    "# cv=5 -> 교차 검증 분할수 5번, 4개의 훈련셋 , 1개의 검증 , 5번 반복\n",
    "# return_train_score= True -> 훈련 데이터에 대한 성능 점수를 반환 받겠다. \n",
    "grid_cv = GridSearchCV(dt_HAR, param_grid=params, scoring=\"accuracy\", cv=5, return_train_score= True)\n",
    "\n",
    "# 교차 검증을 이용해서, 모델에 학습 시키기 \n",
    "grid_cv.fit(X_train,Y_train)"
   ],
   "outputs": [
    {
     "data": {
      "text/plain": [
       "GridSearchCV(cv=5, estimator=DecisionTreeClassifier(),\n",
       "             param_grid={'max_depth': [8, 16, 20],\n",
       "                         'min_samples_split': [8, 16, 24]},\n",
       "             return_train_score=True, scoring='accuracy')"
      ],
      "text/html": [
       "<style>#sk-container-id-3 {color: black;background-color: white;}#sk-container-id-3 pre{padding: 0;}#sk-container-id-3 div.sk-toggleable {background-color: white;}#sk-container-id-3 label.sk-toggleable__label {cursor: pointer;display: block;width: 100%;margin-bottom: 0;padding: 0.3em;box-sizing: border-box;text-align: center;}#sk-container-id-3 label.sk-toggleable__label-arrow:before {content: \"▸\";float: left;margin-right: 0.25em;color: #696969;}#sk-container-id-3 label.sk-toggleable__label-arrow:hover:before {color: black;}#sk-container-id-3 div.sk-estimator:hover label.sk-toggleable__label-arrow:before {color: black;}#sk-container-id-3 div.sk-toggleable__content {max-height: 0;max-width: 0;overflow: hidden;text-align: left;background-color: #f0f8ff;}#sk-container-id-3 div.sk-toggleable__content pre {margin: 0.2em;color: black;border-radius: 0.25em;background-color: #f0f8ff;}#sk-container-id-3 input.sk-toggleable__control:checked~div.sk-toggleable__content {max-height: 200px;max-width: 100%;overflow: auto;}#sk-container-id-3 input.sk-toggleable__control:checked~label.sk-toggleable__label-arrow:before {content: \"▾\";}#sk-container-id-3 div.sk-estimator input.sk-toggleable__control:checked~label.sk-toggleable__label {background-color: #d4ebff;}#sk-container-id-3 div.sk-label input.sk-toggleable__control:checked~label.sk-toggleable__label {background-color: #d4ebff;}#sk-container-id-3 input.sk-hidden--visually {border: 0;clip: rect(1px 1px 1px 1px);clip: rect(1px, 1px, 1px, 1px);height: 1px;margin: -1px;overflow: hidden;padding: 0;position: absolute;width: 1px;}#sk-container-id-3 div.sk-estimator {font-family: monospace;background-color: #f0f8ff;border: 1px dotted black;border-radius: 0.25em;box-sizing: border-box;margin-bottom: 0.5em;}#sk-container-id-3 div.sk-estimator:hover {background-color: #d4ebff;}#sk-container-id-3 div.sk-parallel-item::after {content: \"\";width: 100%;border-bottom: 1px solid gray;flex-grow: 1;}#sk-container-id-3 div.sk-label:hover label.sk-toggleable__label {background-color: #d4ebff;}#sk-container-id-3 div.sk-serial::before {content: \"\";position: absolute;border-left: 1px solid gray;box-sizing: border-box;top: 0;bottom: 0;left: 50%;z-index: 0;}#sk-container-id-3 div.sk-serial {display: flex;flex-direction: column;align-items: center;background-color: white;padding-right: 0.2em;padding-left: 0.2em;position: relative;}#sk-container-id-3 div.sk-item {position: relative;z-index: 1;}#sk-container-id-3 div.sk-parallel {display: flex;align-items: stretch;justify-content: center;background-color: white;position: relative;}#sk-container-id-3 div.sk-item::before, #sk-container-id-3 div.sk-parallel-item::before {content: \"\";position: absolute;border-left: 1px solid gray;box-sizing: border-box;top: 0;bottom: 0;left: 50%;z-index: -1;}#sk-container-id-3 div.sk-parallel-item {display: flex;flex-direction: column;z-index: 1;position: relative;background-color: white;}#sk-container-id-3 div.sk-parallel-item:first-child::after {align-self: flex-end;width: 50%;}#sk-container-id-3 div.sk-parallel-item:last-child::after {align-self: flex-start;width: 50%;}#sk-container-id-3 div.sk-parallel-item:only-child::after {width: 0;}#sk-container-id-3 div.sk-dashed-wrapped {border: 1px dashed gray;margin: 0 0.4em 0.5em 0.4em;box-sizing: border-box;padding-bottom: 0.4em;background-color: white;}#sk-container-id-3 div.sk-label label {font-family: monospace;font-weight: bold;display: inline-block;line-height: 1.2em;}#sk-container-id-3 div.sk-label-container {text-align: center;}#sk-container-id-3 div.sk-container {/* jupyter's `normalize.less` sets `[hidden] { display: none; }` but bootstrap.min.css set `[hidden] { display: none !important; }` so we also need the `!important` here to be able to override the default hidden behavior on the sphinx rendered scikit-learn.org. See: https://github.com/scikit-learn/scikit-learn/issues/21755 */display: inline-block !important;position: relative;}#sk-container-id-3 div.sk-text-repr-fallback {display: none;}</style><div id=\"sk-container-id-3\" class=\"sk-top-container\"><div class=\"sk-text-repr-fallback\"><pre>GridSearchCV(cv=5, estimator=DecisionTreeClassifier(),\n",
       "             param_grid={&#x27;max_depth&#x27;: [8, 16, 20],\n",
       "                         &#x27;min_samples_split&#x27;: [8, 16, 24]},\n",
       "             return_train_score=True, scoring=&#x27;accuracy&#x27;)</pre><b>In a Jupyter environment, please rerun this cell to show the HTML representation or trust the notebook. <br />On GitHub, the HTML representation is unable to render, please try loading this page with nbviewer.org.</b></div><div class=\"sk-container\" hidden><div class=\"sk-item sk-dashed-wrapped\"><div class=\"sk-label-container\"><div class=\"sk-label sk-toggleable\"><input class=\"sk-toggleable__control sk-hidden--visually\" id=\"sk-estimator-id-5\" type=\"checkbox\" ><label for=\"sk-estimator-id-5\" class=\"sk-toggleable__label sk-toggleable__label-arrow\">GridSearchCV</label><div class=\"sk-toggleable__content\"><pre>GridSearchCV(cv=5, estimator=DecisionTreeClassifier(),\n",
       "             param_grid={&#x27;max_depth&#x27;: [8, 16, 20],\n",
       "                         &#x27;min_samples_split&#x27;: [8, 16, 24]},\n",
       "             return_train_score=True, scoring=&#x27;accuracy&#x27;)</pre></div></div></div><div class=\"sk-parallel\"><div class=\"sk-parallel-item\"><div class=\"sk-item\"><div class=\"sk-label-container\"><div class=\"sk-label sk-toggleable\"><input class=\"sk-toggleable__control sk-hidden--visually\" id=\"sk-estimator-id-6\" type=\"checkbox\" ><label for=\"sk-estimator-id-6\" class=\"sk-toggleable__label sk-toggleable__label-arrow\">estimator: DecisionTreeClassifier</label><div class=\"sk-toggleable__content\"><pre>DecisionTreeClassifier()</pre></div></div></div><div class=\"sk-serial\"><div class=\"sk-item\"><div class=\"sk-estimator sk-toggleable\"><input class=\"sk-toggleable__control sk-hidden--visually\" id=\"sk-estimator-id-7\" type=\"checkbox\" ><label for=\"sk-estimator-id-7\" class=\"sk-toggleable__label sk-toggleable__label-arrow\">DecisionTreeClassifier</label><div class=\"sk-toggleable__content\"><pre>DecisionTreeClassifier()</pre></div></div></div></div></div></div></div></div></div></div>"
      ]
     },
     "execution_count": 27,
     "metadata": {},
     "output_type": "execute_result"
    }
   ],
   "execution_count": 27
  },
  {
   "cell_type": "code",
   "metadata": {
    "ExecuteTime": {
     "end_time": "2025-03-07T01:09:24.794174Z",
     "start_time": "2025-03-07T01:09:24.787579Z"
    }
   },
   "source": [
    "cv_results_df = pd.DataFrame(grid_cv.cv_results_)\n",
    "# cv_results_df\n",
    "cv_results_df[[\"param_max_depth\",\"param_min_samples_split\",\"mean_test_score\",\"mean_train_score\"]]"
   ],
   "outputs": [
    {
     "data": {
      "text/plain": [
       "  param_max_depth param_min_samples_split  mean_test_score  mean_train_score\n",
       "0               8                       8         0.849301          0.981468\n",
       "1               8                      16         0.854063          0.979836\n",
       "2               8                      24         0.855830          0.978237\n",
       "3              16                       8         0.843590          0.994491\n",
       "4              16                      16         0.844543          0.990411\n",
       "5              16                      24         0.842909          0.986704\n",
       "6              20                       8         0.841821          0.994457\n",
       "7              20                      16         0.841007          0.990513\n",
       "8              20                      24         0.847670          0.986704"
      ],
      "text/html": [
       "<div>\n",
       "<style scoped>\n",
       "    .dataframe tbody tr th:only-of-type {\n",
       "        vertical-align: middle;\n",
       "    }\n",
       "\n",
       "    .dataframe tbody tr th {\n",
       "        vertical-align: top;\n",
       "    }\n",
       "\n",
       "    .dataframe thead th {\n",
       "        text-align: right;\n",
       "    }\n",
       "</style>\n",
       "<table border=\"1\" class=\"dataframe\">\n",
       "  <thead>\n",
       "    <tr style=\"text-align: right;\">\n",
       "      <th></th>\n",
       "      <th>param_max_depth</th>\n",
       "      <th>param_min_samples_split</th>\n",
       "      <th>mean_test_score</th>\n",
       "      <th>mean_train_score</th>\n",
       "    </tr>\n",
       "  </thead>\n",
       "  <tbody>\n",
       "    <tr>\n",
       "      <th>0</th>\n",
       "      <td>8</td>\n",
       "      <td>8</td>\n",
       "      <td>0.849301</td>\n",
       "      <td>0.981468</td>\n",
       "    </tr>\n",
       "    <tr>\n",
       "      <th>1</th>\n",
       "      <td>8</td>\n",
       "      <td>16</td>\n",
       "      <td>0.854063</td>\n",
       "      <td>0.979836</td>\n",
       "    </tr>\n",
       "    <tr>\n",
       "      <th>2</th>\n",
       "      <td>8</td>\n",
       "      <td>24</td>\n",
       "      <td>0.855830</td>\n",
       "      <td>0.978237</td>\n",
       "    </tr>\n",
       "    <tr>\n",
       "      <th>3</th>\n",
       "      <td>16</td>\n",
       "      <td>8</td>\n",
       "      <td>0.843590</td>\n",
       "      <td>0.994491</td>\n",
       "    </tr>\n",
       "    <tr>\n",
       "      <th>4</th>\n",
       "      <td>16</td>\n",
       "      <td>16</td>\n",
       "      <td>0.844543</td>\n",
       "      <td>0.990411</td>\n",
       "    </tr>\n",
       "    <tr>\n",
       "      <th>5</th>\n",
       "      <td>16</td>\n",
       "      <td>24</td>\n",
       "      <td>0.842909</td>\n",
       "      <td>0.986704</td>\n",
       "    </tr>\n",
       "    <tr>\n",
       "      <th>6</th>\n",
       "      <td>20</td>\n",
       "      <td>8</td>\n",
       "      <td>0.841821</td>\n",
       "      <td>0.994457</td>\n",
       "    </tr>\n",
       "    <tr>\n",
       "      <th>7</th>\n",
       "      <td>20</td>\n",
       "      <td>16</td>\n",
       "      <td>0.841007</td>\n",
       "      <td>0.990513</td>\n",
       "    </tr>\n",
       "    <tr>\n",
       "      <th>8</th>\n",
       "      <td>20</td>\n",
       "      <td>24</td>\n",
       "      <td>0.847670</td>\n",
       "      <td>0.986704</td>\n",
       "    </tr>\n",
       "  </tbody>\n",
       "</table>\n",
       "</div>"
      ]
     },
     "execution_count": 28,
     "metadata": {},
     "output_type": "execute_result"
    }
   ],
   "execution_count": 28
  },
  {
   "cell_type": "code",
   "metadata": {
    "ExecuteTime": {
     "end_time": "2025-03-07T01:09:29.542282Z",
     "start_time": "2025-03-07T01:09:29.539431Z"
    }
   },
   "source": [
    "print(\"최고의 평균 정확도 : {0:.4f}, 최적의 하이퍼 매개변수 : {1}\".format(grid_cv.best_score_,grid_cv.best_params_))"
   ],
   "outputs": [
    {
     "name": "stdout",
     "output_type": "stream",
     "text": [
      "최고의 평균 정확도 : 0.8558, 최적의 하이퍼 매개변수 : {'max_depth': 8, 'min_samples_split': 24}\n"
     ]
    }
   ],
   "execution_count": 29
  },
  {
   "cell_type": "code",
   "metadata": {
    "ExecuteTime": {
     "end_time": "2025-03-07T01:11:13.643649Z",
     "start_time": "2025-03-07T01:11:13.635395Z"
    }
   },
   "source": [
    "# 최적의 파라미터를 찾았고, 이 파라미터를 이용해서, \n",
    "# 최적의 모델을 구현해서, 다시 학습 후, 예측값을 구해서, 다시 평가 지표 점수를 확인. \n",
    "# 최적의 모델이라고 보면됨. \n",
    "best_dt_HAR = grid_cv.best_estimator_\n",
    "\n",
    "# 최적을 모델을 이용해서, 학습시키기 -> 예측값을 조회. \n",
    "best_Y_predict = best_dt_HAR.predict(X_test)\n",
    "\n",
    "# 채점, 확인하기. 정확도 얼마인지?\n",
    "best_accuracy = accuracy_score(Y_test, best_Y_predict)\n",
    "\n",
    "print(\"베스트 결정 트리 예측 정확도 : {0:.4f}\".format(best_accuracy))\n"
   ],
   "outputs": [
    {
     "name": "stdout",
     "output_type": "stream",
     "text": [
      "베스트 결정 트리 예측 정확도 : 0.8707\n"
     ]
    }
   ],
   "execution_count": 30
  },
  {
   "cell_type": "code",
   "metadata": {
    "ExecuteTime": {
     "end_time": "2025-03-07T01:13:35.262755Z",
     "start_time": "2025-03-07T01:13:35.260477Z"
    }
   },
   "source": [
    "# 간단한 막대 그래프로 시각화. \n",
    "# 독립 변수(=피처)가 : 561개 있음. 그중에서, 중요도가 높은 피처 10개를 찾아서, 그래프 그리기.\n",
    "\n",
    "import seaborn as sns \n",
    "import matplotlib.pyplot as plt  \n"
   ],
   "outputs": [],
   "execution_count": 31
  },
  {
   "cell_type": "code",
   "metadata": {
    "ExecuteTime": {
     "end_time": "2025-03-07T01:13:44.877140Z",
     "start_time": "2025-03-07T01:13:44.872594Z"
    }
   },
   "source": [
    "# 561개의 피쳐 중에서, 중요도로 10개 뽑기.\n",
    "feature_importances_values = best_dt_HAR.feature_importances_\n",
    "\n",
    "# 데이터 타입을 시리즈 라는 타입으로 변환해서, 확인, 시리즈, 행, 열이 한개씩 표현되는 데이터 구조. \n",
    "feature_importances_values_s = pd.Series(feature_importances_values, index=X_train.columns)\n",
    "\n",
    "# 내림 차순 정렬을 해서, 상위 10개만 슬라이싱으로 가져오기. \n",
    "feature_top10 = feature_importances_values_s.sort_values(ascending=False)[:10]\n",
    "\n",
    "feature_top10\n"
   ],
   "outputs": [
    {
     "data": {
      "text/plain": [
       "tGravityAcc-min()-X            0.254008\n",
       "fBodyAcc-mad()-X               0.213132\n",
       "angle(Y,gravityMean)           0.143406\n",
       "fBodyAccMag-energy()           0.115776\n",
       "tGravityAcc-arCoeff()-Z,2      0.101810\n",
       "fBodyGyro-maxInds-X            0.024033\n",
       "tBodyGyro-correlation()-Y,Z    0.016556\n",
       "tGravityAcc-energy()-Y         0.016476\n",
       "tBodyAccMag-arCoeff()1         0.015782\n",
       "fBodyAcc-max()-Y               0.008847\n",
       "dtype: float64"
      ]
     },
     "execution_count": 32,
     "metadata": {},
     "output_type": "execute_result"
    }
   ],
   "execution_count": 32
  },
  {
   "cell_type": "code",
   "metadata": {
    "ExecuteTime": {
     "end_time": "2025-03-07T01:14:27.687314Z",
     "start_time": "2025-03-07T01:14:27.607466Z"
    }
   },
   "source": [
    "# 그림그리기 \n",
    "plt.figure(figsize=(10,5))\n",
    "plt.title(\"Feature Top 10\")\n",
    "sns.barplot(x=feature_top10, y = feature_top10.index)\n",
    "plt.show()"
   ],
   "outputs": [
    {
     "data": {
      "text/plain": [
       "<Figure size 1000x500 with 1 Axes>"
      ],
      "image/png": "[encoded data removed]"
     },
     "metadata": {},
     "output_type": "display_data"
    }
   ],
   "execution_count": 33
  },
  {
   "cell_type": "markdown",
   "metadata": {},
   "source": [
    "## 시각화 도구 설치 순서\n",
    "### Graphviz를 사용한 결정트리 시각화\n",
    "### 이슈 \n",
    "### https://graphviz.gitlab.io/download/\n",
    "### 다운로드 \n",
    "\n",
    "### 설치 , 기본 설정 -> C:\\Program Files\\Graphviz 이 경로의 폴더를 복사.\n",
    "### C:\\Python\\Python310 하위에 폴더 붙여넣기.\n",
    "\n",
    "### 이동후 , 경로 -> C:\\Python\\Python310\\Graphviz\\bin\n",
    "### 시스템 환경 설정 패스에도 bin 까지만\n",
    "### \t- -bin\n",
    "### \t- -bin/dot.exe \n",
    "\t\n",
    "\n",
    "\n",
    "### 마지막 코드에 직접 추가\n",
    "### import os\n",
    "### os.environ[\"PATH\"]+=os.pathsep+'C:/Python/Python310/Graphviz/bin/'\n"
   ]
  },
  {
   "cell_type": "code",
   "metadata": {
    "ExecuteTime": {
     "end_time": "2025-03-07T01:19:38.594335Z",
     "start_time": "2025-03-07T01:19:36.803633Z"
    }
   },
   "source": "!pip install graphviz",
   "outputs": [
    {
     "name": "stdout",
     "output_type": "stream",
     "text": [
      "Collecting graphviz\r\n",
      "  Downloading graphviz-0.20.3-py3-none-any.whl (47 kB)\r\n",
      "\u001B[K     |████████████████████████████████| 47 kB 4.3 MB/s eta 0:00:01\r\n",
      "\u001B[?25hInstalling collected packages: graphviz\r\n",
      "Successfully installed graphviz-0.20.3\r\n",
      "\u001B[33mWARNING: You are using pip version 21.2.3; however, version 25.0.1 is available.\r\n",
      "You should consider upgrading via the '/usr/local/bin/python3.10 -m pip install --upgrade pip' command.\u001B[0m\r\n",
      "Note: you may need to restart the kernel to use updated packages.\n"
     ]
    }
   ],
   "execution_count": 34
  },
  {
   "cell_type": "code",
   "metadata": {
    "ExecuteTime": {
     "end_time": "2025-03-07T01:20:29.607615Z",
     "start_time": "2025-03-07T01:20:29.599067Z"
    }
   },
   "source": [
    "from sklearn.tree import export_graphviz\n",
    "export_graphviz(best_dt_HAR, out_file=\"tree.dot\", class_names=label_name, feature_names= feature_name, impurity=True, filled=True)"
   ],
   "outputs": [],
   "execution_count": 35
  },
  {
   "cell_type": "code",
   "metadata": {
    "ExecuteTime": {
     "end_time": "2025-03-07T01:20:34.124891Z",
     "start_time": "2025-03-07T01:20:31.858672Z"
    }
   },
   "source": [
    "import graphviz\n",
    "\n",
    "# Graphviz 실행 파일이 인식되지 않을 경우 경로를 추가 (필요 시)\n",
    "import os\n",
    "os.environ[\"PATH\"] += os.pathsep + \"/opt/homebrew/bin\"  # M1/M2 Mac\n",
    "# os.environ[\"PATH\"] += os.pathsep + \"/usr/local/bin\"  # Intel Mac\n",
    "\n",
    "# DOT 파일 읽기\n",
    "with open(\"tree.dot\") as f:\n",
    "    dot_graph = f.read()\n",
    "\n",
    "# Graphviz로 시각화\n",
    "graphviz.Source(dot_graph)"
   ],
   "outputs": [
    {
     "data": {
      "image/svg+xml": "<?xml version=\"1.0\" encoding=\"UTF-8\" standalone=\"no\"?>\n<!DOCTYPE svg PUBLIC \"-//W3C//DTD SVG 1.1//EN\"\n \"http://www.w3.org/Graphics/SVG/1.1/DTD/svg11.dtd\">\n<!-- Generated by graphviz version 12.2.1 (20241206.2353)\n -->\n<!-- Title: Tree Pages: 1 -->\n<svg width=\"8294pt\" height=\"1028pt\"\n viewBox=\"0.00 0.00 8294.00 1028.00\" xmlns=\"http://www.w3.org/2000/svg\" xmlns:xlink=\"http://www.w3.org/1999/xlink\">\n<g id=\"graph0\" class=\"graph\" transform=\"scale(1 1) rotate(0) translate(4 1024)\">\n<title>Tree</title>\n<polygon fill=\"white\" stroke=\"none\" points=\"-4,4 -4,-1024 8290,-1024 8290,4 -4,4\"/>\n<!-- 0 -->\n<g id=\"node1\" class=\"node\">\n<title>0</title>\n<polygon fill=\"#fffefe\" stroke=\"black\" points=\"4024.75,-1020 3743.25,-1020 3743.25,-937 4024.75,-937 4024.75,-1020\"/>\n<text text-anchor=\"middle\" x=\"3884\" y=\"-1002.7\" font-family=\"Helvetica,sans-Serif\" font-size=\"14.00\">tGravityAcc&#45;min()&#45;X &lt;= 0.096</text>\n<text text-anchor=\"middle\" x=\"3884\" y=\"-987.7\" font-family=\"Helvetica,sans-Serif\" font-size=\"14.00\">gini = 0.831</text>\n<text text-anchor=\"middle\" x=\"3884\" y=\"-972.7\" font-family=\"Helvetica,sans-Serif\" font-size=\"14.00\">samples = 7352</text>\n<text text-anchor=\"middle\" x=\"3884\" y=\"-957.7\" font-family=\"Helvetica,sans-Serif\" font-size=\"14.00\">value = [1226, 1073, 986, 1286, 1374, 1407]</text>\n<text text-anchor=\"middle\" x=\"3884\" y=\"-942.7\" font-family=\"Helvetica,sans-Serif\" font-size=\"14.00\">class = LAYING</text>\n</g>\n<!-- 1 -->\n<g id=\"node2\" class=\"node\">\n<title>1</title>\n<polygon fill=\"#e5399d\" stroke=\"black\" points=\"3854.25,-893.5 3677.75,-893.5 3677.75,-825.5 3854.25,-825.5 3854.25,-893.5\"/>\n<text text-anchor=\"middle\" x=\"3766\" y=\"-876.2\" font-family=\"Helvetica,sans-Serif\" font-size=\"14.00\">gini = 0.0</text>\n<text text-anchor=\"middle\" x=\"3766\" y=\"-861.2\" font-family=\"Helvetica,sans-Serif\" font-size=\"14.00\">samples = 1407</text>\n<text text-anchor=\"middle\" x=\"3766\" y=\"-846.2\" font-family=\"Helvetica,sans-Serif\" font-size=\"14.00\">value = [0, 0, 0, 0, 0, 1407]</text>\n<text text-anchor=\"middle\" x=\"3766\" y=\"-831.2\" font-family=\"Helvetica,sans-Serif\" font-size=\"14.00\">class = LAYING</text>\n</g>\n<!-- 0&#45;&gt;1 -->\n<g id=\"edge1\" class=\"edge\">\n<title>0&#45;&gt;1</title>\n<path fill=\"none\" stroke=\"black\" d=\"M3842.73,-936.58C3831.39,-925.34 3819.09,-913.14 3807.73,-901.87\"/>\n<polygon fill=\"black\" stroke=\"black\" points=\"3810.29,-899.48 3800.72,-894.93 3805.36,-904.45 3810.29,-899.48\"/>\n<text text-anchor=\"middle\" x=\"3799.75\" y=\"-913.06\" font-family=\"Helvetica,sans-Serif\" font-size=\"14.00\">True</text>\n</g>\n<!-- 2 -->\n<g id=\"node3\" class=\"node\">\n<title>2</title>\n<polygon fill=\"#fdfbff\" stroke=\"black\" points=\"4131.5,-901 3872.5,-901 3872.5,-818 4131.5,-818 4131.5,-901\"/>\n<text text-anchor=\"middle\" x=\"4002\" y=\"-883.7\" font-family=\"Helvetica,sans-Serif\" font-size=\"14.00\">fBodyAcc&#45;mad()&#45;X &lt;= &#45;0.667</text>\n<text text-anchor=\"middle\" x=\"4002\" y=\"-868.7\" font-family=\"Helvetica,sans-Serif\" font-size=\"14.00\">gini = 0.797</text>\n<text text-anchor=\"middle\" x=\"4002\" y=\"-853.7\" font-family=\"Helvetica,sans-Serif\" font-size=\"14.00\">samples = 5945</text>\n<text text-anchor=\"middle\" x=\"4002\" y=\"-838.7\" font-family=\"Helvetica,sans-Serif\" font-size=\"14.00\">value = [1226, 1073, 986, 1286, 1374, 0]</text>\n<text text-anchor=\"middle\" x=\"4002\" y=\"-823.7\" font-family=\"Helvetica,sans-Serif\" font-size=\"14.00\">class = STANDING</text>\n</g>\n<!-- 0&#45;&gt;2 -->\n<g id=\"edge2\" class=\"edge\">\n<title>0&#45;&gt;2</title>\n<path fill=\"none\" stroke=\"black\" d=\"M3925.27,-936.58C3934.21,-927.71 3943.76,-918.25 3952.97,-909.12\"/>\n<polygon fill=\"black\" stroke=\"black\" points=\"3955.24,-911.79 3959.88,-902.27 3950.31,-906.82 3955.24,-911.79\"/>\n<text text-anchor=\"middle\" x=\"3960.85\" y=\"-920.4\" font-family=\"Helvetica,sans-Serif\" font-size=\"14.00\">False</text>\n</g>\n<!-- 3 -->\n<g id=\"node4\" class=\"node\">\n<title>3</title>\n<polygon fill=\"#f7f2fd\" stroke=\"black\" points=\"3105.5,-782 2906.5,-782 2906.5,-699 3105.5,-699 3105.5,-782\"/>\n<text text-anchor=\"middle\" x=\"3006\" y=\"-764.7\" font-family=\"Helvetica,sans-Serif\" font-size=\"14.00\">angle(Y,gravityMean) &lt;= 0.14</text>\n<text text-anchor=\"middle\" x=\"3006\" y=\"-749.7\" font-family=\"Helvetica,sans-Serif\" font-size=\"14.00\">gini = 0.499</text>\n<text text-anchor=\"middle\" x=\"3006\" y=\"-734.7\" font-family=\"Helvetica,sans-Serif\" font-size=\"14.00\">samples = 2660</text>\n<text text-anchor=\"middle\" x=\"3006\" y=\"-719.7\" font-family=\"Helvetica,sans-Serif\" font-size=\"14.00\">value = [0, 0, 0, 1286, 1374, 0]</text>\n<text text-anchor=\"middle\" x=\"3006\" y=\"-704.7\" font-family=\"Helvetica,sans-Serif\" font-size=\"14.00\">class = STANDING</text>\n</g>\n<!-- 2&#45;&gt;3 -->\n<g id=\"edge3\" class=\"edge\">\n<title>2&#45;&gt;3</title>\n<path fill=\"none\" stroke=\"black\" d=\"M3872.34,-819.86C3869.21,-819.2 3866.09,-818.58 3863,-818 3598.25,-768.11 3281.18,-750.54 3116.91,-744.52\"/>\n<polygon fill=\"black\" stroke=\"black\" points=\"3117.46,-741.04 3107.34,-744.18 3117.21,-748.03 3117.46,-741.04\"/>\n</g>\n<!-- 60 -->\n<g id=\"node61\" class=\"node\">\n<title>60</title>\n<polygon fill=\"#fdf6f1\" stroke=\"black\" points=\"5857.5,-782 5640.5,-782 5640.5,-699 5857.5,-699 5857.5,-782\"/>\n<text text-anchor=\"middle\" x=\"5749\" y=\"-764.7\" font-family=\"Helvetica,sans-Serif\" font-size=\"14.00\">fBodyAccMag&#45;energy() &lt;= &#45;0.525</text>\n<text text-anchor=\"middle\" x=\"5749\" y=\"-749.7\" font-family=\"Helvetica,sans-Serif\" font-size=\"14.00\">gini = 0.664</text>\n<text text-anchor=\"middle\" x=\"5749\" y=\"-734.7\" font-family=\"Helvetica,sans-Serif\" font-size=\"14.00\">samples = 3285</text>\n<text text-anchor=\"middle\" x=\"5749\" y=\"-719.7\" font-family=\"Helvetica,sans-Serif\" font-size=\"14.00\">value = [1226, 1073, 986, 0, 0, 0]</text>\n<text text-anchor=\"middle\" x=\"5749\" y=\"-704.7\" font-family=\"Helvetica,sans-Serif\" font-size=\"14.00\">class = WALKING</text>\n</g>\n<!-- 2&#45;&gt;60 -->\n<g id=\"edge60\" class=\"edge\">\n<title>2&#45;&gt;60</title>\n<path fill=\"none\" stroke=\"black\" d=\"M4131.88,-849.8C4458.78,-827.91 5312,-770.77 5628.53,-749.57\"/>\n<polygon fill=\"black\" stroke=\"black\" points=\"5628.76,-753.06 5638.51,-748.9 5628.3,-746.08 5628.76,-753.06\"/>\n</g>\n<!-- 4 -->\n<g id=\"node5\" class=\"node\">\n<title>4</title>\n<polygon fill=\"#58ace9\" stroke=\"black\" points=\"1900.62,-663 1699.38,-663 1699.38,-580 1900.62,-580 1900.62,-663\"/>\n<text text-anchor=\"middle\" x=\"1800\" y=\"-645.7\" font-family=\"Helvetica,sans-Serif\" font-size=\"14.00\">tGravityAcc&#45;energy()&#45;Y &lt;= &#45;1.0</text>\n<text text-anchor=\"middle\" x=\"1800\" y=\"-630.7\" font-family=\"Helvetica,sans-Serif\" font-size=\"14.00\">gini = 0.234</text>\n<text text-anchor=\"middle\" x=\"1800\" y=\"-615.7\" font-family=\"Helvetica,sans-Serif\" font-size=\"14.00\">samples = 1357</text>\n<text text-anchor=\"middle\" x=\"1800\" y=\"-600.7\" font-family=\"Helvetica,sans-Serif\" font-size=\"14.00\">value = [0, 0, 0, 1173, 184, 0]</text>\n<text text-anchor=\"middle\" x=\"1800\" y=\"-585.7\" font-family=\"Helvetica,sans-Serif\" font-size=\"14.00\">class = SITTING</text>\n</g>\n<!-- 3&#45;&gt;4 -->\n<g id=\"edge4\" class=\"edge\">\n<title>3&#45;&gt;4</title>\n<path fill=\"none\" stroke=\"black\" d=\"M2906.02,-729.8C2683.06,-708.17 2146.36,-656.1 1912.31,-633.4\"/>\n<polygon fill=\"black\" stroke=\"black\" points=\"1912.85,-629.93 1902.56,-632.45 1912.17,-636.9 1912.85,-629.93\"/>\n</g>\n<!-- 39 -->\n<g id=\"node40\" class=\"node\">\n<title>39</title>\n<polygon fill=\"#8d4ce7\" stroke=\"black\" points=\"3101.75,-663 2910.25,-663 2910.25,-580 3101.75,-580 3101.75,-663\"/>\n<text text-anchor=\"middle\" x=\"3006\" y=\"-645.7\" font-family=\"Helvetica,sans-Serif\" font-size=\"14.00\">tBodyGyro&#45;min()&#45;X &lt;= 0.845</text>\n<text text-anchor=\"middle\" x=\"3006\" y=\"-630.7\" font-family=\"Helvetica,sans-Serif\" font-size=\"14.00\">gini = 0.158</text>\n<text text-anchor=\"middle\" x=\"3006\" y=\"-615.7\" font-family=\"Helvetica,sans-Serif\" font-size=\"14.00\">samples = 1303</text>\n<text text-anchor=\"middle\" x=\"3006\" y=\"-600.7\" font-family=\"Helvetica,sans-Serif\" font-size=\"14.00\">value = [0, 0, 0, 113, 1190, 0]</text>\n<text text-anchor=\"middle\" x=\"3006\" y=\"-585.7\" font-family=\"Helvetica,sans-Serif\" font-size=\"14.00\">class = STANDING</text>\n</g>\n<!-- 3&#45;&gt;39 -->\n<g id=\"edge39\" class=\"edge\">\n<title>3&#45;&gt;39</title>\n<path fill=\"none\" stroke=\"black\" d=\"M3006,-698.58C3006,-690.79 3006,-682.53 3006,-674.45\"/>\n<polygon fill=\"black\" stroke=\"black\" points=\"3009.5,-674.71 3006,-664.71 3002.5,-674.71 3009.5,-674.71\"/>\n</g>\n<!-- 5 -->\n<g id=\"node6\" class=\"node\">\n<title>5</title>\n<polygon fill=\"#c4a2f3\" stroke=\"black\" points=\"677.25,-544 488.75,-544 488.75,-461 677.25,-461 677.25,-544\"/>\n<text text-anchor=\"middle\" x=\"583\" y=\"-526.7\" font-family=\"Helvetica,sans-Serif\" font-size=\"14.00\">tGravityAcc&#45;max()&#45;Z &lt;= 0.06</text>\n<text text-anchor=\"middle\" x=\"583\" y=\"-511.7\" font-family=\"Helvetica,sans-Serif\" font-size=\"14.00\">gini = 0.453</text>\n<text text-anchor=\"middle\" x=\"583\" y=\"-496.7\" font-family=\"Helvetica,sans-Serif\" font-size=\"14.00\">samples = 95</text>\n<text text-anchor=\"middle\" x=\"583\" y=\"-481.7\" font-family=\"Helvetica,sans-Serif\" font-size=\"14.00\">value = [0, 0, 0, 33, 62, 0]</text>\n<text text-anchor=\"middle\" x=\"583\" y=\"-466.7\" font-family=\"Helvetica,sans-Serif\" font-size=\"14.00\">class = STANDING</text>\n</g>\n<!-- 4&#45;&gt;5 -->\n<g id=\"edge5\" class=\"edge\">\n<title>4&#45;&gt;5</title>\n<path fill=\"none\" stroke=\"black\" d=\"M1699.11,-610.8C1471.59,-588.93 920.33,-535.93 688.5,-513.64\"/>\n<polygon fill=\"black\" stroke=\"black\" points=\"689.16,-510.19 678.88,-512.72 688.49,-517.16 689.16,-510.19\"/>\n</g>\n<!-- 14 -->\n<g id=\"node15\" class=\"node\">\n<title>14</title>\n<polygon fill=\"#4ea7e8\" stroke=\"black\" points=\"1898,-544 1702,-544 1702,-461 1898,-461 1898,-544\"/>\n<text text-anchor=\"middle\" x=\"1800\" y=\"-526.7\" font-family=\"Helvetica,sans-Serif\" font-size=\"14.00\">tBodyGyro&#45;max()&#45;X &lt;= &#45;0.869</text>\n<text text-anchor=\"middle\" x=\"1800\" y=\"-511.7\" font-family=\"Helvetica,sans-Serif\" font-size=\"14.00\">gini = 0.175</text>\n<text text-anchor=\"middle\" x=\"1800\" y=\"-496.7\" font-family=\"Helvetica,sans-Serif\" font-size=\"14.00\">samples = 1262</text>\n<text text-anchor=\"middle\" x=\"1800\" y=\"-481.7\" font-family=\"Helvetica,sans-Serif\" font-size=\"14.00\">value = [0, 0, 0, 1140, 122, 0]</text>\n<text text-anchor=\"middle\" x=\"1800\" y=\"-466.7\" font-family=\"Helvetica,sans-Serif\" font-size=\"14.00\">class = SITTING</text>\n</g>\n<!-- 4&#45;&gt;14 -->\n<g id=\"edge14\" class=\"edge\">\n<title>4&#45;&gt;14</title>\n<path fill=\"none\" stroke=\"black\" d=\"M1800,-579.58C1800,-571.79 1800,-563.53 1800,-555.45\"/>\n<polygon fill=\"black\" stroke=\"black\" points=\"1803.5,-555.71 1800,-545.71 1796.5,-555.71 1803.5,-555.71\"/>\n</g>\n<!-- 6 -->\n<g id=\"node7\" class=\"node\">\n<title>6</title>\n<polygon fill=\"#843ee6\" stroke=\"black\" points=\"347.25,-425 158.75,-425 158.75,-342 347.25,-342 347.25,-425\"/>\n<text text-anchor=\"middle\" x=\"253\" y=\"-407.7\" font-family=\"Helvetica,sans-Serif\" font-size=\"14.00\">tBodyAcc&#45;max()&#45;Y &lt;= &#45;0.581</text>\n<text text-anchor=\"middle\" x=\"253\" y=\"-392.7\" font-family=\"Helvetica,sans-Serif\" font-size=\"14.00\">gini = 0.044</text>\n<text text-anchor=\"middle\" x=\"253\" y=\"-377.7\" font-family=\"Helvetica,sans-Serif\" font-size=\"14.00\">samples = 44</text>\n<text text-anchor=\"middle\" x=\"253\" y=\"-362.7\" font-family=\"Helvetica,sans-Serif\" font-size=\"14.00\">value = [0, 0, 0, 1, 43, 0]</text>\n<text text-anchor=\"middle\" x=\"253\" y=\"-347.7\" font-family=\"Helvetica,sans-Serif\" font-size=\"14.00\">class = STANDING</text>\n</g>\n<!-- 5&#45;&gt;6 -->\n<g id=\"edge6\" class=\"edge\">\n<title>5&#45;&gt;6</title>\n<path fill=\"none\" stroke=\"black\" d=\"M488.44,-467.97C447.79,-453.56 400.12,-436.66 358.35,-421.85\"/>\n<polygon fill=\"black\" stroke=\"black\" points=\"359.6,-418.58 349.01,-418.54 357.26,-425.18 359.6,-418.58\"/>\n</g>\n<!-- 9 -->\n<g id=\"node10\" class=\"node\">\n<title>9</title>\n<polygon fill=\"#afd7f4\" stroke=\"black\" points=\"693.75,-425 472.25,-425 472.25,-342 693.75,-342 693.75,-425\"/>\n<text text-anchor=\"middle\" x=\"583\" y=\"-407.7\" font-family=\"Helvetica,sans-Serif\" font-size=\"14.00\">tBodyGyroJerk&#45;max()&#45;X &lt;= &#45;0.983</text>\n<text text-anchor=\"middle\" x=\"583\" y=\"-392.7\" font-family=\"Helvetica,sans-Serif\" font-size=\"14.00\">gini = 0.468</text>\n<text text-anchor=\"middle\" x=\"583\" y=\"-377.7\" font-family=\"Helvetica,sans-Serif\" font-size=\"14.00\">samples = 51</text>\n<text text-anchor=\"middle\" x=\"583\" y=\"-362.7\" font-family=\"Helvetica,sans-Serif\" font-size=\"14.00\">value = [0, 0, 0, 32, 19, 0]</text>\n<text text-anchor=\"middle\" x=\"583\" y=\"-347.7\" font-family=\"Helvetica,sans-Serif\" font-size=\"14.00\">class = SITTING</text>\n</g>\n<!-- 5&#45;&gt;9 -->\n<g id=\"edge9\" class=\"edge\">\n<title>5&#45;&gt;9</title>\n<path fill=\"none\" stroke=\"black\" d=\"M583,-460.58C583,-452.79 583,-444.53 583,-436.45\"/>\n<polygon fill=\"black\" stroke=\"black\" points=\"586.5,-436.71 583,-426.71 579.5,-436.71 586.5,-436.71\"/>\n</g>\n<!-- 7 -->\n<g id=\"node8\" class=\"node\">\n<title>7</title>\n<polygon fill=\"#399de5\" stroke=\"black\" points=\"154,-298.5 0,-298.5 0,-230.5 154,-230.5 154,-298.5\"/>\n<text text-anchor=\"middle\" x=\"77\" y=\"-281.2\" font-family=\"Helvetica,sans-Serif\" font-size=\"14.00\">gini = 0.0</text>\n<text text-anchor=\"middle\" x=\"77\" y=\"-266.2\" font-family=\"Helvetica,sans-Serif\" font-size=\"14.00\">samples = 1</text>\n<text text-anchor=\"middle\" x=\"77\" y=\"-251.2\" font-family=\"Helvetica,sans-Serif\" font-size=\"14.00\">value = [0, 0, 0, 1, 0, 0]</text>\n<text text-anchor=\"middle\" x=\"77\" y=\"-236.2\" font-family=\"Helvetica,sans-Serif\" font-size=\"14.00\">class = SITTING</text>\n</g>\n<!-- 6&#45;&gt;7 -->\n<g id=\"edge7\" class=\"edge\">\n<title>6&#45;&gt;7</title>\n<path fill=\"none\" stroke=\"black\" d=\"M191.44,-341.58C173.55,-329.68 154.04,-316.72 136.29,-304.91\"/>\n<polygon fill=\"black\" stroke=\"black\" points=\"138.71,-302.32 128.44,-299.7 134.83,-308.15 138.71,-302.32\"/>\n</g>\n<!-- 8 -->\n<g id=\"node9\" class=\"node\">\n<title>8</title>\n<polygon fill=\"#8139e5\" stroke=\"black\" points=\"333.75,-298.5 172.25,-298.5 172.25,-230.5 333.75,-230.5 333.75,-298.5\"/>\n<text text-anchor=\"middle\" x=\"253\" y=\"-281.2\" font-family=\"Helvetica,sans-Serif\" font-size=\"14.00\">gini = 0.0</text>\n<text text-anchor=\"middle\" x=\"253\" y=\"-266.2\" font-family=\"Helvetica,sans-Serif\" font-size=\"14.00\">samples = 43</text>\n<text text-anchor=\"middle\" x=\"253\" y=\"-251.2\" font-family=\"Helvetica,sans-Serif\" font-size=\"14.00\">value = [0, 0, 0, 0, 43, 0]</text>\n<text text-anchor=\"middle\" x=\"253\" y=\"-236.2\" font-family=\"Helvetica,sans-Serif\" font-size=\"14.00\">class = STANDING</text>\n</g>\n<!-- 6&#45;&gt;8 -->\n<g id=\"edge8\" class=\"edge\">\n<title>6&#45;&gt;8</title>\n<path fill=\"none\" stroke=\"black\" d=\"M253,-341.58C253,-331.43 253,-320.5 253,-310.18\"/>\n<polygon fill=\"black\" stroke=\"black\" points=\"256.5,-310.37 253,-300.37 249.5,-310.37 256.5,-310.37\"/>\n</g>\n<!-- 10 -->\n<g id=\"node11\" class=\"node\">\n<title>10</title>\n<polygon fill=\"#45a3e7\" stroke=\"black\" points=\"590.38,-306 351.62,-306 351.62,-223 590.38,-223 590.38,-306\"/>\n<text text-anchor=\"middle\" x=\"471\" y=\"-288.7\" font-family=\"Helvetica,sans-Serif\" font-size=\"14.00\">tBodyAccJerk&#45;arCoeff()&#45;X,3 &lt;= 0.411</text>\n<text text-anchor=\"middle\" x=\"471\" y=\"-273.7\" font-family=\"Helvetica,sans-Serif\" font-size=\"14.00\">gini = 0.111</text>\n<text text-anchor=\"middle\" x=\"471\" y=\"-258.7\" font-family=\"Helvetica,sans-Serif\" font-size=\"14.00\">samples = 34</text>\n<text text-anchor=\"middle\" x=\"471\" y=\"-243.7\" font-family=\"Helvetica,sans-Serif\" font-size=\"14.00\">value = [0, 0, 0, 32, 2, 0]</text>\n<text text-anchor=\"middle\" x=\"471\" y=\"-228.7\" font-family=\"Helvetica,sans-Serif\" font-size=\"14.00\">class = SITTING</text>\n</g>\n<!-- 9&#45;&gt;10 -->\n<g id=\"edge10\" class=\"edge\">\n<title>9&#45;&gt;10</title>\n<path fill=\"none\" stroke=\"black\" d=\"M543.83,-341.58C535.42,-332.8 526.46,-323.44 517.8,-314.39\"/>\n<polygon fill=\"black\" stroke=\"black\" points=\"520.45,-312.1 511.01,-307.29 515.39,-316.94 520.45,-312.1\"/>\n</g>\n<!-- 13 -->\n<g id=\"node14\" class=\"node\">\n<title>13</title>\n<polygon fill=\"#8139e5\" stroke=\"black\" points=\"769.75,-298.5 608.25,-298.5 608.25,-230.5 769.75,-230.5 769.75,-298.5\"/>\n<text text-anchor=\"middle\" x=\"689\" y=\"-281.2\" font-family=\"Helvetica,sans-Serif\" font-size=\"14.00\">gini = 0.0</text>\n<text text-anchor=\"middle\" x=\"689\" y=\"-266.2\" font-family=\"Helvetica,sans-Serif\" font-size=\"14.00\">samples = 17</text>\n<text text-anchor=\"middle\" x=\"689\" y=\"-251.2\" font-family=\"Helvetica,sans-Serif\" font-size=\"14.00\">value = [0, 0, 0, 0, 17, 0]</text>\n<text text-anchor=\"middle\" x=\"689\" y=\"-236.2\" font-family=\"Helvetica,sans-Serif\" font-size=\"14.00\">class = STANDING</text>\n</g>\n<!-- 9&#45;&gt;13 -->\n<g id=\"edge13\" class=\"edge\">\n<title>9&#45;&gt;13</title>\n<path fill=\"none\" stroke=\"black\" d=\"M620.07,-341.58C630.16,-330.45 641.09,-318.38 651.22,-307.2\"/>\n<polygon fill=\"black\" stroke=\"black\" points=\"653.64,-309.74 657.76,-299.98 648.45,-305.04 653.64,-309.74\"/>\n</g>\n<!-- 11 -->\n<g id=\"node12\" class=\"node\">\n<title>11</title>\n<polygon fill=\"#399de5\" stroke=\"black\" points=\"375.75,-179.5 214.25,-179.5 214.25,-111.5 375.75,-111.5 375.75,-179.5\"/>\n<text text-anchor=\"middle\" x=\"295\" y=\"-162.2\" font-family=\"Helvetica,sans-Serif\" font-size=\"14.00\">gini = 0.0</text>\n<text text-anchor=\"middle\" x=\"295\" y=\"-147.2\" font-family=\"Helvetica,sans-Serif\" font-size=\"14.00\">samples = 32</text>\n<text text-anchor=\"middle\" x=\"295\" y=\"-132.2\" font-family=\"Helvetica,sans-Serif\" font-size=\"14.00\">value = [0, 0, 0, 32, 0, 0]</text>\n<text text-anchor=\"middle\" x=\"295\" y=\"-117.2\" font-family=\"Helvetica,sans-Serif\" font-size=\"14.00\">class = SITTING</text>\n</g>\n<!-- 10&#45;&gt;11 -->\n<g id=\"edge11\" class=\"edge\">\n<title>10&#45;&gt;11</title>\n<path fill=\"none\" stroke=\"black\" d=\"M409.44,-222.58C391.55,-210.68 372.04,-197.72 354.29,-185.91\"/>\n<polygon fill=\"black\" stroke=\"black\" points=\"356.71,-183.32 346.44,-180.7 352.83,-189.15 356.71,-183.32\"/>\n</g>\n<!-- 12 -->\n<g id=\"node13\" class=\"node\">\n<title>12</title>\n<polygon fill=\"#8139e5\" stroke=\"black\" points=\"548,-179.5 394,-179.5 394,-111.5 548,-111.5 548,-179.5\"/>\n<text text-anchor=\"middle\" x=\"471\" y=\"-162.2\" font-family=\"Helvetica,sans-Serif\" font-size=\"14.00\">gini = 0.0</text>\n<text text-anchor=\"middle\" x=\"471\" y=\"-147.2\" font-family=\"Helvetica,sans-Serif\" font-size=\"14.00\">samples = 2</text>\n<text text-anchor=\"middle\" x=\"471\" y=\"-132.2\" font-family=\"Helvetica,sans-Serif\" font-size=\"14.00\">value = [0, 0, 0, 0, 2, 0]</text>\n<text text-anchor=\"middle\" x=\"471\" y=\"-117.2\" font-family=\"Helvetica,sans-Serif\" font-size=\"14.00\">class = STANDING</text>\n</g>\n<!-- 10&#45;&gt;12 -->\n<g id=\"edge12\" class=\"edge\">\n<title>10&#45;&gt;12</title>\n<path fill=\"none\" stroke=\"black\" d=\"M471,-222.58C471,-212.43 471,-201.5 471,-191.18\"/>\n<polygon fill=\"black\" stroke=\"black\" points=\"474.5,-191.37 471,-181.37 467.5,-191.37 474.5,-191.37\"/>\n</g>\n<!-- 15 -->\n<g id=\"node16\" class=\"node\">\n<title>15</title>\n<polygon fill=\"#40a1e6\" stroke=\"black\" points=\"1588.38,-425 1349.62,-425 1349.62,-342 1588.38,-342 1588.38,-425\"/>\n<text text-anchor=\"middle\" x=\"1469\" y=\"-407.7\" font-family=\"Helvetica,sans-Serif\" font-size=\"14.00\">tBodyGyro&#45;correlation()&#45;Y,Z &lt;= 0.418</text>\n<text text-anchor=\"middle\" x=\"1469\" y=\"-392.7\" font-family=\"Helvetica,sans-Serif\" font-size=\"14.00\">gini = 0.068</text>\n<text text-anchor=\"middle\" x=\"1469\" y=\"-377.7\" font-family=\"Helvetica,sans-Serif\" font-size=\"14.00\">samples = 994</text>\n<text text-anchor=\"middle\" x=\"1469\" y=\"-362.7\" font-family=\"Helvetica,sans-Serif\" font-size=\"14.00\">value = [0, 0, 0, 959, 35, 0]</text>\n<text text-anchor=\"middle\" x=\"1469\" y=\"-347.7\" font-family=\"Helvetica,sans-Serif\" font-size=\"14.00\">class = SITTING</text>\n</g>\n<!-- 14&#45;&gt;15 -->\n<g id=\"edge15\" class=\"edge\">\n<title>14&#45;&gt;15</title>\n<path fill=\"none\" stroke=\"black\" d=\"M1701.59,-466.71C1668.34,-454.96 1630.75,-441.67 1595.63,-429.26\"/>\n<polygon fill=\"black\" stroke=\"black\" points=\"1596.84,-425.98 1586.25,-425.94 1594.51,-432.58 1596.84,-425.98\"/>\n</g>\n<!-- 30 -->\n<g id=\"node31\" class=\"node\">\n<title>30</title>\n<polygon fill=\"#98ccf1\" stroke=\"black\" points=\"2076.38,-425 1879.62,-425 1879.62,-342 2076.38,-342 2076.38,-425\"/>\n<text text-anchor=\"middle\" x=\"1978\" y=\"-407.7\" font-family=\"Helvetica,sans-Serif\" font-size=\"14.00\">tGravityAcc&#45;max()&#45;Y &lt;= 0.069</text>\n<text text-anchor=\"middle\" x=\"1978\" y=\"-392.7\" font-family=\"Helvetica,sans-Serif\" font-size=\"14.00\">gini = 0.438</text>\n<text text-anchor=\"middle\" x=\"1978\" y=\"-377.7\" font-family=\"Helvetica,sans-Serif\" font-size=\"14.00\">samples = 268</text>\n<text text-anchor=\"middle\" x=\"1978\" y=\"-362.7\" font-family=\"Helvetica,sans-Serif\" font-size=\"14.00\">value = [0, 0, 0, 181, 87, 0]</text>\n<text text-anchor=\"middle\" x=\"1978\" y=\"-347.7\" font-family=\"Helvetica,sans-Serif\" font-size=\"14.00\">class = SITTING</text>\n</g>\n<!-- 14&#45;&gt;30 -->\n<g id=\"edge30\" class=\"edge\">\n<title>14&#45;&gt;30</title>\n<path fill=\"none\" stroke=\"black\" d=\"M1862.26,-460.58C1876.48,-451.23 1891.72,-441.21 1906.3,-431.63\"/>\n<polygon fill=\"black\" stroke=\"black\" points=\"1908.08,-434.65 1914.51,-426.23 1904.24,-428.8 1908.08,-434.65\"/>\n</g>\n<!-- 16 -->\n<g id=\"node17\" class=\"node\">\n<title>16</title>\n<polygon fill=\"#3c9fe5\" stroke=\"black\" points=\"1092.75,-306 907.25,-306 907.25,-223 1092.75,-223 1092.75,-306\"/>\n<text text-anchor=\"middle\" x=\"1000\" y=\"-288.7\" font-family=\"Helvetica,sans-Serif\" font-size=\"14.00\">tGravityAcc&#45;min()&#45;X &lt;= 0.99</text>\n<text text-anchor=\"middle\" x=\"1000\" y=\"-273.7\" font-family=\"Helvetica,sans-Serif\" font-size=\"14.00\">gini = 0.034</text>\n<text text-anchor=\"middle\" x=\"1000\" y=\"-258.7\" font-family=\"Helvetica,sans-Serif\" font-size=\"14.00\">samples = 927</text>\n<text text-anchor=\"middle\" x=\"1000\" y=\"-243.7\" font-family=\"Helvetica,sans-Serif\" font-size=\"14.00\">value = [0, 0, 0, 911, 16, 0]</text>\n<text text-anchor=\"middle\" x=\"1000\" y=\"-228.7\" font-family=\"Helvetica,sans-Serif\" font-size=\"14.00\">class = SITTING</text>\n</g>\n<!-- 15&#45;&gt;16 -->\n<g id=\"edge16\" class=\"edge\">\n<title>15&#45;&gt;16</title>\n<path fill=\"none\" stroke=\"black\" d=\"M1349.13,-352.6C1273.37,-333.7 1176.43,-309.51 1103.93,-291.43\"/>\n<polygon fill=\"black\" stroke=\"black\" points=\"1104.98,-288.08 1094.43,-289.06 1103.29,-294.87 1104.98,-288.08\"/>\n</g>\n<!-- 23 -->\n<g id=\"node24\" class=\"node\">\n<title>23</title>\n<polygon fill=\"#87c4ef\" stroke=\"black\" points=\"1565.5,-306 1372.5,-306 1372.5,-223 1565.5,-223 1565.5,-306\"/>\n<text text-anchor=\"middle\" x=\"1469\" y=\"-288.7\" font-family=\"Helvetica,sans-Serif\" font-size=\"14.00\">tGravityAcc&#45;min()&#45;X &lt;= 0.961</text>\n<text text-anchor=\"middle\" x=\"1469\" y=\"-273.7\" font-family=\"Helvetica,sans-Serif\" font-size=\"14.00\">gini = 0.406</text>\n<text text-anchor=\"middle\" x=\"1469\" y=\"-258.7\" font-family=\"Helvetica,sans-Serif\" font-size=\"14.00\">samples = 67</text>\n<text text-anchor=\"middle\" x=\"1469\" y=\"-243.7\" font-family=\"Helvetica,sans-Serif\" font-size=\"14.00\">value = [0, 0, 0, 48, 19, 0]</text>\n<text text-anchor=\"middle\" x=\"1469\" y=\"-228.7\" font-family=\"Helvetica,sans-Serif\" font-size=\"14.00\">class = SITTING</text>\n</g>\n<!-- 15&#45;&gt;23 -->\n<g id=\"edge23\" class=\"edge\">\n<title>15&#45;&gt;23</title>\n<path fill=\"none\" stroke=\"black\" d=\"M1469,-341.58C1469,-333.79 1469,-325.53 1469,-317.45\"/>\n<polygon fill=\"black\" stroke=\"black\" points=\"1472.5,-317.71 1469,-307.71 1465.5,-317.71 1472.5,-317.71\"/>\n</g>\n<!-- 17 -->\n<g id=\"node18\" class=\"node\">\n<title>17</title>\n<polygon fill=\"#3a9ee5\" stroke=\"black\" points=\"832.25,-187 565.75,-187 565.75,-104 832.25,-104 832.25,-187\"/>\n<text text-anchor=\"middle\" x=\"699\" y=\"-169.7\" font-family=\"Helvetica,sans-Serif\" font-size=\"14.00\">fBodyGyro&#45;bandsEnergy()&#45;57,64 &lt;= &#45;0.99</text>\n<text text-anchor=\"middle\" x=\"699\" y=\"-154.7\" font-family=\"Helvetica,sans-Serif\" font-size=\"14.00\">gini = 0.012</text>\n<text text-anchor=\"middle\" x=\"699\" y=\"-139.7\" font-family=\"Helvetica,sans-Serif\" font-size=\"14.00\">samples = 851</text>\n<text text-anchor=\"middle\" x=\"699\" y=\"-124.7\" font-family=\"Helvetica,sans-Serif\" font-size=\"14.00\">value = [0, 0, 0, 846, 5, 0]</text>\n<text text-anchor=\"middle\" x=\"699\" y=\"-109.7\" font-family=\"Helvetica,sans-Serif\" font-size=\"14.00\">class = SITTING</text>\n</g>\n<!-- 16&#45;&gt;17 -->\n<g id=\"edge17\" class=\"edge\">\n<title>16&#45;&gt;17</title>\n<path fill=\"none\" stroke=\"black\" d=\"M906.82,-227.28C877.79,-216 845.4,-203.41 815.01,-191.59\"/>\n<polygon fill=\"black\" stroke=\"black\" points=\"816.34,-188.36 805.76,-188 813.81,-194.88 816.34,-188.36\"/>\n</g>\n<!-- 20 -->\n<g id=\"node21\" class=\"node\">\n<title>20</title>\n<polygon fill=\"#5baee9\" stroke=\"black\" points=\"1096.12,-187 903.88,-187 903.88,-104 1096.12,-104 1096.12,-187\"/>\n<text text-anchor=\"middle\" x=\"1000\" y=\"-169.7\" font-family=\"Helvetica,sans-Serif\" font-size=\"14.00\">tGravityAcc&#45;min()&#45;Z &lt;= 0.067</text>\n<text text-anchor=\"middle\" x=\"1000\" y=\"-154.7\" font-family=\"Helvetica,sans-Serif\" font-size=\"14.00\">gini = 0.248</text>\n<text text-anchor=\"middle\" x=\"1000\" y=\"-139.7\" font-family=\"Helvetica,sans-Serif\" font-size=\"14.00\">samples = 76</text>\n<text text-anchor=\"middle\" x=\"1000\" y=\"-124.7\" font-family=\"Helvetica,sans-Serif\" font-size=\"14.00\">value = [0, 0, 0, 65, 11, 0]</text>\n<text text-anchor=\"middle\" x=\"1000\" y=\"-109.7\" font-family=\"Helvetica,sans-Serif\" font-size=\"14.00\">class = SITTING</text>\n</g>\n<!-- 16&#45;&gt;20 -->\n<g id=\"edge20\" class=\"edge\">\n<title>16&#45;&gt;20</title>\n<path fill=\"none\" stroke=\"black\" d=\"M1000,-222.58C1000,-214.79 1000,-206.53 1000,-198.45\"/>\n<polygon fill=\"black\" stroke=\"black\" points=\"1003.5,-198.71 1000,-188.71 996.5,-198.71 1003.5,-198.71\"/>\n</g>\n<!-- 18 -->\n<g id=\"node19\" class=\"node\">\n<title>18</title>\n<polygon fill=\"#3a9de5\" stroke=\"black\" points=\"575.5,-68 406.5,-68 406.5,0 575.5,0 575.5,-68\"/>\n<text text-anchor=\"middle\" x=\"491\" y=\"-50.7\" font-family=\"Helvetica,sans-Serif\" font-size=\"14.00\">gini = 0.009</text>\n<text text-anchor=\"middle\" x=\"491\" y=\"-35.7\" font-family=\"Helvetica,sans-Serif\" font-size=\"14.00\">samples = 850</text>\n<text text-anchor=\"middle\" x=\"491\" y=\"-20.7\" font-family=\"Helvetica,sans-Serif\" font-size=\"14.00\">value = [0, 0, 0, 846, 4, 0]</text>\n<text text-anchor=\"middle\" x=\"491\" y=\"-5.7\" font-family=\"Helvetica,sans-Serif\" font-size=\"14.00\">class = SITTING</text>\n</g>\n<!-- 17&#45;&gt;18 -->\n<g id=\"edge18\" class=\"edge\">\n<title>17&#45;&gt;18</title>\n<path fill=\"none\" stroke=\"black\" d=\"M621.25,-103.57C602.66,-93.78 582.86,-83.36 564.47,-73.68\"/>\n<polygon fill=\"black\" stroke=\"black\" points=\"566.23,-70.65 555.75,-69.09 562.97,-76.84 566.23,-70.65\"/>\n</g>\n<!-- 19 -->\n<g id=\"node20\" class=\"node\">\n<title>19</title>\n<polygon fill=\"#8139e5\" stroke=\"black\" points=\"748,-68 594,-68 594,0 748,0 748,-68\"/>\n<text text-anchor=\"middle\" x=\"671\" y=\"-50.7\" font-family=\"Helvetica,sans-Serif\" font-size=\"14.00\">gini = 0.0</text>\n<text text-anchor=\"middle\" x=\"671\" y=\"-35.7\" font-family=\"Helvetica,sans-Serif\" font-size=\"14.00\">samples = 1</text>\n<text text-anchor=\"middle\" x=\"671\" y=\"-20.7\" font-family=\"Helvetica,sans-Serif\" font-size=\"14.00\">value = [0, 0, 0, 0, 1, 0]</text>\n<text text-anchor=\"middle\" x=\"671\" y=\"-5.7\" font-family=\"Helvetica,sans-Serif\" font-size=\"14.00\">class = STANDING</text>\n</g>\n<!-- 17&#45;&gt;19 -->\n<g id=\"edge19\" class=\"edge\">\n<title>17&#45;&gt;19</title>\n<path fill=\"none\" stroke=\"black\" d=\"M688.57,-103.73C686.54,-95.79 684.41,-87.44 682.35,-79.39\"/>\n<polygon fill=\"black\" stroke=\"black\" points=\"685.76,-78.59 679.89,-69.77 678.98,-80.32 685.76,-78.59\"/>\n</g>\n<!-- 21 -->\n<g id=\"node22\" class=\"node\">\n<title>21</title>\n<polygon fill=\"#3c9fe5\" stroke=\"black\" points=\"927.75,-68 766.25,-68 766.25,0 927.75,0 927.75,-68\"/>\n<text text-anchor=\"middle\" x=\"847\" y=\"-50.7\" font-family=\"Helvetica,sans-Serif\" font-size=\"14.00\">gini = 0.03</text>\n<text text-anchor=\"middle\" x=\"847\" y=\"-35.7\" font-family=\"Helvetica,sans-Serif\" font-size=\"14.00\">samples = 66</text>\n<text text-anchor=\"middle\" x=\"847\" y=\"-20.7\" font-family=\"Helvetica,sans-Serif\" font-size=\"14.00\">value = [0, 0, 0, 65, 1, 0]</text>\n<text text-anchor=\"middle\" x=\"847\" y=\"-5.7\" font-family=\"Helvetica,sans-Serif\" font-size=\"14.00\">class = SITTING</text>\n</g>\n<!-- 20&#45;&gt;21 -->\n<g id=\"edge21\" class=\"edge\">\n<title>20&#45;&gt;21</title>\n<path fill=\"none\" stroke=\"black\" d=\"M943.03,-103.73C929.9,-94.33 915.95,-84.35 902.87,-74.99\"/>\n<polygon fill=\"black\" stroke=\"black\" points=\"904.93,-72.15 894.76,-69.18 900.85,-77.85 904.93,-72.15\"/>\n</g>\n<!-- 22 -->\n<g id=\"node23\" class=\"node\">\n<title>22</title>\n<polygon fill=\"#8139e5\" stroke=\"black\" points=\"1107.75,-68 946.25,-68 946.25,0 1107.75,0 1107.75,-68\"/>\n<text text-anchor=\"middle\" x=\"1027\" y=\"-50.7\" font-family=\"Helvetica,sans-Serif\" font-size=\"14.00\">gini = 0.0</text>\n<text text-anchor=\"middle\" x=\"1027\" y=\"-35.7\" font-family=\"Helvetica,sans-Serif\" font-size=\"14.00\">samples = 10</text>\n<text text-anchor=\"middle\" x=\"1027\" y=\"-20.7\" font-family=\"Helvetica,sans-Serif\" font-size=\"14.00\">value = [0, 0, 0, 0, 10, 0]</text>\n<text text-anchor=\"middle\" x=\"1027\" y=\"-5.7\" font-family=\"Helvetica,sans-Serif\" font-size=\"14.00\">class = STANDING</text>\n</g>\n<!-- 20&#45;&gt;22 -->\n<g id=\"edge22\" class=\"edge\">\n<title>20&#45;&gt;22</title>\n<path fill=\"none\" stroke=\"black\" d=\"M1010.05,-103.73C1012.01,-95.79 1014.07,-87.44 1016.05,-79.39\"/>\n<polygon fill=\"black\" stroke=\"black\" points=\"1019.43,-80.32 1018.43,-69.77 1012.63,-78.64 1019.43,-80.32\"/>\n</g>\n<!-- 24 -->\n<g id=\"node25\" class=\"node\">\n<title>24</title>\n<polygon fill=\"#3e9fe6\" stroke=\"black\" points=\"1462.25,-187 1231.75,-187 1231.75,-104 1462.25,-104 1462.25,-187\"/>\n<text text-anchor=\"middle\" x=\"1347\" y=\"-169.7\" font-family=\"Helvetica,sans-Serif\" font-size=\"14.00\">tGravityAcc&#45;arCoeff()&#45;X,3 &lt;= &#45;0.991</text>\n<text text-anchor=\"middle\" x=\"1347\" y=\"-154.7\" font-family=\"Helvetica,sans-Serif\" font-size=\"14.00\">gini = 0.046</text>\n<text text-anchor=\"middle\" x=\"1347\" y=\"-139.7\" font-family=\"Helvetica,sans-Serif\" font-size=\"14.00\">samples = 42</text>\n<text text-anchor=\"middle\" x=\"1347\" y=\"-124.7\" font-family=\"Helvetica,sans-Serif\" font-size=\"14.00\">value = [0, 0, 0, 41, 1, 0]</text>\n<text text-anchor=\"middle\" x=\"1347\" y=\"-109.7\" font-family=\"Helvetica,sans-Serif\" font-size=\"14.00\">class = SITTING</text>\n</g>\n<!-- 23&#45;&gt;24 -->\n<g id=\"edge24\" class=\"edge\">\n<title>23&#45;&gt;24</title>\n<path fill=\"none\" stroke=\"black\" d=\"M1426.33,-222.58C1417.08,-213.71 1407.22,-204.25 1397.69,-195.12\"/>\n<polygon fill=\"black\" stroke=\"black\" points=\"1400.17,-192.64 1390.53,-188.25 1395.33,-197.7 1400.17,-192.64\"/>\n</g>\n<!-- 27 -->\n<g id=\"node28\" class=\"node\">\n<title>27</title>\n<polygon fill=\"#b286ef\" stroke=\"black\" points=\"1702.12,-187 1479.88,-187 1479.88,-104 1702.12,-104 1702.12,-187\"/>\n<text text-anchor=\"middle\" x=\"1591\" y=\"-169.7\" font-family=\"Helvetica,sans-Serif\" font-size=\"14.00\">fBodyAccJerk&#45;mean()&#45;Y &lt;= &#45;0.984</text>\n<text text-anchor=\"middle\" x=\"1591\" y=\"-154.7\" font-family=\"Helvetica,sans-Serif\" font-size=\"14.00\">gini = 0.403</text>\n<text text-anchor=\"middle\" x=\"1591\" y=\"-139.7\" font-family=\"Helvetica,sans-Serif\" font-size=\"14.00\">samples = 25</text>\n<text text-anchor=\"middle\" x=\"1591\" y=\"-124.7\" font-family=\"Helvetica,sans-Serif\" font-size=\"14.00\">value = [0, 0, 0, 7, 18, 0]</text>\n<text text-anchor=\"middle\" x=\"1591\" y=\"-109.7\" font-family=\"Helvetica,sans-Serif\" font-size=\"14.00\">class = STANDING</text>\n</g>\n<!-- 23&#45;&gt;27 -->\n<g id=\"edge27\" class=\"edge\">\n<title>23&#45;&gt;27</title>\n<path fill=\"none\" stroke=\"black\" d=\"M1511.67,-222.58C1520.92,-213.71 1530.78,-204.25 1540.31,-195.12\"/>\n<polygon fill=\"black\" stroke=\"black\" points=\"1542.67,-197.7 1547.47,-188.25 1537.83,-192.64 1542.67,-197.7\"/>\n</g>\n<!-- 25 -->\n<g id=\"node26\" class=\"node\">\n<title>25</title>\n<polygon fill=\"#8139e5\" stroke=\"black\" points=\"1280,-68 1126,-68 1126,0 1280,0 1280,-68\"/>\n<text text-anchor=\"middle\" x=\"1203\" y=\"-50.7\" font-family=\"Helvetica,sans-Serif\" font-size=\"14.00\">gini = 0.0</text>\n<text text-anchor=\"middle\" x=\"1203\" y=\"-35.7\" font-family=\"Helvetica,sans-Serif\" font-size=\"14.00\">samples = 1</text>\n<text text-anchor=\"middle\" x=\"1203\" y=\"-20.7\" font-family=\"Helvetica,sans-Serif\" font-size=\"14.00\">value = [0, 0, 0, 0, 1, 0]</text>\n<text text-anchor=\"middle\" x=\"1203\" y=\"-5.7\" font-family=\"Helvetica,sans-Serif\" font-size=\"14.00\">class = STANDING</text>\n</g>\n<!-- 24&#45;&gt;25 -->\n<g id=\"edge25\" class=\"edge\">\n<title>24&#45;&gt;25</title>\n<path fill=\"none\" stroke=\"black\" d=\"M1293.38,-103.73C1281.15,-94.42 1268.15,-84.54 1255.95,-75.26\"/>\n<polygon fill=\"black\" stroke=\"black\" points=\"1258.07,-72.48 1248,-69.22 1253.84,-78.05 1258.07,-72.48\"/>\n</g>\n<!-- 26 -->\n<g id=\"node27\" class=\"node\">\n<title>26</title>\n<polygon fill=\"#399de5\" stroke=\"black\" points=\"1459.75,-68 1298.25,-68 1298.25,0 1459.75,0 1459.75,-68\"/>\n<text text-anchor=\"middle\" x=\"1379\" y=\"-50.7\" font-family=\"Helvetica,sans-Serif\" font-size=\"14.00\">gini = 0.0</text>\n<text text-anchor=\"middle\" x=\"1379\" y=\"-35.7\" font-family=\"Helvetica,sans-Serif\" font-size=\"14.00\">samples = 41</text>\n<text text-anchor=\"middle\" x=\"1379\" y=\"-20.7\" font-family=\"Helvetica,sans-Serif\" font-size=\"14.00\">value = [0, 0, 0, 41, 0, 0]</text>\n<text text-anchor=\"middle\" x=\"1379\" y=\"-5.7\" font-family=\"Helvetica,sans-Serif\" font-size=\"14.00\">class = SITTING</text>\n</g>\n<!-- 24&#45;&gt;26 -->\n<g id=\"edge26\" class=\"edge\">\n<title>24&#45;&gt;26</title>\n<path fill=\"none\" stroke=\"black\" d=\"M1358.92,-103.73C1361.26,-95.7 1363.73,-87.24 1366.11,-79.11\"/>\n<polygon fill=\"black\" stroke=\"black\" points=\"1369.4,-80.33 1368.84,-69.75 1362.68,-78.37 1369.4,-80.33\"/>\n</g>\n<!-- 28 -->\n<g id=\"node29\" class=\"node\">\n<title>28</title>\n<polygon fill=\"#8139e5\" stroke=\"black\" points=\"1639.75,-68 1478.25,-68 1478.25,0 1639.75,0 1639.75,-68\"/>\n<text text-anchor=\"middle\" x=\"1559\" y=\"-50.7\" font-family=\"Helvetica,sans-Serif\" font-size=\"14.00\">gini = 0.0</text>\n<text text-anchor=\"middle\" x=\"1559\" y=\"-35.7\" font-family=\"Helvetica,sans-Serif\" font-size=\"14.00\">samples = 18</text>\n<text text-anchor=\"middle\" x=\"1559\" y=\"-20.7\" font-family=\"Helvetica,sans-Serif\" font-size=\"14.00\">value = [0, 0, 0, 0, 18, 0]</text>\n<text text-anchor=\"middle\" x=\"1559\" y=\"-5.7\" font-family=\"Helvetica,sans-Serif\" font-size=\"14.00\">class = STANDING</text>\n</g>\n<!-- 27&#45;&gt;28 -->\n<g id=\"edge28\" class=\"edge\">\n<title>27&#45;&gt;28</title>\n<path fill=\"none\" stroke=\"black\" d=\"M1579.08,-103.73C1576.74,-95.7 1574.27,-87.24 1571.89,-79.11\"/>\n<polygon fill=\"black\" stroke=\"black\" points=\"1575.32,-78.37 1569.16,-69.75 1568.6,-80.33 1575.32,-78.37\"/>\n</g>\n<!-- 29 -->\n<g id=\"node30\" class=\"node\">\n<title>29</title>\n<polygon fill=\"#399de5\" stroke=\"black\" points=\"1812,-68 1658,-68 1658,0 1812,0 1812,-68\"/>\n<text text-anchor=\"middle\" x=\"1735\" y=\"-50.7\" font-family=\"Helvetica,sans-Serif\" font-size=\"14.00\">gini = 0.0</text>\n<text text-anchor=\"middle\" x=\"1735\" y=\"-35.7\" font-family=\"Helvetica,sans-Serif\" font-size=\"14.00\">samples = 7</text>\n<text text-anchor=\"middle\" x=\"1735\" y=\"-20.7\" font-family=\"Helvetica,sans-Serif\" font-size=\"14.00\">value = [0, 0, 0, 7, 0, 0]</text>\n<text text-anchor=\"middle\" x=\"1735\" y=\"-5.7\" font-family=\"Helvetica,sans-Serif\" font-size=\"14.00\">class = SITTING</text>\n</g>\n<!-- 27&#45;&gt;29 -->\n<g id=\"edge29\" class=\"edge\">\n<title>27&#45;&gt;29</title>\n<path fill=\"none\" stroke=\"black\" d=\"M1644.62,-103.73C1656.85,-94.42 1669.85,-84.54 1682.05,-75.26\"/>\n<polygon fill=\"black\" stroke=\"black\" points=\"1684.16,-78.05 1690,-69.22 1679.93,-72.48 1684.16,-78.05\"/>\n</g>\n<!-- 31 -->\n<g id=\"node32\" class=\"node\">\n<title>31</title>\n<polygon fill=\"#efe6fc\" stroke=\"black\" points=\"2070.38,-306 1885.62,-306 1885.62,-223 2070.38,-223 2070.38,-306\"/>\n<text text-anchor=\"middle\" x=\"1978\" y=\"-288.7\" font-family=\"Helvetica,sans-Serif\" font-size=\"14.00\">fBodyGyro&#45;iqr()&#45;Y &lt;= &#45;0.987</text>\n<text text-anchor=\"middle\" x=\"1978\" y=\"-273.7\" font-family=\"Helvetica,sans-Serif\" font-size=\"14.00\">gini = 0.498</text>\n<text text-anchor=\"middle\" x=\"1978\" y=\"-258.7\" font-family=\"Helvetica,sans-Serif\" font-size=\"14.00\">samples = 163</text>\n<text text-anchor=\"middle\" x=\"1978\" y=\"-243.7\" font-family=\"Helvetica,sans-Serif\" font-size=\"14.00\">value = [0, 0, 0, 76, 87, 0]</text>\n<text text-anchor=\"middle\" x=\"1978\" y=\"-228.7\" font-family=\"Helvetica,sans-Serif\" font-size=\"14.00\">class = STANDING</text>\n</g>\n<!-- 30&#45;&gt;31 -->\n<g id=\"edge31\" class=\"edge\">\n<title>30&#45;&gt;31</title>\n<path fill=\"none\" stroke=\"black\" d=\"M1978,-341.58C1978,-333.79 1978,-325.53 1978,-317.45\"/>\n<polygon fill=\"black\" stroke=\"black\" points=\"1981.5,-317.71 1978,-307.71 1974.5,-317.71 1981.5,-317.71\"/>\n</g>\n<!-- 38 -->\n<g id=\"node39\" class=\"node\">\n<title>38</title>\n<polygon fill=\"#399de5\" stroke=\"black\" points=\"2257.5,-298.5 2088.5,-298.5 2088.5,-230.5 2257.5,-230.5 2257.5,-298.5\"/>\n<text text-anchor=\"middle\" x=\"2173\" y=\"-281.2\" font-family=\"Helvetica,sans-Serif\" font-size=\"14.00\">gini = 0.0</text>\n<text text-anchor=\"middle\" x=\"2173\" y=\"-266.2\" font-family=\"Helvetica,sans-Serif\" font-size=\"14.00\">samples = 105</text>\n<text text-anchor=\"middle\" x=\"2173\" y=\"-251.2\" font-family=\"Helvetica,sans-Serif\" font-size=\"14.00\">value = [0, 0, 0, 105, 0, 0]</text>\n<text text-anchor=\"middle\" x=\"2173\" y=\"-236.2\" font-family=\"Helvetica,sans-Serif\" font-size=\"14.00\">class = SITTING</text>\n</g>\n<!-- 30&#45;&gt;38 -->\n<g id=\"edge38\" class=\"edge\">\n<title>30&#45;&gt;38</title>\n<path fill=\"none\" stroke=\"black\" d=\"M2046.2,-341.58C2066.12,-329.63 2087.84,-316.6 2107.58,-304.75\"/>\n<polygon fill=\"black\" stroke=\"black\" points=\"2109.33,-307.79 2116.1,-299.64 2105.72,-301.78 2109.33,-307.79\"/>\n</g>\n<!-- 32 -->\n<g id=\"node33\" class=\"node\">\n<title>32</title>\n<polygon fill=\"#853fe6\" stroke=\"black\" points=\"2081.62,-187 1874.38,-187 1874.38,-104 2081.62,-104 2081.62,-187\"/>\n<text text-anchor=\"middle\" x=\"1978\" y=\"-169.7\" font-family=\"Helvetica,sans-Serif\" font-size=\"14.00\">angle(X,gravityMean) &lt;= &#45;0.961</text>\n<text text-anchor=\"middle\" x=\"1978\" y=\"-154.7\" font-family=\"Helvetica,sans-Serif\" font-size=\"14.00\">gini = 0.057</text>\n<text text-anchor=\"middle\" x=\"1978\" y=\"-139.7\" font-family=\"Helvetica,sans-Serif\" font-size=\"14.00\">samples = 34</text>\n<text text-anchor=\"middle\" x=\"1978\" y=\"-124.7\" font-family=\"Helvetica,sans-Serif\" font-size=\"14.00\">value = [0, 0, 0, 1, 33, 0]</text>\n<text text-anchor=\"middle\" x=\"1978\" y=\"-109.7\" font-family=\"Helvetica,sans-Serif\" font-size=\"14.00\">class = STANDING</text>\n</g>\n<!-- 31&#45;&gt;32 -->\n<g id=\"edge32\" class=\"edge\">\n<title>31&#45;&gt;32</title>\n<path fill=\"none\" stroke=\"black\" d=\"M1978,-222.58C1978,-214.79 1978,-206.53 1978,-198.45\"/>\n<polygon fill=\"black\" stroke=\"black\" points=\"1981.5,-198.71 1978,-188.71 1974.5,-198.71 1981.5,-198.71\"/>\n</g>\n<!-- 35 -->\n<g id=\"node36\" class=\"node\">\n<title>35</title>\n<polygon fill=\"#c8e4f8\" stroke=\"black\" points=\"2355.38,-187 2170.62,-187 2170.62,-104 2355.38,-104 2355.38,-187\"/>\n<text text-anchor=\"middle\" x=\"2263\" y=\"-169.7\" font-family=\"Helvetica,sans-Serif\" font-size=\"14.00\">tBodyGyro&#45;iqr()&#45;X &lt;= &#45;0.977</text>\n<text text-anchor=\"middle\" x=\"2263\" y=\"-154.7\" font-family=\"Helvetica,sans-Serif\" font-size=\"14.00\">gini = 0.487</text>\n<text text-anchor=\"middle\" x=\"2263\" y=\"-139.7\" font-family=\"Helvetica,sans-Serif\" font-size=\"14.00\">samples = 129</text>\n<text text-anchor=\"middle\" x=\"2263\" y=\"-124.7\" font-family=\"Helvetica,sans-Serif\" font-size=\"14.00\">value = [0, 0, 0, 75, 54, 0]</text>\n<text text-anchor=\"middle\" x=\"2263\" y=\"-109.7\" font-family=\"Helvetica,sans-Serif\" font-size=\"14.00\">class = SITTING</text>\n</g>\n<!-- 31&#45;&gt;35 -->\n<g id=\"edge35\" class=\"edge\">\n<title>31&#45;&gt;35</title>\n<path fill=\"none\" stroke=\"black\" d=\"M2070.53,-225.51C2099.05,-213.81 2130.62,-200.84 2159.81,-188.86\"/>\n<polygon fill=\"black\" stroke=\"black\" points=\"2161.12,-192.11 2169.05,-185.07 2158.47,-185.63 2161.12,-192.11\"/>\n</g>\n<!-- 33 -->\n<g id=\"node34\" class=\"node\">\n<title>33</title>\n<polygon fill=\"#399de5\" stroke=\"black\" points=\"1984,-68 1830,-68 1830,0 1984,0 1984,-68\"/>\n<text text-anchor=\"middle\" x=\"1907\" y=\"-50.7\" font-family=\"Helvetica,sans-Serif\" font-size=\"14.00\">gini = 0.0</text>\n<text text-anchor=\"middle\" x=\"1907\" y=\"-35.7\" font-family=\"Helvetica,sans-Serif\" font-size=\"14.00\">samples = 1</text>\n<text text-anchor=\"middle\" x=\"1907\" y=\"-20.7\" font-family=\"Helvetica,sans-Serif\" font-size=\"14.00\">value = [0, 0, 0, 1, 0, 0]</text>\n<text text-anchor=\"middle\" x=\"1907\" y=\"-5.7\" font-family=\"Helvetica,sans-Serif\" font-size=\"14.00\">class = SITTING</text>\n</g>\n<!-- 32&#45;&gt;33 -->\n<g id=\"edge33\" class=\"edge\">\n<title>32&#45;&gt;33</title>\n<path fill=\"none\" stroke=\"black\" d=\"M1951.56,-103.73C1946.06,-95.24 1940.25,-86.28 1934.71,-77.73\"/>\n<polygon fill=\"black\" stroke=\"black\" points=\"1937.79,-76.06 1929.41,-69.57 1931.92,-79.86 1937.79,-76.06\"/>\n</g>\n<!-- 34 -->\n<g id=\"node35\" class=\"node\">\n<title>34</title>\n<polygon fill=\"#8139e5\" stroke=\"black\" points=\"2163.75,-68 2002.25,-68 2002.25,0 2163.75,0 2163.75,-68\"/>\n<text text-anchor=\"middle\" x=\"2083\" y=\"-50.7\" font-family=\"Helvetica,sans-Serif\" font-size=\"14.00\">gini = 0.0</text>\n<text text-anchor=\"middle\" x=\"2083\" y=\"-35.7\" font-family=\"Helvetica,sans-Serif\" font-size=\"14.00\">samples = 33</text>\n<text text-anchor=\"middle\" x=\"2083\" y=\"-20.7\" font-family=\"Helvetica,sans-Serif\" font-size=\"14.00\">value = [0, 0, 0, 0, 33, 0]</text>\n<text text-anchor=\"middle\" x=\"2083\" y=\"-5.7\" font-family=\"Helvetica,sans-Serif\" font-size=\"14.00\">class = STANDING</text>\n</g>\n<!-- 32&#45;&gt;34 -->\n<g id=\"edge34\" class=\"edge\">\n<title>32&#45;&gt;34</title>\n<path fill=\"none\" stroke=\"black\" d=\"M2017.1,-103.73C2025.67,-94.79 2034.75,-85.32 2043.34,-76.36\"/>\n<polygon fill=\"black\" stroke=\"black\" points=\"2045.63,-79.03 2050.02,-69.39 2040.57,-74.19 2045.63,-79.03\"/>\n</g>\n<!-- 36 -->\n<g id=\"node37\" class=\"node\">\n<title>36</title>\n<polygon fill=\"#53aae8\" stroke=\"black\" points=\"2343.75,-68 2182.25,-68 2182.25,0 2343.75,0 2343.75,-68\"/>\n<text text-anchor=\"middle\" x=\"2263\" y=\"-50.7\" font-family=\"Helvetica,sans-Serif\" font-size=\"14.00\">gini = 0.208</text>\n<text text-anchor=\"middle\" x=\"2263\" y=\"-35.7\" font-family=\"Helvetica,sans-Serif\" font-size=\"14.00\">samples = 51</text>\n<text text-anchor=\"middle\" x=\"2263\" y=\"-20.7\" font-family=\"Helvetica,sans-Serif\" font-size=\"14.00\">value = [0, 0, 0, 45, 6, 0]</text>\n<text text-anchor=\"middle\" x=\"2263\" y=\"-5.7\" font-family=\"Helvetica,sans-Serif\" font-size=\"14.00\">class = SITTING</text>\n</g>\n<!-- 35&#45;&gt;36 -->\n<g id=\"edge36\" class=\"edge\">\n<title>35&#45;&gt;36</title>\n<path fill=\"none\" stroke=\"black\" d=\"M2263,-103.73C2263,-95.88 2263,-87.63 2263,-79.67\"/>\n<polygon fill=\"black\" stroke=\"black\" points=\"2266.5,-79.81 2263,-69.81 2259.5,-79.81 2266.5,-79.81\"/>\n</g>\n<!-- 37 -->\n<g id=\"node38\" class=\"node\">\n<title>37</title>\n<polygon fill=\"#d0b5f5\" stroke=\"black\" points=\"2530.5,-68 2361.5,-68 2361.5,0 2530.5,0 2530.5,-68\"/>\n<text text-anchor=\"middle\" x=\"2446\" y=\"-50.7\" font-family=\"Helvetica,sans-Serif\" font-size=\"14.00\">gini = 0.473</text>\n<text text-anchor=\"middle\" x=\"2446\" y=\"-35.7\" font-family=\"Helvetica,sans-Serif\" font-size=\"14.00\">samples = 78</text>\n<text text-anchor=\"middle\" x=\"2446\" y=\"-20.7\" font-family=\"Helvetica,sans-Serif\" font-size=\"14.00\">value = [0, 0, 0, 30, 48, 0]</text>\n<text text-anchor=\"middle\" x=\"2446\" y=\"-5.7\" font-family=\"Helvetica,sans-Serif\" font-size=\"14.00\">class = STANDING</text>\n</g>\n<!-- 35&#45;&gt;37 -->\n<g id=\"edge37\" class=\"edge\">\n<title>35&#45;&gt;37</title>\n<path fill=\"none\" stroke=\"black\" d=\"M2331.4,-103.57C2347.46,-93.96 2364.53,-83.75 2380.46,-74.22\"/>\n<polygon fill=\"black\" stroke=\"black\" points=\"2382.13,-77.3 2388.91,-69.16 2378.54,-71.29 2382.13,-77.3\"/>\n</g>\n<!-- 40 -->\n<g id=\"node41\" class=\"node\">\n<title>40</title>\n<polygon fill=\"#8a47e7\" stroke=\"black\" points=\"2969,-544 2773,-544 2773,-461 2969,-461 2969,-544\"/>\n<text text-anchor=\"middle\" x=\"2871\" y=\"-526.7\" font-family=\"Helvetica,sans-Serif\" font-size=\"14.00\">tBodyGyro&#45;max()&#45;X &lt;= &#45;0.893</text>\n<text text-anchor=\"middle\" x=\"2871\" y=\"-511.7\" font-family=\"Helvetica,sans-Serif\" font-size=\"14.00\">gini = 0.121</text>\n<text text-anchor=\"middle\" x=\"2871\" y=\"-496.7\" font-family=\"Helvetica,sans-Serif\" font-size=\"14.00\">samples = 1240</text>\n<text text-anchor=\"middle\" x=\"2871\" y=\"-481.7\" font-family=\"Helvetica,sans-Serif\" font-size=\"14.00\">value = [0, 0, 0, 80, 1160, 0]</text>\n<text text-anchor=\"middle\" x=\"2871\" y=\"-466.7\" font-family=\"Helvetica,sans-Serif\" font-size=\"14.00\">class = STANDING</text>\n</g>\n<!-- 39&#45;&gt;40 -->\n<g id=\"edge40\" class=\"edge\">\n<title>39&#45;&gt;40</title>\n<path fill=\"none\" stroke=\"black\" d=\"M2958.78,-579.58C2948.34,-570.53 2937.19,-560.87 2926.46,-551.56\"/>\n<polygon fill=\"black\" stroke=\"black\" points=\"2928.95,-549.1 2919.11,-545.19 2924.37,-554.39 2928.95,-549.1\"/>\n</g>\n<!-- 51 -->\n<g id=\"node52\" class=\"node\">\n<title>51</title>\n<polygon fill=\"#edf6fd\" stroke=\"black\" points=\"3239.75,-544 3042.25,-544 3042.25,-461 3239.75,-461 3239.75,-544\"/>\n<text text-anchor=\"middle\" x=\"3141\" y=\"-526.7\" font-family=\"Helvetica,sans-Serif\" font-size=\"14.00\">tGravityAcc&#45;min()&#45;Y &lt;= &#45;0.139</text>\n<text text-anchor=\"middle\" x=\"3141\" y=\"-511.7\" font-family=\"Helvetica,sans-Serif\" font-size=\"14.00\">gini = 0.499</text>\n<text text-anchor=\"middle\" x=\"3141\" y=\"-496.7\" font-family=\"Helvetica,sans-Serif\" font-size=\"14.00\">samples = 63</text>\n<text text-anchor=\"middle\" x=\"3141\" y=\"-481.7\" font-family=\"Helvetica,sans-Serif\" font-size=\"14.00\">value = [0, 0, 0, 33, 30, 0]</text>\n<text text-anchor=\"middle\" x=\"3141\" y=\"-466.7\" font-family=\"Helvetica,sans-Serif\" font-size=\"14.00\">class = SITTING</text>\n</g>\n<!-- 39&#45;&gt;51 -->\n<g id=\"edge51\" class=\"edge\">\n<title>39&#45;&gt;51</title>\n<path fill=\"none\" stroke=\"black\" d=\"M3053.22,-579.58C3063.66,-570.53 3074.81,-560.87 3085.54,-551.56\"/>\n<polygon fill=\"black\" stroke=\"black\" points=\"3087.63,-554.39 3092.89,-545.19 3083.05,-549.1 3087.63,-554.39\"/>\n</g>\n<!-- 41 -->\n<g id=\"node42\" class=\"node\">\n<title>41</title>\n<polygon fill=\"#399de5\" stroke=\"black\" points=\"2732,-417.5 2578,-417.5 2578,-349.5 2732,-349.5 2732,-417.5\"/>\n<text text-anchor=\"middle\" x=\"2655\" y=\"-400.2\" font-family=\"Helvetica,sans-Serif\" font-size=\"14.00\">gini = 0.0</text>\n<text text-anchor=\"middle\" x=\"2655\" y=\"-385.2\" font-family=\"Helvetica,sans-Serif\" font-size=\"14.00\">samples = 8</text>\n<text text-anchor=\"middle\" x=\"2655\" y=\"-370.2\" font-family=\"Helvetica,sans-Serif\" font-size=\"14.00\">value = [0, 0, 0, 8, 0, 0]</text>\n<text text-anchor=\"middle\" x=\"2655\" y=\"-355.2\" font-family=\"Helvetica,sans-Serif\" font-size=\"14.00\">class = SITTING</text>\n</g>\n<!-- 40&#45;&gt;41 -->\n<g id=\"edge41\" class=\"edge\">\n<title>40&#45;&gt;41</title>\n<path fill=\"none\" stroke=\"black\" d=\"M2795.45,-460.58C2773.09,-448.46 2748.68,-435.24 2726.57,-423.27\"/>\n<polygon fill=\"black\" stroke=\"black\" points=\"2728.38,-420.27 2717.92,-418.58 2725.05,-426.42 2728.38,-420.27\"/>\n</g>\n<!-- 42 -->\n<g id=\"node43\" class=\"node\">\n<title>42</title>\n<polygon fill=\"#8945e7\" stroke=\"black\" points=\"2991.5,-425 2750.5,-425 2750.5,-342 2991.5,-342 2991.5,-425\"/>\n<text text-anchor=\"middle\" x=\"2871\" y=\"-407.7\" font-family=\"Helvetica,sans-Serif\" font-size=\"14.00\">tBodyGyro&#45;correlation()&#45;X,Y &lt;= 0.656</text>\n<text text-anchor=\"middle\" x=\"2871\" y=\"-392.7\" font-family=\"Helvetica,sans-Serif\" font-size=\"14.00\">gini = 0.11</text>\n<text text-anchor=\"middle\" x=\"2871\" y=\"-377.7\" font-family=\"Helvetica,sans-Serif\" font-size=\"14.00\">samples = 1232</text>\n<text text-anchor=\"middle\" x=\"2871\" y=\"-362.7\" font-family=\"Helvetica,sans-Serif\" font-size=\"14.00\">value = [0, 0, 0, 72, 1160, 0]</text>\n<text text-anchor=\"middle\" x=\"2871\" y=\"-347.7\" font-family=\"Helvetica,sans-Serif\" font-size=\"14.00\">class = STANDING</text>\n</g>\n<!-- 40&#45;&gt;42 -->\n<g id=\"edge42\" class=\"edge\">\n<title>40&#45;&gt;42</title>\n<path fill=\"none\" stroke=\"black\" d=\"M2871,-460.58C2871,-452.79 2871,-444.53 2871,-436.45\"/>\n<polygon fill=\"black\" stroke=\"black\" points=\"2874.5,-436.71 2871,-426.71 2867.5,-436.71 2874.5,-436.71\"/>\n</g>\n<!-- 43 -->\n<g id=\"node44\" class=\"node\">\n<title>43</title>\n<polygon fill=\"#8843e6\" stroke=\"black\" points=\"2792.25,-306 2597.75,-306 2597.75,-223 2792.25,-223 2792.25,-306\"/>\n<text text-anchor=\"middle\" x=\"2695\" y=\"-288.7\" font-family=\"Helvetica,sans-Serif\" font-size=\"14.00\">tBodyAccJerk&#45;iqr()&#45;Z &lt;= &#45;0.98</text>\n<text text-anchor=\"middle\" x=\"2695\" y=\"-273.7\" font-family=\"Helvetica,sans-Serif\" font-size=\"14.00\">gini = 0.094</text>\n<text text-anchor=\"middle\" x=\"2695\" y=\"-258.7\" font-family=\"Helvetica,sans-Serif\" font-size=\"14.00\">samples = 1214</text>\n<text text-anchor=\"middle\" x=\"2695\" y=\"-243.7\" font-family=\"Helvetica,sans-Serif\" font-size=\"14.00\">value = [0, 0, 0, 60, 1154, 0]</text>\n<text text-anchor=\"middle\" x=\"2695\" y=\"-228.7\" font-family=\"Helvetica,sans-Serif\" font-size=\"14.00\">class = STANDING</text>\n</g>\n<!-- 42&#45;&gt;43 -->\n<g id=\"edge43\" class=\"edge\">\n<title>42&#45;&gt;43</title>\n<path fill=\"none\" stroke=\"black\" d=\"M2809.44,-341.58C2795.38,-332.23 2780.31,-322.21 2765.89,-312.63\"/>\n<polygon fill=\"black\" stroke=\"black\" points=\"2768.05,-309.86 2757.78,-307.24 2764.17,-315.69 2768.05,-309.86\"/>\n</g>\n<!-- 50 -->\n<g id=\"node51\" class=\"node\">\n<title>50</title>\n<polygon fill=\"#9ccef2\" stroke=\"black\" points=\"2971.75,-298.5 2810.25,-298.5 2810.25,-230.5 2971.75,-230.5 2971.75,-298.5\"/>\n<text text-anchor=\"middle\" x=\"2891\" y=\"-281.2\" font-family=\"Helvetica,sans-Serif\" font-size=\"14.00\">gini = 0.444</text>\n<text text-anchor=\"middle\" x=\"2891\" y=\"-266.2\" font-family=\"Helvetica,sans-Serif\" font-size=\"14.00\">samples = 18</text>\n<text text-anchor=\"middle\" x=\"2891\" y=\"-251.2\" font-family=\"Helvetica,sans-Serif\" font-size=\"14.00\">value = [0, 0, 0, 12, 6, 0]</text>\n<text text-anchor=\"middle\" x=\"2891\" y=\"-236.2\" font-family=\"Helvetica,sans-Serif\" font-size=\"14.00\">class = SITTING</text>\n</g>\n<!-- 42&#45;&gt;50 -->\n<g id=\"edge50\" class=\"edge\">\n<title>42&#45;&gt;50</title>\n<path fill=\"none\" stroke=\"black\" d=\"M2878,-341.58C2879.73,-331.43 2881.6,-320.5 2883.36,-310.18\"/>\n<polygon fill=\"black\" stroke=\"black\" points=\"2886.81,-310.8 2885.04,-300.35 2879.91,-309.62 2886.81,-310.8\"/>\n</g>\n<!-- 44 -->\n<g id=\"node45\" class=\"node\">\n<title>44</title>\n<polygon fill=\"#823be5\" stroke=\"black\" points=\"2806.88,-187 2583.12,-187 2583.12,-104 2806.88,-104 2806.88,-187\"/>\n<text text-anchor=\"middle\" x=\"2695\" y=\"-169.7\" font-family=\"Helvetica,sans-Serif\" font-size=\"14.00\">tBodyGyro&#45;arCoeff()&#45;Y,1 &lt;= &#45;0.545</text>\n<text text-anchor=\"middle\" x=\"2695\" y=\"-154.7\" font-family=\"Helvetica,sans-Serif\" font-size=\"14.00\">gini = 0.022</text>\n<text text-anchor=\"middle\" x=\"2695\" y=\"-139.7\" font-family=\"Helvetica,sans-Serif\" font-size=\"14.00\">samples = 802</text>\n<text text-anchor=\"middle\" x=\"2695\" y=\"-124.7\" font-family=\"Helvetica,sans-Serif\" font-size=\"14.00\">value = [0, 0, 0, 9, 793, 0]</text>\n<text text-anchor=\"middle\" x=\"2695\" y=\"-109.7\" font-family=\"Helvetica,sans-Serif\" font-size=\"14.00\">class = STANDING</text>\n</g>\n<!-- 43&#45;&gt;44 -->\n<g id=\"edge44\" class=\"edge\">\n<title>43&#45;&gt;44</title>\n<path fill=\"none\" stroke=\"black\" d=\"M2695,-222.58C2695,-214.79 2695,-206.53 2695,-198.45\"/>\n<polygon fill=\"black\" stroke=\"black\" points=\"2698.5,-198.71 2695,-188.71 2691.5,-198.71 2698.5,-198.71\"/>\n</g>\n<!-- 47 -->\n<g id=\"node48\" class=\"node\">\n<title>47</title>\n<polygon fill=\"#9355e9\" stroke=\"black\" points=\"3091,-187 2895,-187 2895,-104 3091,-104 3091,-187\"/>\n<text text-anchor=\"middle\" x=\"2993\" y=\"-169.7\" font-family=\"Helvetica,sans-Serif\" font-size=\"14.00\">fBodyGyro&#45;max()&#45;X &lt;= &#45;0.982</text>\n<text text-anchor=\"middle\" x=\"2993\" y=\"-154.7\" font-family=\"Helvetica,sans-Serif\" font-size=\"14.00\">gini = 0.217</text>\n<text text-anchor=\"middle\" x=\"2993\" y=\"-139.7\" font-family=\"Helvetica,sans-Serif\" font-size=\"14.00\">samples = 412</text>\n<text text-anchor=\"middle\" x=\"2993\" y=\"-124.7\" font-family=\"Helvetica,sans-Serif\" font-size=\"14.00\">value = [0, 0, 0, 51, 361, 0]</text>\n<text text-anchor=\"middle\" x=\"2993\" y=\"-109.7\" font-family=\"Helvetica,sans-Serif\" font-size=\"14.00\">class = STANDING</text>\n</g>\n<!-- 43&#45;&gt;47 -->\n<g id=\"edge47\" class=\"edge\">\n<title>43&#45;&gt;47</title>\n<path fill=\"none\" stroke=\"black\" d=\"M2792.58,-225.19C2821.88,-213.68 2854.21,-200.99 2884.2,-189.22\"/>\n<polygon fill=\"black\" stroke=\"black\" points=\"2885.26,-192.56 2893.29,-185.65 2882.7,-186.05 2885.26,-192.56\"/>\n</g>\n<!-- 45 -->\n<g id=\"node46\" class=\"node\">\n<title>45</title>\n<polygon fill=\"#d5bdf6\" stroke=\"black\" points=\"2703,-68 2549,-68 2549,0 2703,0 2703,-68\"/>\n<text text-anchor=\"middle\" x=\"2626\" y=\"-50.7\" font-family=\"Helvetica,sans-Serif\" font-size=\"14.00\">gini = 0.48</text>\n<text text-anchor=\"middle\" x=\"2626\" y=\"-35.7\" font-family=\"Helvetica,sans-Serif\" font-size=\"14.00\">samples = 10</text>\n<text text-anchor=\"middle\" x=\"2626\" y=\"-20.7\" font-family=\"Helvetica,sans-Serif\" font-size=\"14.00\">value = [0, 0, 0, 4, 6, 0]</text>\n<text text-anchor=\"middle\" x=\"2626\" y=\"-5.7\" font-family=\"Helvetica,sans-Serif\" font-size=\"14.00\">class = STANDING</text>\n</g>\n<!-- 44&#45;&gt;45 -->\n<g id=\"edge45\" class=\"edge\">\n<title>44&#45;&gt;45</title>\n<path fill=\"none\" stroke=\"black\" d=\"M2669.31,-103.73C2664.02,-95.34 2658.44,-86.47 2653.1,-78.01\"/>\n<polygon fill=\"black\" stroke=\"black\" points=\"2656.08,-76.17 2647.79,-69.58 2650.16,-79.91 2656.08,-76.17\"/>\n</g>\n<!-- 46 -->\n<g id=\"node47\" class=\"node\">\n<title>46</title>\n<polygon fill=\"#823ae5\" stroke=\"black\" points=\"2890.5,-68 2721.5,-68 2721.5,0 2890.5,0 2890.5,-68\"/>\n<text text-anchor=\"middle\" x=\"2806\" y=\"-50.7\" font-family=\"Helvetica,sans-Serif\" font-size=\"14.00\">gini = 0.013</text>\n<text text-anchor=\"middle\" x=\"2806\" y=\"-35.7\" font-family=\"Helvetica,sans-Serif\" font-size=\"14.00\">samples = 792</text>\n<text text-anchor=\"middle\" x=\"2806\" y=\"-20.7\" font-family=\"Helvetica,sans-Serif\" font-size=\"14.00\">value = [0, 0, 0, 5, 787, 0]</text>\n<text text-anchor=\"middle\" x=\"2806\" y=\"-5.7\" font-family=\"Helvetica,sans-Serif\" font-size=\"14.00\">class = STANDING</text>\n</g>\n<!-- 44&#45;&gt;46 -->\n<g id=\"edge46\" class=\"edge\">\n<title>44&#45;&gt;46</title>\n<path fill=\"none\" stroke=\"black\" d=\"M2736.33,-103.73C2745.39,-94.79 2754.99,-85.32 2764.08,-76.36\"/>\n<polygon fill=\"black\" stroke=\"black\" points=\"2766.51,-78.88 2771.17,-69.36 2761.59,-73.89 2766.51,-78.88\"/>\n</g>\n<!-- 48 -->\n<g id=\"node49\" class=\"node\">\n<title>48</title>\n<polygon fill=\"#c1e0f7\" stroke=\"black\" points=\"3077.5,-68 2908.5,-68 2908.5,0 3077.5,0 3077.5,-68\"/>\n<text text-anchor=\"middle\" x=\"2993\" y=\"-50.7\" font-family=\"Helvetica,sans-Serif\" font-size=\"14.00\">gini = 0.483</text>\n<text text-anchor=\"middle\" x=\"2993\" y=\"-35.7\" font-family=\"Helvetica,sans-Serif\" font-size=\"14.00\">samples = 59</text>\n<text text-anchor=\"middle\" x=\"2993\" y=\"-20.7\" font-family=\"Helvetica,sans-Serif\" font-size=\"14.00\">value = [0, 0, 0, 35, 24, 0]</text>\n<text text-anchor=\"middle\" x=\"2993\" y=\"-5.7\" font-family=\"Helvetica,sans-Serif\" font-size=\"14.00\">class = SITTING</text>\n</g>\n<!-- 47&#45;&gt;48 -->\n<g id=\"edge48\" class=\"edge\">\n<title>47&#45;&gt;48</title>\n<path fill=\"none\" stroke=\"black\" d=\"M2993,-103.73C2993,-95.88 2993,-87.63 2993,-79.67\"/>\n<polygon fill=\"black\" stroke=\"black\" points=\"2996.5,-79.81 2993,-69.81 2989.5,-79.81 2996.5,-79.81\"/>\n</g>\n<!-- 49 -->\n<g id=\"node50\" class=\"node\">\n<title>49</title>\n<polygon fill=\"#8742e6\" stroke=\"black\" points=\"3272.25,-68 3095.75,-68 3095.75,0 3272.25,0 3272.25,-68\"/>\n<text text-anchor=\"middle\" x=\"3184\" y=\"-50.7\" font-family=\"Helvetica,sans-Serif\" font-size=\"14.00\">gini = 0.087</text>\n<text text-anchor=\"middle\" x=\"3184\" y=\"-35.7\" font-family=\"Helvetica,sans-Serif\" font-size=\"14.00\">samples = 353</text>\n<text text-anchor=\"middle\" x=\"3184\" y=\"-20.7\" font-family=\"Helvetica,sans-Serif\" font-size=\"14.00\">value = [0, 0, 0, 16, 337, 0]</text>\n<text text-anchor=\"middle\" x=\"3184\" y=\"-5.7\" font-family=\"Helvetica,sans-Serif\" font-size=\"14.00\">class = STANDING</text>\n</g>\n<!-- 47&#45;&gt;49 -->\n<g id=\"edge49\" class=\"edge\">\n<title>47&#45;&gt;49</title>\n<path fill=\"none\" stroke=\"black\" d=\"M3064.39,-103.57C3081.31,-93.87 3099.31,-83.55 3116.07,-73.95\"/>\n<polygon fill=\"black\" stroke=\"black\" points=\"3117.53,-77.14 3124.46,-69.13 3114.04,-71.07 3117.53,-77.14\"/>\n</g>\n<!-- 52 -->\n<g id=\"node53\" class=\"node\">\n<title>52</title>\n<polygon fill=\"#9c64eb\" stroke=\"black\" points=\"3272,-425 3010,-425 3010,-342 3272,-342 3272,-425\"/>\n<text text-anchor=\"middle\" x=\"3141\" y=\"-407.7\" font-family=\"Helvetica,sans-Serif\" font-size=\"14.00\">fBodyAccJerk&#45;bandsEnergy()&#45;1,8 &lt;= &#45;1.0</text>\n<text text-anchor=\"middle\" x=\"3141\" y=\"-392.7\" font-family=\"Helvetica,sans-Serif\" font-size=\"14.00\">gini = 0.293</text>\n<text text-anchor=\"middle\" x=\"3141\" y=\"-377.7\" font-family=\"Helvetica,sans-Serif\" font-size=\"14.00\">samples = 28</text>\n<text text-anchor=\"middle\" x=\"3141\" y=\"-362.7\" font-family=\"Helvetica,sans-Serif\" font-size=\"14.00\">value = [0, 0, 0, 5, 23, 0]</text>\n<text text-anchor=\"middle\" x=\"3141\" y=\"-347.7\" font-family=\"Helvetica,sans-Serif\" font-size=\"14.00\">class = STANDING</text>\n</g>\n<!-- 51&#45;&gt;52 -->\n<g id=\"edge52\" class=\"edge\">\n<title>51&#45;&gt;52</title>\n<path fill=\"none\" stroke=\"black\" d=\"M3141,-460.58C3141,-452.79 3141,-444.53 3141,-436.45\"/>\n<polygon fill=\"black\" stroke=\"black\" points=\"3144.5,-436.71 3141,-426.71 3137.5,-436.71 3144.5,-436.71\"/>\n</g>\n<!-- 55 -->\n<g id=\"node56\" class=\"node\">\n<title>55</title>\n<polygon fill=\"#6ab6ec\" stroke=\"black\" points=\"3587.62,-425 3290.38,-425 3290.38,-342 3587.62,-342 3587.62,-425\"/>\n<text text-anchor=\"middle\" x=\"3439\" y=\"-407.7\" font-family=\"Helvetica,sans-Serif\" font-size=\"14.00\">angle(tBodyGyroMean,gravityMean) &lt;= &#45;0.449</text>\n<text text-anchor=\"middle\" x=\"3439\" y=\"-392.7\" font-family=\"Helvetica,sans-Serif\" font-size=\"14.00\">gini = 0.32</text>\n<text text-anchor=\"middle\" x=\"3439\" y=\"-377.7\" font-family=\"Helvetica,sans-Serif\" font-size=\"14.00\">samples = 35</text>\n<text text-anchor=\"middle\" x=\"3439\" y=\"-362.7\" font-family=\"Helvetica,sans-Serif\" font-size=\"14.00\">value = [0, 0, 0, 28, 7, 0]</text>\n<text text-anchor=\"middle\" x=\"3439\" y=\"-347.7\" font-family=\"Helvetica,sans-Serif\" font-size=\"14.00\">class = SITTING</text>\n</g>\n<!-- 51&#45;&gt;55 -->\n<g id=\"edge55\" class=\"edge\">\n<title>51&#45;&gt;55</title>\n<path fill=\"none\" stroke=\"black\" d=\"M3240.23,-462.54C3267.1,-451.99 3296.42,-440.48 3324.08,-429.62\"/>\n<polygon fill=\"black\" stroke=\"black\" points=\"3325.15,-432.96 3333.18,-426.05 3322.59,-426.44 3325.15,-432.96\"/>\n</g>\n<!-- 53 -->\n<g id=\"node54\" class=\"node\">\n<title>53</title>\n<polygon fill=\"#8139e5\" stroke=\"black\" points=\"3151.75,-298.5 2990.25,-298.5 2990.25,-230.5 3151.75,-230.5 3151.75,-298.5\"/>\n<text text-anchor=\"middle\" x=\"3071\" y=\"-281.2\" font-family=\"Helvetica,sans-Serif\" font-size=\"14.00\">gini = 0.0</text>\n<text text-anchor=\"middle\" x=\"3071\" y=\"-266.2\" font-family=\"Helvetica,sans-Serif\" font-size=\"14.00\">samples = 23</text>\n<text text-anchor=\"middle\" x=\"3071\" y=\"-251.2\" font-family=\"Helvetica,sans-Serif\" font-size=\"14.00\">value = [0, 0, 0, 0, 23, 0]</text>\n<text text-anchor=\"middle\" x=\"3071\" y=\"-236.2\" font-family=\"Helvetica,sans-Serif\" font-size=\"14.00\">class = STANDING</text>\n</g>\n<!-- 52&#45;&gt;53 -->\n<g id=\"edge53\" class=\"edge\">\n<title>52&#45;&gt;53</title>\n<path fill=\"none\" stroke=\"black\" d=\"M3116.52,-341.58C3110.12,-330.88 3103.2,-319.32 3096.74,-308.52\"/>\n<polygon fill=\"black\" stroke=\"black\" points=\"3099.87,-306.94 3091.74,-300.16 3093.87,-310.54 3099.87,-306.94\"/>\n</g>\n<!-- 54 -->\n<g id=\"node55\" class=\"node\">\n<title>54</title>\n<polygon fill=\"#399de5\" stroke=\"black\" points=\"3324,-298.5 3170,-298.5 3170,-230.5 3324,-230.5 3324,-298.5\"/>\n<text text-anchor=\"middle\" x=\"3247\" y=\"-281.2\" font-family=\"Helvetica,sans-Serif\" font-size=\"14.00\">gini = 0.0</text>\n<text text-anchor=\"middle\" x=\"3247\" y=\"-266.2\" font-family=\"Helvetica,sans-Serif\" font-size=\"14.00\">samples = 5</text>\n<text text-anchor=\"middle\" x=\"3247\" y=\"-251.2\" font-family=\"Helvetica,sans-Serif\" font-size=\"14.00\">value = [0, 0, 0, 5, 0, 0]</text>\n<text text-anchor=\"middle\" x=\"3247\" y=\"-236.2\" font-family=\"Helvetica,sans-Serif\" font-size=\"14.00\">class = SITTING</text>\n</g>\n<!-- 52&#45;&gt;54 -->\n<g id=\"edge54\" class=\"edge\">\n<title>52&#45;&gt;54</title>\n<path fill=\"none\" stroke=\"black\" d=\"M3178.07,-341.58C3188.16,-330.45 3199.09,-318.38 3209.22,-307.2\"/>\n<polygon fill=\"black\" stroke=\"black\" points=\"3211.64,-309.74 3215.76,-299.98 3206.45,-305.04 3211.64,-309.74\"/>\n</g>\n<!-- 56 -->\n<g id=\"node57\" class=\"node\">\n<title>56</title>\n<polygon fill=\"#8139e5\" stroke=\"black\" points=\"3496,-298.5 3342,-298.5 3342,-230.5 3496,-230.5 3496,-298.5\"/>\n<text text-anchor=\"middle\" x=\"3419\" y=\"-281.2\" font-family=\"Helvetica,sans-Serif\" font-size=\"14.00\">gini = 0.0</text>\n<text text-anchor=\"middle\" x=\"3419\" y=\"-266.2\" font-family=\"Helvetica,sans-Serif\" font-size=\"14.00\">samples = 5</text>\n<text text-anchor=\"middle\" x=\"3419\" y=\"-251.2\" font-family=\"Helvetica,sans-Serif\" font-size=\"14.00\">value = [0, 0, 0, 0, 5, 0]</text>\n<text text-anchor=\"middle\" x=\"3419\" y=\"-236.2\" font-family=\"Helvetica,sans-Serif\" font-size=\"14.00\">class = STANDING</text>\n</g>\n<!-- 55&#45;&gt;56 -->\n<g id=\"edge56\" class=\"edge\">\n<title>55&#45;&gt;56</title>\n<path fill=\"none\" stroke=\"black\" d=\"M3432,-341.58C3430.27,-331.43 3428.4,-320.5 3426.64,-310.18\"/>\n<polygon fill=\"black\" stroke=\"black\" points=\"3430.09,-309.62 3424.96,-300.35 3423.19,-310.8 3430.09,-309.62\"/>\n</g>\n<!-- 57 -->\n<g id=\"node58\" class=\"node\">\n<title>57</title>\n<polygon fill=\"#47a4e7\" stroke=\"black\" points=\"3774.25,-306 3513.75,-306 3513.75,-223 3774.25,-223 3774.25,-306\"/>\n<text text-anchor=\"middle\" x=\"3644\" y=\"-288.7\" font-family=\"Helvetica,sans-Serif\" font-size=\"14.00\">tBodyGyroJerkMag&#45;arCoeff()3 &lt;= &#45;0.209</text>\n<text text-anchor=\"middle\" x=\"3644\" y=\"-273.7\" font-family=\"Helvetica,sans-Serif\" font-size=\"14.00\">gini = 0.124</text>\n<text text-anchor=\"middle\" x=\"3644\" y=\"-258.7\" font-family=\"Helvetica,sans-Serif\" font-size=\"14.00\">samples = 30</text>\n<text text-anchor=\"middle\" x=\"3644\" y=\"-243.7\" font-family=\"Helvetica,sans-Serif\" font-size=\"14.00\">value = [0, 0, 0, 28, 2, 0]</text>\n<text text-anchor=\"middle\" x=\"3644\" y=\"-228.7\" font-family=\"Helvetica,sans-Serif\" font-size=\"14.00\">class = SITTING</text>\n</g>\n<!-- 55&#45;&gt;57 -->\n<g id=\"edge57\" class=\"edge\">\n<title>55&#45;&gt;57</title>\n<path fill=\"none\" stroke=\"black\" d=\"M3510.7,-341.58C3527.4,-332.05 3545.3,-321.83 3562.39,-312.08\"/>\n<polygon fill=\"black\" stroke=\"black\" points=\"3564.08,-315.14 3571.03,-307.15 3560.61,-309.07 3564.08,-315.14\"/>\n</g>\n<!-- 58 -->\n<g id=\"node59\" class=\"node\">\n<title>58</title>\n<polygon fill=\"#c09cf2\" stroke=\"black\" points=\"3545,-179.5 3391,-179.5 3391,-111.5 3545,-111.5 3545,-179.5\"/>\n<text text-anchor=\"middle\" x=\"3468\" y=\"-162.2\" font-family=\"Helvetica,sans-Serif\" font-size=\"14.00\">gini = 0.444</text>\n<text text-anchor=\"middle\" x=\"3468\" y=\"-147.2\" font-family=\"Helvetica,sans-Serif\" font-size=\"14.00\">samples = 3</text>\n<text text-anchor=\"middle\" x=\"3468\" y=\"-132.2\" font-family=\"Helvetica,sans-Serif\" font-size=\"14.00\">value = [0, 0, 0, 1, 2, 0]</text>\n<text text-anchor=\"middle\" x=\"3468\" y=\"-117.2\" font-family=\"Helvetica,sans-Serif\" font-size=\"14.00\">class = STANDING</text>\n</g>\n<!-- 57&#45;&gt;58 -->\n<g id=\"edge58\" class=\"edge\">\n<title>57&#45;&gt;58</title>\n<path fill=\"none\" stroke=\"black\" d=\"M3582.44,-222.58C3564.55,-210.68 3545.04,-197.72 3527.29,-185.91\"/>\n<polygon fill=\"black\" stroke=\"black\" points=\"3529.71,-183.32 3519.44,-180.7 3525.83,-189.15 3529.71,-183.32\"/>\n</g>\n<!-- 59 -->\n<g id=\"node60\" class=\"node\">\n<title>59</title>\n<polygon fill=\"#399de5\" stroke=\"black\" points=\"3724.75,-179.5 3563.25,-179.5 3563.25,-111.5 3724.75,-111.5 3724.75,-179.5\"/>\n<text text-anchor=\"middle\" x=\"3644\" y=\"-162.2\" font-family=\"Helvetica,sans-Serif\" font-size=\"14.00\">gini = 0.0</text>\n<text text-anchor=\"middle\" x=\"3644\" y=\"-147.2\" font-family=\"Helvetica,sans-Serif\" font-size=\"14.00\">samples = 27</text>\n<text text-anchor=\"middle\" x=\"3644\" y=\"-132.2\" font-family=\"Helvetica,sans-Serif\" font-size=\"14.00\">value = [0, 0, 0, 27, 0, 0]</text>\n<text text-anchor=\"middle\" x=\"3644\" y=\"-117.2\" font-family=\"Helvetica,sans-Serif\" font-size=\"14.00\">class = SITTING</text>\n</g>\n<!-- 57&#45;&gt;59 -->\n<g id=\"edge59\" class=\"edge\">\n<title>57&#45;&gt;59</title>\n<path fill=\"none\" stroke=\"black\" d=\"M3644,-222.58C3644,-212.43 3644,-201.5 3644,-191.18\"/>\n<polygon fill=\"black\" stroke=\"black\" points=\"3647.5,-191.37 3644,-181.37 3640.5,-191.37 3647.5,-191.37\"/>\n</g>\n<!-- 61 -->\n<g id=\"node62\" class=\"node\">\n<title>61</title>\n<polygon fill=\"#fbebdf\" stroke=\"black\" points=\"5861.62,-663 5636.38,-663 5636.38,-580 5861.62,-580 5861.62,-663\"/>\n<text text-anchor=\"middle\" x=\"5749\" y=\"-645.7\" font-family=\"Helvetica,sans-Serif\" font-size=\"14.00\">tGravityAcc&#45;arCoeff()&#45;Z,2 &lt;= 0.564</text>\n<text text-anchor=\"middle\" x=\"5749\" y=\"-630.7\" font-family=\"Helvetica,sans-Serif\" font-size=\"14.00\">gini = 0.56</text>\n<text text-anchor=\"middle\" x=\"5749\" y=\"-615.7\" font-family=\"Helvetica,sans-Serif\" font-size=\"14.00\">samples = 2364</text>\n<text text-anchor=\"middle\" x=\"5749\" y=\"-600.7\" font-family=\"Helvetica,sans-Serif\" font-size=\"14.00\">value = [1207, 987, 170, 0, 0, 0]</text>\n<text text-anchor=\"middle\" x=\"5749\" y=\"-585.7\" font-family=\"Helvetica,sans-Serif\" font-size=\"14.00\">class = WALKING</text>\n</g>\n<!-- 60&#45;&gt;61 -->\n<g id=\"edge61\" class=\"edge\">\n<title>60&#45;&gt;61</title>\n<path fill=\"none\" stroke=\"black\" d=\"M5749,-698.58C5749,-690.79 5749,-682.53 5749,-674.45\"/>\n<polygon fill=\"black\" stroke=\"black\" points=\"5752.5,-674.71 5749,-664.71 5745.5,-674.71 5752.5,-674.71\"/>\n</g>\n<!-- 108 -->\n<g id=\"node109\" class=\"node\">\n<title>108</title>\n<polygon fill=\"#52e891\" stroke=\"black\" points=\"7670.38,-663 7431.62,-663 7431.62,-580 7670.38,-580 7670.38,-663\"/>\n<text text-anchor=\"middle\" x=\"7551\" y=\"-645.7\" font-family=\"Helvetica,sans-Serif\" font-size=\"14.00\">tBodyGyro&#45;correlation()&#45;Y,Z &lt;= 0.276</text>\n<text text-anchor=\"middle\" x=\"7551\" y=\"-630.7\" font-family=\"Helvetica,sans-Serif\" font-size=\"14.00\">gini = 0.206</text>\n<text text-anchor=\"middle\" x=\"7551\" y=\"-615.7\" font-family=\"Helvetica,sans-Serif\" font-size=\"14.00\">samples = 921</text>\n<text text-anchor=\"middle\" x=\"7551\" y=\"-600.7\" font-family=\"Helvetica,sans-Serif\" font-size=\"14.00\">value = [19, 86, 816, 0, 0, 0]</text>\n<text text-anchor=\"middle\" x=\"7551\" y=\"-585.7\" font-family=\"Helvetica,sans-Serif\" font-size=\"14.00\">class = WALKING_DOWNSTAIRS</text>\n</g>\n<!-- 60&#45;&gt;108 -->\n<g id=\"edge108\" class=\"edge\">\n<title>60&#45;&gt;108</title>\n<path fill=\"none\" stroke=\"black\" d=\"M5857.67,-732.44C6171.69,-712.06 7079.62,-653.11 7420.03,-631\"/>\n<polygon fill=\"black\" stroke=\"black\" points=\"7420.14,-634.5 7429.9,-630.36 7419.69,-627.52 7420.14,-634.5\"/>\n</g>\n<!-- 62 -->\n<g id=\"node63\" class=\"node\">\n<title>62</title>\n<polygon fill=\"#eb9d66\" stroke=\"black\" points=\"5393.25,-544 5180.75,-544 5180.75,-461 5393.25,-461 5393.25,-544\"/>\n<text text-anchor=\"middle\" x=\"5287\" y=\"-526.7\" font-family=\"Helvetica,sans-Serif\" font-size=\"14.00\">fBodyGyro&#45;maxInds&#45;X &lt;= &#45;0.967</text>\n<text text-anchor=\"middle\" x=\"5287\" y=\"-511.7\" font-family=\"Helvetica,sans-Serif\" font-size=\"14.00\">gini = 0.343</text>\n<text text-anchor=\"middle\" x=\"5287\" y=\"-496.7\" font-family=\"Helvetica,sans-Serif\" font-size=\"14.00\">samples = 1367</text>\n<text text-anchor=\"middle\" x=\"5287\" y=\"-481.7\" font-family=\"Helvetica,sans-Serif\" font-size=\"14.00\">value = [1091, 143, 133, 0, 0, 0]</text>\n<text text-anchor=\"middle\" x=\"5287\" y=\"-466.7\" font-family=\"Helvetica,sans-Serif\" font-size=\"14.00\">class = WALKING</text>\n</g>\n<!-- 61&#45;&gt;62 -->\n<g id=\"edge62\" class=\"edge\">\n<title>61&#45;&gt;62</title>\n<path fill=\"none\" stroke=\"black\" d=\"M5635.98,-591.88C5565.73,-574.09 5475.56,-551.25 5404.49,-533.25\"/>\n<polygon fill=\"black\" stroke=\"black\" points=\"5405.72,-529.95 5395.16,-530.89 5404,-536.74 5405.72,-529.95\"/>\n</g>\n<!-- 89 -->\n<g id=\"node90\" class=\"node\">\n<title>89</title>\n<polygon fill=\"#aeea5b\" stroke=\"black\" points=\"6478.25,-544 6277.75,-544 6277.75,-461 6478.25,-461 6478.25,-544\"/>\n<text text-anchor=\"middle\" x=\"6378\" y=\"-526.7\" font-family=\"Helvetica,sans-Serif\" font-size=\"14.00\">tGravityAcc&#45;min()&#45;X &lt;= 0.956</text>\n<text text-anchor=\"middle\" x=\"6378\" y=\"-511.7\" font-family=\"Helvetica,sans-Serif\" font-size=\"14.00\">gini = 0.268</text>\n<text text-anchor=\"middle\" x=\"6378\" y=\"-496.7\" font-family=\"Helvetica,sans-Serif\" font-size=\"14.00\">samples = 997</text>\n<text text-anchor=\"middle\" x=\"6378\" y=\"-481.7\" font-family=\"Helvetica,sans-Serif\" font-size=\"14.00\">value = [116, 844, 37, 0, 0, 0]</text>\n<text text-anchor=\"middle\" x=\"6378\" y=\"-466.7\" font-family=\"Helvetica,sans-Serif\" font-size=\"14.00\">class = WALKING_UPSTAIRS</text>\n</g>\n<!-- 61&#45;&gt;89 -->\n<g id=\"edge89\" class=\"edge\">\n<title>61&#45;&gt;89</title>\n<path fill=\"none\" stroke=\"black\" d=\"M5861.82,-599.52C5976.18,-578.24 6152.07,-545.52 6266.1,-524.31\"/>\n<polygon fill=\"black\" stroke=\"black\" points=\"6266.6,-527.78 6275.8,-522.51 6265.32,-520.9 6266.6,-527.78\"/>\n</g>\n<!-- 63 -->\n<g id=\"node64\" class=\"node\">\n<title>63</title>\n<polygon fill=\"#f6fded\" stroke=\"black\" points=\"4552.25,-425 4351.75,-425 4351.75,-342 4552.25,-342 4552.25,-425\"/>\n<text text-anchor=\"middle\" x=\"4452\" y=\"-407.7\" font-family=\"Helvetica,sans-Serif\" font-size=\"14.00\">fBodyAcc&#45;max()&#45;Y &lt;= &#45;0.298</text>\n<text text-anchor=\"middle\" x=\"4452\" y=\"-392.7\" font-family=\"Helvetica,sans-Serif\" font-size=\"14.00\">gini = 0.57</text>\n<text text-anchor=\"middle\" x=\"4452\" y=\"-377.7\" font-family=\"Helvetica,sans-Serif\" font-size=\"14.00\">samples = 159</text>\n<text text-anchor=\"middle\" x=\"4452\" y=\"-362.7\" font-family=\"Helvetica,sans-Serif\" font-size=\"14.00\">value = [13, 77, 69, 0, 0, 0]</text>\n<text text-anchor=\"middle\" x=\"4452\" y=\"-347.7\" font-family=\"Helvetica,sans-Serif\" font-size=\"14.00\">class = WALKING_UPSTAIRS</text>\n</g>\n<!-- 62&#45;&gt;63 -->\n<g id=\"edge63\" class=\"edge\">\n<title>62&#45;&gt;63</title>\n<path fill=\"none\" stroke=\"black\" d=\"M5180.4,-486.56C5021.86,-464.35 4725.33,-422.8 4563.82,-400.17\"/>\n<polygon fill=\"black\" stroke=\"black\" points=\"4564.32,-396.7 4553.93,-398.78 4563.35,-403.64 4564.32,-396.7\"/>\n</g>\n<!-- 74 -->\n<g id=\"node75\" class=\"node\">\n<title>74</title>\n<polygon fill=\"#e88f50\" stroke=\"black\" points=\"5400.75,-425 5173.25,-425 5173.25,-342 5400.75,-342 5400.75,-425\"/>\n<text text-anchor=\"middle\" x=\"5287\" y=\"-407.7\" font-family=\"Helvetica,sans-Serif\" font-size=\"14.00\">tBodyAccMag&#45;arCoeff()1 &lt;= &#45;0.343</text>\n<text text-anchor=\"middle\" x=\"5287\" y=\"-392.7\" font-family=\"Helvetica,sans-Serif\" font-size=\"14.00\">gini = 0.198</text>\n<text text-anchor=\"middle\" x=\"5287\" y=\"-377.7\" font-family=\"Helvetica,sans-Serif\" font-size=\"14.00\">samples = 1208</text>\n<text text-anchor=\"middle\" x=\"5287\" y=\"-362.7\" font-family=\"Helvetica,sans-Serif\" font-size=\"14.00\">value = [1078, 66, 64, 0, 0, 0]</text>\n<text text-anchor=\"middle\" x=\"5287\" y=\"-347.7\" font-family=\"Helvetica,sans-Serif\" font-size=\"14.00\">class = WALKING</text>\n</g>\n<!-- 62&#45;&gt;74 -->\n<g id=\"edge74\" class=\"edge\">\n<title>62&#45;&gt;74</title>\n<path fill=\"none\" stroke=\"black\" d=\"M5287,-460.58C5287,-452.79 5287,-444.53 5287,-436.45\"/>\n<polygon fill=\"black\" stroke=\"black\" points=\"5290.5,-436.71 5287,-426.71 5283.5,-436.71 5290.5,-436.71\"/>\n</g>\n<!-- 64 -->\n<g id=\"node65\" class=\"node\">\n<title>64</title>\n<polygon fill=\"#68eb9f\" stroke=\"black\" points=\"4187,-306 3949,-306 3949,-223 4187,-223 4187,-306\"/>\n<text text-anchor=\"middle\" x=\"4068\" y=\"-288.7\" font-family=\"Helvetica,sans-Serif\" font-size=\"14.00\">tBodyAcc&#45;correlation()&#45;X,Y &lt;= &#45;0.219</text>\n<text text-anchor=\"middle\" x=\"4068\" y=\"-273.7\" font-family=\"Helvetica,sans-Serif\" font-size=\"14.00\">gini = 0.338</text>\n<text text-anchor=\"middle\" x=\"4068\" y=\"-258.7\" font-family=\"Helvetica,sans-Serif\" font-size=\"14.00\">samples = 79</text>\n<text text-anchor=\"middle\" x=\"4068\" y=\"-243.7\" font-family=\"Helvetica,sans-Serif\" font-size=\"14.00\">value = [12, 4, 63, 0, 0, 0]</text>\n<text text-anchor=\"middle\" x=\"4068\" y=\"-228.7\" font-family=\"Helvetica,sans-Serif\" font-size=\"14.00\">class = WALKING_DOWNSTAIRS</text>\n</g>\n<!-- 63&#45;&gt;64 -->\n<g id=\"edge64\" class=\"edge\">\n<title>63&#45;&gt;64</title>\n<path fill=\"none\" stroke=\"black\" d=\"M4351.36,-351.84C4304.57,-337.58 4248.35,-320.45 4198.36,-305.22\"/>\n<polygon fill=\"black\" stroke=\"black\" points=\"4199.49,-301.91 4188.91,-302.34 4197.45,-308.6 4199.49,-301.91\"/>\n</g>\n<!-- 69 -->\n<g id=\"node70\" class=\"node\">\n<title>69</title>\n<polygon fill=\"#a6e74c\" stroke=\"black\" points=\"4552.25,-306 4351.75,-306 4351.75,-223 4552.25,-223 4552.25,-306\"/>\n<text text-anchor=\"middle\" x=\"4452\" y=\"-288.7\" font-family=\"Helvetica,sans-Serif\" font-size=\"14.00\">tGravityAcc&#45;max()&#45;X &lt;= 0.89</text>\n<text text-anchor=\"middle\" x=\"4452\" y=\"-273.7\" font-family=\"Helvetica,sans-Serif\" font-size=\"14.00\">gini = 0.162</text>\n<text text-anchor=\"middle\" x=\"4452\" y=\"-258.7\" font-family=\"Helvetica,sans-Serif\" font-size=\"14.00\">samples = 80</text>\n<text text-anchor=\"middle\" x=\"4452\" y=\"-243.7\" font-family=\"Helvetica,sans-Serif\" font-size=\"14.00\">value = [1, 73, 6, 0, 0, 0]</text>\n<text text-anchor=\"middle\" x=\"4452\" y=\"-228.7\" font-family=\"Helvetica,sans-Serif\" font-size=\"14.00\">class = WALKING_UPSTAIRS</text>\n</g>\n<!-- 63&#45;&gt;69 -->\n<g id=\"edge69\" class=\"edge\">\n<title>63&#45;&gt;69</title>\n<path fill=\"none\" stroke=\"black\" d=\"M4452,-341.58C4452,-333.79 4452,-325.53 4452,-317.45\"/>\n<polygon fill=\"black\" stroke=\"black\" points=\"4455.5,-317.71 4452,-307.71 4448.5,-317.71 4455.5,-317.71\"/>\n</g>\n<!-- 65 -->\n<g id=\"node66\" class=\"node\">\n<title>65</title>\n<polygon fill=\"#43e687\" stroke=\"black\" points=\"3969,-187 3743,-187 3743,-104 3969,-104 3969,-187\"/>\n<text text-anchor=\"middle\" x=\"3856\" y=\"-169.7\" font-family=\"Helvetica,sans-Serif\" font-size=\"14.00\">angle(X,gravityMean) &lt;= &#45;0.651</text>\n<text text-anchor=\"middle\" x=\"3856\" y=\"-154.7\" font-family=\"Helvetica,sans-Serif\" font-size=\"14.00\">gini = 0.088</text>\n<text text-anchor=\"middle\" x=\"3856\" y=\"-139.7\" font-family=\"Helvetica,sans-Serif\" font-size=\"14.00\">samples = 65</text>\n<text text-anchor=\"middle\" x=\"3856\" y=\"-124.7\" font-family=\"Helvetica,sans-Serif\" font-size=\"14.00\">value = [0, 3, 62, 0, 0, 0]</text>\n<text text-anchor=\"middle\" x=\"3856\" y=\"-109.7\" font-family=\"Helvetica,sans-Serif\" font-size=\"14.00\">class = WALKING_DOWNSTAIRS</text>\n</g>\n<!-- 64&#45;&gt;65 -->\n<g id=\"edge65\" class=\"edge\">\n<title>64&#45;&gt;65</title>\n<path fill=\"none\" stroke=\"black\" d=\"M3993.85,-222.58C3976.42,-212.96 3957.73,-202.64 3939.9,-192.81\"/>\n<polygon fill=\"black\" stroke=\"black\" points=\"3941.88,-189.9 3931.43,-188.13 3938.49,-196.03 3941.88,-189.9\"/>\n</g>\n<!-- 68 -->\n<g id=\"node69\" class=\"node\">\n<title>68</title>\n<polygon fill=\"#e99457\" stroke=\"black\" points=\"4148.75,-179.5 3987.25,-179.5 3987.25,-111.5 4148.75,-111.5 4148.75,-179.5\"/>\n<text text-anchor=\"middle\" x=\"4068\" y=\"-162.2\" font-family=\"Helvetica,sans-Serif\" font-size=\"14.00\">gini = 0.255</text>\n<text text-anchor=\"middle\" x=\"4068\" y=\"-147.2\" font-family=\"Helvetica,sans-Serif\" font-size=\"14.00\">samples = 14</text>\n<text text-anchor=\"middle\" x=\"4068\" y=\"-132.2\" font-family=\"Helvetica,sans-Serif\" font-size=\"14.00\">value = [12, 1, 1, 0, 0, 0]</text>\n<text text-anchor=\"middle\" x=\"4068\" y=\"-117.2\" font-family=\"Helvetica,sans-Serif\" font-size=\"14.00\">class = WALKING</text>\n</g>\n<!-- 64&#45;&gt;68 -->\n<g id=\"edge68\" class=\"edge\">\n<title>64&#45;&gt;68</title>\n<path fill=\"none\" stroke=\"black\" d=\"M4068,-222.58C4068,-212.43 4068,-201.5 4068,-191.18\"/>\n<polygon fill=\"black\" stroke=\"black\" points=\"4071.5,-191.37 4068,-181.37 4064.5,-191.37 4071.5,-191.37\"/>\n</g>\n<!-- 66 -->\n<g id=\"node67\" class=\"node\">\n<title>66</title>\n<polygon fill=\"#39e581\" stroke=\"black\" points=\"3742,-68 3516,-68 3516,0 3742,0 3742,-68\"/>\n<text text-anchor=\"middle\" x=\"3629\" y=\"-50.7\" font-family=\"Helvetica,sans-Serif\" font-size=\"14.00\">gini = 0.0</text>\n<text text-anchor=\"middle\" x=\"3629\" y=\"-35.7\" font-family=\"Helvetica,sans-Serif\" font-size=\"14.00\">samples = 62</text>\n<text text-anchor=\"middle\" x=\"3629\" y=\"-20.7\" font-family=\"Helvetica,sans-Serif\" font-size=\"14.00\">value = [0, 0, 62, 0, 0, 0]</text>\n<text text-anchor=\"middle\" x=\"3629\" y=\"-5.7\" font-family=\"Helvetica,sans-Serif\" font-size=\"14.00\">class = WALKING_DOWNSTAIRS</text>\n</g>\n<!-- 65&#45;&gt;66 -->\n<g id=\"edge66\" class=\"edge\">\n<title>65&#45;&gt;66</title>\n<path fill=\"none\" stroke=\"black\" d=\"M3771.15,-103.57C3750.57,-93.64 3728.65,-83.07 3708.34,-73.27\"/>\n<polygon fill=\"black\" stroke=\"black\" points=\"3710.09,-70.23 3699.56,-69.04 3707.05,-76.54 3710.09,-70.23\"/>\n</g>\n<!-- 67 -->\n<g id=\"node68\" class=\"node\">\n<title>67</title>\n<polygon fill=\"#9de539\" stroke=\"black\" points=\"3960.25,-68 3759.75,-68 3759.75,0 3960.25,0 3960.25,-68\"/>\n<text text-anchor=\"middle\" x=\"3860\" y=\"-50.7\" font-family=\"Helvetica,sans-Serif\" font-size=\"14.00\">gini = 0.0</text>\n<text text-anchor=\"middle\" x=\"3860\" y=\"-35.7\" font-family=\"Helvetica,sans-Serif\" font-size=\"14.00\">samples = 3</text>\n<text text-anchor=\"middle\" x=\"3860\" y=\"-20.7\" font-family=\"Helvetica,sans-Serif\" font-size=\"14.00\">value = [0, 3, 0, 0, 0, 0]</text>\n<text text-anchor=\"middle\" x=\"3860\" y=\"-5.7\" font-family=\"Helvetica,sans-Serif\" font-size=\"14.00\">class = WALKING_UPSTAIRS</text>\n</g>\n<!-- 65&#45;&gt;67 -->\n<g id=\"edge67\" class=\"edge\">\n<title>65&#45;&gt;67</title>\n<path fill=\"none\" stroke=\"black\" d=\"M3857.49,-103.73C3857.78,-95.88 3858.08,-87.63 3858.37,-79.67\"/>\n<polygon fill=\"black\" stroke=\"black\" points=\"3861.86,-79.93 3858.73,-69.81 3854.87,-79.68 3861.86,-79.93\"/>\n</g>\n<!-- 70 -->\n<g id=\"node71\" class=\"node\">\n<title>70</title>\n<polygon fill=\"#a1e641\" stroke=\"black\" points=\"4459,-187 4167,-187 4167,-104 4459,-104 4459,-187\"/>\n<text text-anchor=\"middle\" x=\"4313\" y=\"-169.7\" font-family=\"Helvetica,sans-Serif\" font-size=\"14.00\">fBodyAccJerk&#45;bandsEnergy()&#45;17,24 &lt;= &#45;0.459</text>\n<text text-anchor=\"middle\" x=\"4313\" y=\"-154.7\" font-family=\"Helvetica,sans-Serif\" font-size=\"14.00\">gini = 0.077</text>\n<text text-anchor=\"middle\" x=\"4313\" y=\"-139.7\" font-family=\"Helvetica,sans-Serif\" font-size=\"14.00\">samples = 76</text>\n<text text-anchor=\"middle\" x=\"4313\" y=\"-124.7\" font-family=\"Helvetica,sans-Serif\" font-size=\"14.00\">value = [1, 73, 2, 0, 0, 0]</text>\n<text text-anchor=\"middle\" x=\"4313\" y=\"-109.7\" font-family=\"Helvetica,sans-Serif\" font-size=\"14.00\">class = WALKING_UPSTAIRS</text>\n</g>\n<!-- 69&#45;&gt;70 -->\n<g id=\"edge70\" class=\"edge\">\n<title>69&#45;&gt;70</title>\n<path fill=\"none\" stroke=\"black\" d=\"M4403.38,-222.58C4392.64,-213.53 4381.15,-203.87 4370.1,-194.56\"/>\n<polygon fill=\"black\" stroke=\"black\" points=\"4372.42,-191.94 4362.51,-188.17 4367.91,-197.29 4372.42,-191.94\"/>\n</g>\n<!-- 73 -->\n<g id=\"node74\" class=\"node\">\n<title>73</title>\n<polygon fill=\"#39e581\" stroke=\"black\" points=\"4703,-179.5 4477,-179.5 4477,-111.5 4703,-111.5 4703,-179.5\"/>\n<text text-anchor=\"middle\" x=\"4590\" y=\"-162.2\" font-family=\"Helvetica,sans-Serif\" font-size=\"14.00\">gini = 0.0</text>\n<text text-anchor=\"middle\" x=\"4590\" y=\"-147.2\" font-family=\"Helvetica,sans-Serif\" font-size=\"14.00\">samples = 4</text>\n<text text-anchor=\"middle\" x=\"4590\" y=\"-132.2\" font-family=\"Helvetica,sans-Serif\" font-size=\"14.00\">value = [0, 0, 4, 0, 0, 0]</text>\n<text text-anchor=\"middle\" x=\"4590\" y=\"-117.2\" font-family=\"Helvetica,sans-Serif\" font-size=\"14.00\">class = WALKING_DOWNSTAIRS</text>\n</g>\n<!-- 69&#45;&gt;73 -->\n<g id=\"edge73\" class=\"edge\">\n<title>69&#45;&gt;73</title>\n<path fill=\"none\" stroke=\"black\" d=\"M4500.27,-222.58C4513.78,-211.12 4528.47,-198.67 4541.97,-187.22\"/>\n<polygon fill=\"black\" stroke=\"black\" points=\"4544.13,-189.98 4549.5,-180.84 4539.61,-184.64 4544.13,-189.98\"/>\n</g>\n<!-- 71 -->\n<g id=\"node72\" class=\"node\">\n<title>71</title>\n<polygon fill=\"#9ee53c\" stroke=\"black\" points=\"4182.25,-68 3981.75,-68 3981.75,0 4182.25,0 4182.25,-68\"/>\n<text text-anchor=\"middle\" x=\"4082\" y=\"-50.7\" font-family=\"Helvetica,sans-Serif\" font-size=\"14.00\">gini = 0.027</text>\n<text text-anchor=\"middle\" x=\"4082\" y=\"-35.7\" font-family=\"Helvetica,sans-Serif\" font-size=\"14.00\">samples = 74</text>\n<text text-anchor=\"middle\" x=\"4082\" y=\"-20.7\" font-family=\"Helvetica,sans-Serif\" font-size=\"14.00\">value = [1, 73, 0, 0, 0, 0]</text>\n<text text-anchor=\"middle\" x=\"4082\" y=\"-5.7\" font-family=\"Helvetica,sans-Serif\" font-size=\"14.00\">class = WALKING_UPSTAIRS</text>\n</g>\n<!-- 70&#45;&gt;71 -->\n<g id=\"edge71\" class=\"edge\">\n<title>70&#45;&gt;71</title>\n<path fill=\"none\" stroke=\"black\" d=\"M4226.66,-103.57C4205.72,-93.64 4183.41,-83.07 4162.74,-73.27\"/>\n<polygon fill=\"black\" stroke=\"black\" points=\"4164.32,-70.15 4153.79,-69.03 4161.32,-76.48 4164.32,-70.15\"/>\n</g>\n<!-- 72 -->\n<g id=\"node73\" class=\"node\">\n<title>72</title>\n<polygon fill=\"#39e581\" stroke=\"black\" points=\"4426,-68 4200,-68 4200,0 4426,0 4426,-68\"/>\n<text text-anchor=\"middle\" x=\"4313\" y=\"-50.7\" font-family=\"Helvetica,sans-Serif\" font-size=\"14.00\">gini = 0.0</text>\n<text text-anchor=\"middle\" x=\"4313\" y=\"-35.7\" font-family=\"Helvetica,sans-Serif\" font-size=\"14.00\">samples = 2</text>\n<text text-anchor=\"middle\" x=\"4313\" y=\"-20.7\" font-family=\"Helvetica,sans-Serif\" font-size=\"14.00\">value = [0, 0, 2, 0, 0, 0]</text>\n<text text-anchor=\"middle\" x=\"4313\" y=\"-5.7\" font-family=\"Helvetica,sans-Serif\" font-size=\"14.00\">class = WALKING_DOWNSTAIRS</text>\n</g>\n<!-- 70&#45;&gt;72 -->\n<g id=\"edge72\" class=\"edge\">\n<title>70&#45;&gt;72</title>\n<path fill=\"none\" stroke=\"black\" d=\"M4313,-103.73C4313,-95.88 4313,-87.63 4313,-79.67\"/>\n<polygon fill=\"black\" stroke=\"black\" points=\"4316.5,-79.81 4313,-69.81 4309.5,-79.81 4316.5,-79.81\"/>\n</g>\n<!-- 75 -->\n<g id=\"node76\" class=\"node\">\n<title>75</title>\n<polygon fill=\"#d5fae4\" stroke=\"black\" points=\"5239,-306 5013,-306 5013,-223 5239,-223 5239,-306\"/>\n<text text-anchor=\"middle\" x=\"5126\" y=\"-288.7\" font-family=\"Helvetica,sans-Serif\" font-size=\"14.00\">angle(Y,gravityMean) &lt;= 0.226</text>\n<text text-anchor=\"middle\" x=\"5126\" y=\"-273.7\" font-family=\"Helvetica,sans-Serif\" font-size=\"14.00\">gini = 0.606</text>\n<text text-anchor=\"middle\" x=\"5126\" y=\"-258.7\" font-family=\"Helvetica,sans-Serif\" font-size=\"14.00\">samples = 81</text>\n<text text-anchor=\"middle\" x=\"5126\" y=\"-243.7\" font-family=\"Helvetica,sans-Serif\" font-size=\"14.00\">value = [12, 29, 40, 0, 0, 0]</text>\n<text text-anchor=\"middle\" x=\"5126\" y=\"-228.7\" font-family=\"Helvetica,sans-Serif\" font-size=\"14.00\">class = WALKING_DOWNSTAIRS</text>\n</g>\n<!-- 74&#45;&gt;75 -->\n<g id=\"edge75\" class=\"edge\">\n<title>74&#45;&gt;75</title>\n<path fill=\"none\" stroke=\"black\" d=\"M5230.69,-341.58C5217.94,-332.32 5204.31,-322.41 5191.23,-312.9\"/>\n<polygon fill=\"black\" stroke=\"black\" points=\"5193.65,-310.34 5183.5,-307.29 5189.53,-316 5193.65,-310.34\"/>\n</g>\n<!-- 82 -->\n<g id=\"node83\" class=\"node\">\n<title>82</title>\n<polygon fill=\"#e68844\" stroke=\"black\" points=\"5567,-306 5329,-306 5329,-223 5567,-223 5567,-306\"/>\n<text text-anchor=\"middle\" x=\"5448\" y=\"-288.7\" font-family=\"Helvetica,sans-Serif\" font-size=\"14.00\">tBodyAcc&#45;correlation()&#45;X,Y &lt;= &#45;0.467</text>\n<text text-anchor=\"middle\" x=\"5448\" y=\"-273.7\" font-family=\"Helvetica,sans-Serif\" font-size=\"14.00\">gini = 0.104</text>\n<text text-anchor=\"middle\" x=\"5448\" y=\"-258.7\" font-family=\"Helvetica,sans-Serif\" font-size=\"14.00\">samples = 1127</text>\n<text text-anchor=\"middle\" x=\"5448\" y=\"-243.7\" font-family=\"Helvetica,sans-Serif\" font-size=\"14.00\">value = [1066, 37, 24, 0, 0, 0]</text>\n<text text-anchor=\"middle\" x=\"5448\" y=\"-228.7\" font-family=\"Helvetica,sans-Serif\" font-size=\"14.00\">class = WALKING</text>\n</g>\n<!-- 74&#45;&gt;82 -->\n<g id=\"edge82\" class=\"edge\">\n<title>74&#45;&gt;82</title>\n<path fill=\"none\" stroke=\"black\" d=\"M5343.31,-341.58C5356.06,-332.32 5369.69,-322.41 5382.77,-312.9\"/>\n<polygon fill=\"black\" stroke=\"black\" points=\"5384.47,-316 5390.5,-307.29 5380.35,-310.34 5384.47,-316\"/>\n</g>\n<!-- 76 -->\n<g id=\"node77\" class=\"node\">\n<title>76</title>\n<polygon fill=\"#4fe88f\" stroke=\"black\" points=\"4947,-187 4721,-187 4721,-104 4947,-104 4947,-187\"/>\n<text text-anchor=\"middle\" x=\"4834\" y=\"-169.7\" font-family=\"Helvetica,sans-Serif\" font-size=\"14.00\">tBodyGyroJerk&#45;std()&#45;Z &lt;= &#45;0.448</text>\n<text text-anchor=\"middle\" x=\"4834\" y=\"-154.7\" font-family=\"Helvetica,sans-Serif\" font-size=\"14.00\">gini = 0.18</text>\n<text text-anchor=\"middle\" x=\"4834\" y=\"-139.7\" font-family=\"Helvetica,sans-Serif\" font-size=\"14.00\">samples = 40</text>\n<text text-anchor=\"middle\" x=\"4834\" y=\"-124.7\" font-family=\"Helvetica,sans-Serif\" font-size=\"14.00\">value = [4, 0, 36, 0, 0, 0]</text>\n<text text-anchor=\"middle\" x=\"4834\" y=\"-109.7\" font-family=\"Helvetica,sans-Serif\" font-size=\"14.00\">class = WALKING_DOWNSTAIRS</text>\n</g>\n<!-- 75&#45;&gt;76 -->\n<g id=\"edge76\" class=\"edge\">\n<title>75&#45;&gt;76</title>\n<path fill=\"none\" stroke=\"black\" d=\"M5023.87,-222.58C4998.87,-212.56 4971.97,-201.78 4946.5,-191.58\"/>\n<polygon fill=\"black\" stroke=\"black\" points=\"4948.06,-188.43 4937.47,-187.96 4945.46,-194.93 4948.06,-188.43\"/>\n</g>\n<!-- 79 -->\n<g id=\"node80\" class=\"node\">\n<title>79</title>\n<polygon fill=\"#c1ee81\" stroke=\"black\" points=\"5257.75,-187 4994.25,-187 4994.25,-104 5257.75,-104 5257.75,-187\"/>\n<text text-anchor=\"middle\" x=\"5126\" y=\"-169.7\" font-family=\"Helvetica,sans-Serif\" font-size=\"14.00\">tBodyAccJerk&#45;correlation()&#45;X,Y &lt;= &#45;0.007</text>\n<text text-anchor=\"middle\" x=\"5126\" y=\"-154.7\" font-family=\"Helvetica,sans-Serif\" font-size=\"14.00\">gini = 0.452</text>\n<text text-anchor=\"middle\" x=\"5126\" y=\"-139.7\" font-family=\"Helvetica,sans-Serif\" font-size=\"14.00\">samples = 41</text>\n<text text-anchor=\"middle\" x=\"5126\" y=\"-124.7\" font-family=\"Helvetica,sans-Serif\" font-size=\"14.00\">value = [8, 29, 4, 0, 0, 0]</text>\n<text text-anchor=\"middle\" x=\"5126\" y=\"-109.7\" font-family=\"Helvetica,sans-Serif\" font-size=\"14.00\">class = WALKING_UPSTAIRS</text>\n</g>\n<!-- 75&#45;&gt;79 -->\n<g id=\"edge79\" class=\"edge\">\n<title>75&#45;&gt;79</title>\n<path fill=\"none\" stroke=\"black\" d=\"M5126,-222.58C5126,-214.79 5126,-206.53 5126,-198.45\"/>\n<polygon fill=\"black\" stroke=\"black\" points=\"5129.5,-198.71 5126,-188.71 5122.5,-198.71 5129.5,-198.71\"/>\n</g>\n<!-- 77 -->\n<g id=\"node78\" class=\"node\">\n<title>77</title>\n<polygon fill=\"#39e581\" stroke=\"black\" points=\"4670,-68 4444,-68 4444,0 4670,0 4670,-68\"/>\n<text text-anchor=\"middle\" x=\"4557\" y=\"-50.7\" font-family=\"Helvetica,sans-Serif\" font-size=\"14.00\">gini = 0.0</text>\n<text text-anchor=\"middle\" x=\"4557\" y=\"-35.7\" font-family=\"Helvetica,sans-Serif\" font-size=\"14.00\">samples = 36</text>\n<text text-anchor=\"middle\" x=\"4557\" y=\"-20.7\" font-family=\"Helvetica,sans-Serif\" font-size=\"14.00\">value = [0, 0, 36, 0, 0, 0]</text>\n<text text-anchor=\"middle\" x=\"4557\" y=\"-5.7\" font-family=\"Helvetica,sans-Serif\" font-size=\"14.00\">class = WALKING_DOWNSTAIRS</text>\n</g>\n<!-- 76&#45;&gt;77 -->\n<g id=\"edge77\" class=\"edge\">\n<title>76&#45;&gt;77</title>\n<path fill=\"none\" stroke=\"black\" d=\"M4730.46,-103.57C4704.78,-93.42 4677.38,-82.59 4652.12,-72.6\"/>\n<polygon fill=\"black\" stroke=\"black\" points=\"4653.44,-69.36 4642.85,-68.94 4650.86,-75.87 4653.44,-69.36\"/>\n</g>\n<!-- 78 -->\n<g id=\"node79\" class=\"node\">\n<title>78</title>\n<polygon fill=\"#e58139\" stroke=\"black\" points=\"4842,-68 4688,-68 4688,0 4842,0 4842,-68\"/>\n<text text-anchor=\"middle\" x=\"4765\" y=\"-50.7\" font-family=\"Helvetica,sans-Serif\" font-size=\"14.00\">gini = 0.0</text>\n<text text-anchor=\"middle\" x=\"4765\" y=\"-35.7\" font-family=\"Helvetica,sans-Serif\" font-size=\"14.00\">samples = 4</text>\n<text text-anchor=\"middle\" x=\"4765\" y=\"-20.7\" font-family=\"Helvetica,sans-Serif\" font-size=\"14.00\">value = [4, 0, 0, 0, 0, 0]</text>\n<text text-anchor=\"middle\" x=\"4765\" y=\"-5.7\" font-family=\"Helvetica,sans-Serif\" font-size=\"14.00\">class = WALKING</text>\n</g>\n<!-- 76&#45;&gt;78 -->\n<g id=\"edge78\" class=\"edge\">\n<title>76&#45;&gt;78</title>\n<path fill=\"none\" stroke=\"black\" d=\"M4808.31,-103.73C4803.02,-95.34 4797.44,-86.47 4792.1,-78.01\"/>\n<polygon fill=\"black\" stroke=\"black\" points=\"4795.08,-76.17 4786.79,-69.58 4789.16,-79.91 4795.08,-76.17\"/>\n</g>\n<!-- 80 -->\n<g id=\"node81\" class=\"node\">\n<title>80</title>\n<polygon fill=\"#aee95b\" stroke=\"black\" points=\"5060.25,-68 4859.75,-68 4859.75,0 5060.25,0 5060.25,-68\"/>\n<text text-anchor=\"middle\" x=\"4960\" y=\"-50.7\" font-family=\"Helvetica,sans-Serif\" font-size=\"14.00\">gini = 0.264</text>\n<text text-anchor=\"middle\" x=\"4960\" y=\"-35.7\" font-family=\"Helvetica,sans-Serif\" font-size=\"14.00\">samples = 33</text>\n<text text-anchor=\"middle\" x=\"4960\" y=\"-20.7\" font-family=\"Helvetica,sans-Serif\" font-size=\"14.00\">value = [1, 28, 4, 0, 0, 0]</text>\n<text text-anchor=\"middle\" x=\"4960\" y=\"-5.7\" font-family=\"Helvetica,sans-Serif\" font-size=\"14.00\">class = WALKING_UPSTAIRS</text>\n</g>\n<!-- 79&#45;&gt;80 -->\n<g id=\"edge80\" class=\"edge\">\n<title>79&#45;&gt;80</title>\n<path fill=\"none\" stroke=\"black\" d=\"M5064.19,-103.73C5049.74,-94.2 5034.38,-84.07 5020.02,-74.59\"/>\n<polygon fill=\"black\" stroke=\"black\" points=\"5022.28,-71.89 5012.01,-69.31 5018.43,-77.74 5022.28,-71.89\"/>\n</g>\n<!-- 81 -->\n<g id=\"node82\" class=\"node\">\n<title>81</title>\n<polygon fill=\"#e99355\" stroke=\"black\" points=\"5232,-68 5078,-68 5078,0 5232,0 5232,-68\"/>\n<text text-anchor=\"middle\" x=\"5155\" y=\"-50.7\" font-family=\"Helvetica,sans-Serif\" font-size=\"14.00\">gini = 0.219</text>\n<text text-anchor=\"middle\" x=\"5155\" y=\"-35.7\" font-family=\"Helvetica,sans-Serif\" font-size=\"14.00\">samples = 8</text>\n<text text-anchor=\"middle\" x=\"5155\" y=\"-20.7\" font-family=\"Helvetica,sans-Serif\" font-size=\"14.00\">value = [7, 1, 0, 0, 0, 0]</text>\n<text text-anchor=\"middle\" x=\"5155\" y=\"-5.7\" font-family=\"Helvetica,sans-Serif\" font-size=\"14.00\">class = WALKING</text>\n</g>\n<!-- 79&#45;&gt;81 -->\n<g id=\"edge81\" class=\"edge\">\n<title>79&#45;&gt;81</title>\n<path fill=\"none\" stroke=\"black\" d=\"M5136.8,-103.73C5138.9,-95.79 5141.11,-87.44 5143.24,-79.39\"/>\n<polygon fill=\"black\" stroke=\"black\" points=\"5146.62,-80.33 5145.79,-69.76 5139.85,-78.53 5146.62,-80.33\"/>\n</g>\n<!-- 83 -->\n<g id=\"node84\" class=\"node\">\n<title>83</title>\n<polygon fill=\"#f5fceb\" stroke=\"black\" points=\"5549.75,-187 5346.25,-187 5346.25,-104 5549.75,-104 5549.75,-187\"/>\n<text text-anchor=\"middle\" x=\"5448\" y=\"-169.7\" font-family=\"Helvetica,sans-Serif\" font-size=\"14.00\">fBodyAcc&#45;energy()&#45;Y &lt;= &#45;0.556</text>\n<text text-anchor=\"middle\" x=\"5448\" y=\"-154.7\" font-family=\"Helvetica,sans-Serif\" font-size=\"14.00\">gini = 0.658</text>\n<text text-anchor=\"middle\" x=\"5448\" y=\"-139.7\" font-family=\"Helvetica,sans-Serif\" font-size=\"14.00\">samples = 30</text>\n<text text-anchor=\"middle\" x=\"5448\" y=\"-124.7\" font-family=\"Helvetica,sans-Serif\" font-size=\"14.00\">value = [8, 12, 10, 0, 0, 0]</text>\n<text text-anchor=\"middle\" x=\"5448\" y=\"-109.7\" font-family=\"Helvetica,sans-Serif\" font-size=\"14.00\">class = WALKING_UPSTAIRS</text>\n</g>\n<!-- 82&#45;&gt;83 -->\n<g id=\"edge83\" class=\"edge\">\n<title>82&#45;&gt;83</title>\n<path fill=\"none\" stroke=\"black\" d=\"M5448,-222.58C5448,-214.79 5448,-206.53 5448,-198.45\"/>\n<polygon fill=\"black\" stroke=\"black\" points=\"5451.5,-198.71 5448,-188.71 5444.5,-198.71 5451.5,-198.71\"/>\n</g>\n<!-- 86 -->\n<g id=\"node87\" class=\"node\">\n<title>86</title>\n<polygon fill=\"#e68640\" stroke=\"black\" points=\"5830.88,-187 5637.12,-187 5637.12,-104 5830.88,-104 5830.88,-187\"/>\n<text text-anchor=\"middle\" x=\"5734\" y=\"-169.7\" font-family=\"Helvetica,sans-Serif\" font-size=\"14.00\">fBodyAccMag&#45;std() &lt;= &#45;0.262</text>\n<text text-anchor=\"middle\" x=\"5734\" y=\"-154.7\" font-family=\"Helvetica,sans-Serif\" font-size=\"14.00\">gini = 0.069</text>\n<text text-anchor=\"middle\" x=\"5734\" y=\"-139.7\" font-family=\"Helvetica,sans-Serif\" font-size=\"14.00\">samples = 1097</text>\n<text text-anchor=\"middle\" x=\"5734\" y=\"-124.7\" font-family=\"Helvetica,sans-Serif\" font-size=\"14.00\">value = [1058, 25, 14, 0, 0, 0]</text>\n<text text-anchor=\"middle\" x=\"5734\" y=\"-109.7\" font-family=\"Helvetica,sans-Serif\" font-size=\"14.00\">class = WALKING</text>\n</g>\n<!-- 82&#45;&gt;86 -->\n<g id=\"edge86\" class=\"edge\">\n<title>82&#45;&gt;86</title>\n<path fill=\"none\" stroke=\"black\" d=\"M5548.03,-222.58C5573.37,-212.21 5600.7,-201.03 5626.4,-190.52\"/>\n<polygon fill=\"black\" stroke=\"black\" points=\"5627.59,-193.81 5635.52,-186.79 5624.94,-187.34 5627.59,-193.81\"/>\n</g>\n<!-- 84 -->\n<g id=\"node85\" class=\"node\">\n<title>84</title>\n<polygon fill=\"#39e581\" stroke=\"black\" points=\"5476,-68 5250,-68 5250,0 5476,0 5476,-68\"/>\n<text text-anchor=\"middle\" x=\"5363\" y=\"-50.7\" font-family=\"Helvetica,sans-Serif\" font-size=\"14.00\">gini = 0.0</text>\n<text text-anchor=\"middle\" x=\"5363\" y=\"-35.7\" font-family=\"Helvetica,sans-Serif\" font-size=\"14.00\">samples = 10</text>\n<text text-anchor=\"middle\" x=\"5363\" y=\"-20.7\" font-family=\"Helvetica,sans-Serif\" font-size=\"14.00\">value = [0, 0, 10, 0, 0, 0]</text>\n<text text-anchor=\"middle\" x=\"5363\" y=\"-5.7\" font-family=\"Helvetica,sans-Serif\" font-size=\"14.00\">class = WALKING_DOWNSTAIRS</text>\n</g>\n<!-- 83&#45;&gt;84 -->\n<g id=\"edge84\" class=\"edge\">\n<title>83&#45;&gt;84</title>\n<path fill=\"none\" stroke=\"black\" d=\"M5416.35,-103.73C5409.62,-95.06 5402.51,-85.9 5395.74,-77.18\"/>\n<polygon fill=\"black\" stroke=\"black\" points=\"5398.67,-75.25 5389.78,-69.5 5393.14,-79.54 5398.67,-75.25\"/>\n</g>\n<!-- 85 -->\n<g id=\"node86\" class=\"node\">\n<title>85</title>\n<polygon fill=\"#def6bd\" stroke=\"black\" points=\"5694.25,-68 5493.75,-68 5493.75,0 5694.25,0 5694.25,-68\"/>\n<text text-anchor=\"middle\" x=\"5594\" y=\"-50.7\" font-family=\"Helvetica,sans-Serif\" font-size=\"14.00\">gini = 0.48</text>\n<text text-anchor=\"middle\" x=\"5594\" y=\"-35.7\" font-family=\"Helvetica,sans-Serif\" font-size=\"14.00\">samples = 20</text>\n<text text-anchor=\"middle\" x=\"5594\" y=\"-20.7\" font-family=\"Helvetica,sans-Serif\" font-size=\"14.00\">value = [8, 12, 0, 0, 0, 0]</text>\n<text text-anchor=\"middle\" x=\"5594\" y=\"-5.7\" font-family=\"Helvetica,sans-Serif\" font-size=\"14.00\">class = WALKING_UPSTAIRS</text>\n</g>\n<!-- 83&#45;&gt;85 -->\n<g id=\"edge85\" class=\"edge\">\n<title>83&#45;&gt;85</title>\n<path fill=\"none\" stroke=\"black\" d=\"M5502.37,-103.73C5514.89,-94.33 5528.2,-84.35 5540.68,-74.99\"/>\n<polygon fill=\"black\" stroke=\"black\" points=\"5542.49,-78.01 5548.39,-69.21 5538.29,-72.41 5542.49,-78.01\"/>\n</g>\n<!-- 87 -->\n<g id=\"node88\" class=\"node\">\n<title>87</title>\n<polygon fill=\"#e6843d\" stroke=\"black\" points=\"5896,-68 5712,-68 5712,0 5896,0 5896,-68\"/>\n<text text-anchor=\"middle\" x=\"5804\" y=\"-50.7\" font-family=\"Helvetica,sans-Serif\" font-size=\"14.00\">gini = 0.044</text>\n<text text-anchor=\"middle\" x=\"5804\" y=\"-35.7\" font-family=\"Helvetica,sans-Serif\" font-size=\"14.00\">samples = 1076</text>\n<text text-anchor=\"middle\" x=\"5804\" y=\"-20.7\" font-family=\"Helvetica,sans-Serif\" font-size=\"14.00\">value = [1052, 16, 8, 0, 0, 0]</text>\n<text text-anchor=\"middle\" x=\"5804\" y=\"-5.7\" font-family=\"Helvetica,sans-Serif\" font-size=\"14.00\">class = WALKING</text>\n</g>\n<!-- 86&#45;&gt;87 -->\n<g id=\"edge87\" class=\"edge\">\n<title>86&#45;&gt;87</title>\n<path fill=\"none\" stroke=\"black\" d=\"M5760.07,-103.73C5765.49,-95.24 5771.22,-86.28 5776.68,-77.73\"/>\n<polygon fill=\"black\" stroke=\"black\" points=\"5779.46,-79.89 5781.9,-69.57 5773.56,-76.12 5779.46,-79.89\"/>\n</g>\n<!-- 88 -->\n<g id=\"node89\" class=\"node\">\n<title>88</title>\n<polygon fill=\"#ebfad7\" stroke=\"black\" points=\"6114.25,-68 5913.75,-68 5913.75,0 6114.25,0 6114.25,-68\"/>\n<text text-anchor=\"middle\" x=\"6014\" y=\"-50.7\" font-family=\"Helvetica,sans-Serif\" font-size=\"14.00\">gini = 0.653</text>\n<text text-anchor=\"middle\" x=\"6014\" y=\"-35.7\" font-family=\"Helvetica,sans-Serif\" font-size=\"14.00\">samples = 21</text>\n<text text-anchor=\"middle\" x=\"6014\" y=\"-20.7\" font-family=\"Helvetica,sans-Serif\" font-size=\"14.00\">value = [6, 9, 6, 0, 0, 0]</text>\n<text text-anchor=\"middle\" x=\"6014\" y=\"-5.7\" font-family=\"Helvetica,sans-Serif\" font-size=\"14.00\">class = WALKING_UPSTAIRS</text>\n</g>\n<!-- 86&#45;&gt;88 -->\n<g id=\"edge88\" class=\"edge\">\n<title>86&#45;&gt;88</title>\n<path fill=\"none\" stroke=\"black\" d=\"M5831.14,-106.51C5859.3,-95.5 5890.01,-83.49 5918.08,-72.51\"/>\n<polygon fill=\"black\" stroke=\"black\" points=\"5919.26,-75.81 5927.29,-68.91 5916.71,-69.29 5919.26,-75.81\"/>\n</g>\n<!-- 90 -->\n<g id=\"node91\" class=\"node\">\n<title>90</title>\n<polygon fill=\"#a7e84c\" stroke=\"black\" points=\"6486.12,-425 6269.88,-425 6269.88,-342 6486.12,-342 6486.12,-425\"/>\n<text text-anchor=\"middle\" x=\"6378\" y=\"-407.7\" font-family=\"Helvetica,sans-Serif\" font-size=\"14.00\">tGravityAcc&#45;energy()&#45;Y &lt;= &#45;0.974</text>\n<text text-anchor=\"middle\" x=\"6378\" y=\"-392.7\" font-family=\"Helvetica,sans-Serif\" font-size=\"14.00\">gini = 0.17</text>\n<text text-anchor=\"middle\" x=\"6378\" y=\"-377.7\" font-family=\"Helvetica,sans-Serif\" font-size=\"14.00\">samples = 917</text>\n<text text-anchor=\"middle\" x=\"6378\" y=\"-362.7\" font-family=\"Helvetica,sans-Serif\" font-size=\"14.00\">value = [56, 833, 28, 0, 0, 0]</text>\n<text text-anchor=\"middle\" x=\"6378\" y=\"-347.7\" font-family=\"Helvetica,sans-Serif\" font-size=\"14.00\">class = WALKING_UPSTAIRS</text>\n</g>\n<!-- 89&#45;&gt;90 -->\n<g id=\"edge90\" class=\"edge\">\n<title>89&#45;&gt;90</title>\n<path fill=\"none\" stroke=\"black\" d=\"M6378,-460.58C6378,-452.79 6378,-444.53 6378,-436.45\"/>\n<polygon fill=\"black\" stroke=\"black\" points=\"6381.5,-436.71 6378,-426.71 6374.5,-436.71 6381.5,-436.71\"/>\n</g>\n<!-- 101 -->\n<g id=\"node102\" class=\"node\">\n<title>101</title>\n<polygon fill=\"#eda672\" stroke=\"black\" points=\"6751.75,-425 6524.25,-425 6524.25,-342 6751.75,-342 6751.75,-425\"/>\n<text text-anchor=\"middle\" x=\"6638\" y=\"-407.7\" font-family=\"Helvetica,sans-Serif\" font-size=\"14.00\">tBodyAccMag&#45;arCoeff()1 &lt;= &#45;0.294</text>\n<text text-anchor=\"middle\" x=\"6638\" y=\"-392.7\" font-family=\"Helvetica,sans-Serif\" font-size=\"14.00\">gini = 0.406</text>\n<text text-anchor=\"middle\" x=\"6638\" y=\"-377.7\" font-family=\"Helvetica,sans-Serif\" font-size=\"14.00\">samples = 80</text>\n<text text-anchor=\"middle\" x=\"6638\" y=\"-362.7\" font-family=\"Helvetica,sans-Serif\" font-size=\"14.00\">value = [60, 11, 9, 0, 0, 0]</text>\n<text text-anchor=\"middle\" x=\"6638\" y=\"-347.7\" font-family=\"Helvetica,sans-Serif\" font-size=\"14.00\">class = WALKING</text>\n</g>\n<!-- 89&#45;&gt;101 -->\n<g id=\"edge101\" class=\"edge\">\n<title>89&#45;&gt;101</title>\n<path fill=\"none\" stroke=\"black\" d=\"M6468.94,-460.58C6490.9,-450.69 6514.51,-440.07 6536.92,-429.99\"/>\n<polygon fill=\"black\" stroke=\"black\" points=\"6538.05,-433.31 6545.74,-426.02 6535.18,-426.93 6538.05,-433.31\"/>\n</g>\n<!-- 91 -->\n<g id=\"node92\" class=\"node\">\n<title>91</title>\n<polygon fill=\"#9cf2c0\" stroke=\"black\" points=\"6248,-306 6022,-306 6022,-223 6248,-223 6248,-306\"/>\n<text text-anchor=\"middle\" x=\"6135\" y=\"-288.7\" font-family=\"Helvetica,sans-Serif\" font-size=\"14.00\">tGravityAcc&#45;arCoeff()&#45;X,2 &lt;= 0.752</text>\n<text text-anchor=\"middle\" x=\"6135\" y=\"-273.7\" font-family=\"Helvetica,sans-Serif\" font-size=\"14.00\">gini = 0.444</text>\n<text text-anchor=\"middle\" x=\"6135\" y=\"-258.7\" font-family=\"Helvetica,sans-Serif\" font-size=\"14.00\">samples = 30</text>\n<text text-anchor=\"middle\" x=\"6135\" y=\"-243.7\" font-family=\"Helvetica,sans-Serif\" font-size=\"14.00\">value = [10, 0, 20, 0, 0, 0]</text>\n<text text-anchor=\"middle\" x=\"6135\" y=\"-228.7\" font-family=\"Helvetica,sans-Serif\" font-size=\"14.00\">class = WALKING_DOWNSTAIRS</text>\n</g>\n<!-- 90&#45;&gt;91 -->\n<g id=\"edge91\" class=\"edge\">\n<title>90&#45;&gt;91</title>\n<path fill=\"none\" stroke=\"black\" d=\"M6293.01,-341.58C6272.66,-331.78 6250.81,-321.26 6230.04,-311.26\"/>\n<polygon fill=\"black\" stroke=\"black\" points=\"6231.83,-308.24 6221.31,-307.05 6228.8,-314.55 6231.83,-308.24\"/>\n</g>\n<!-- 94 -->\n<g id=\"node95\" class=\"node\">\n<title>94</title>\n<polygon fill=\"#a3e746\" stroke=\"black\" points=\"6495.5,-306 6266.5,-306 6266.5,-223 6495.5,-223 6495.5,-306\"/>\n<text text-anchor=\"middle\" x=\"6381\" y=\"-288.7\" font-family=\"Helvetica,sans-Serif\" font-size=\"14.00\">tGravityAcc&#45;arCoeff()&#45;Y,3 &lt;= &#45;0.306</text>\n<text text-anchor=\"middle\" x=\"6381\" y=\"-273.7\" font-family=\"Helvetica,sans-Serif\" font-size=\"14.00\">gini = 0.115</text>\n<text text-anchor=\"middle\" x=\"6381\" y=\"-258.7\" font-family=\"Helvetica,sans-Serif\" font-size=\"14.00\">samples = 887</text>\n<text text-anchor=\"middle\" x=\"6381\" y=\"-243.7\" font-family=\"Helvetica,sans-Serif\" font-size=\"14.00\">value = [46, 833, 8, 0, 0, 0]</text>\n<text text-anchor=\"middle\" x=\"6381\" y=\"-228.7\" font-family=\"Helvetica,sans-Serif\" font-size=\"14.00\">class = WALKING_UPSTAIRS</text>\n</g>\n<!-- 90&#45;&gt;94 -->\n<g id=\"edge94\" class=\"edge\">\n<title>90&#45;&gt;94</title>\n<path fill=\"none\" stroke=\"black\" d=\"M6379.05,-341.58C6379.25,-333.79 6379.46,-325.53 6379.67,-317.45\"/>\n<polygon fill=\"black\" stroke=\"black\" points=\"6383.16,-317.8 6379.92,-307.71 6376.16,-317.62 6383.16,-317.8\"/>\n</g>\n<!-- 92 -->\n<g id=\"node93\" class=\"node\">\n<title>92</title>\n<polygon fill=\"#e58139\" stroke=\"black\" points=\"6010.75,-179.5 5849.25,-179.5 5849.25,-111.5 6010.75,-111.5 6010.75,-179.5\"/>\n<text text-anchor=\"middle\" x=\"5930\" y=\"-162.2\" font-family=\"Helvetica,sans-Serif\" font-size=\"14.00\">gini = 0.0</text>\n<text text-anchor=\"middle\" x=\"5930\" y=\"-147.2\" font-family=\"Helvetica,sans-Serif\" font-size=\"14.00\">samples = 10</text>\n<text text-anchor=\"middle\" x=\"5930\" y=\"-132.2\" font-family=\"Helvetica,sans-Serif\" font-size=\"14.00\">value = [10, 0, 0, 0, 0, 0]</text>\n<text text-anchor=\"middle\" x=\"5930\" y=\"-117.2\" font-family=\"Helvetica,sans-Serif\" font-size=\"14.00\">class = WALKING</text>\n</g>\n<!-- 91&#45;&gt;92 -->\n<g id=\"edge92\" class=\"edge\">\n<title>91&#45;&gt;92</title>\n<path fill=\"none\" stroke=\"black\" d=\"M6063.3,-222.58C6042.17,-210.52 6019.11,-197.36 5998.21,-185.43\"/>\n<polygon fill=\"black\" stroke=\"black\" points=\"6000.19,-182.53 5989.77,-180.61 5996.72,-188.61 6000.19,-182.53\"/>\n</g>\n<!-- 93 -->\n<g id=\"node94\" class=\"node\">\n<title>93</title>\n<polygon fill=\"#39e581\" stroke=\"black\" points=\"6255,-179.5 6029,-179.5 6029,-111.5 6255,-111.5 6255,-179.5\"/>\n<text text-anchor=\"middle\" x=\"6142\" y=\"-162.2\" font-family=\"Helvetica,sans-Serif\" font-size=\"14.00\">gini = 0.0</text>\n<text text-anchor=\"middle\" x=\"6142\" y=\"-147.2\" font-family=\"Helvetica,sans-Serif\" font-size=\"14.00\">samples = 20</text>\n<text text-anchor=\"middle\" x=\"6142\" y=\"-132.2\" font-family=\"Helvetica,sans-Serif\" font-size=\"14.00\">value = [0, 0, 20, 0, 0, 0]</text>\n<text text-anchor=\"middle\" x=\"6142\" y=\"-117.2\" font-family=\"Helvetica,sans-Serif\" font-size=\"14.00\">class = WALKING_DOWNSTAIRS</text>\n</g>\n<!-- 91&#45;&gt;93 -->\n<g id=\"edge93\" class=\"edge\">\n<title>91&#45;&gt;93</title>\n<path fill=\"none\" stroke=\"black\" d=\"M6137.45,-222.58C6138.06,-212.43 6138.71,-201.5 6139.33,-191.18\"/>\n<polygon fill=\"black\" stroke=\"black\" points=\"6142.81,-191.56 6139.91,-181.37 6135.82,-191.15 6142.81,-191.56\"/>\n</g>\n<!-- 95 -->\n<g id=\"node96\" class=\"node\">\n<title>95</title>\n<polygon fill=\"#a0e640\" stroke=\"black\" points=\"6473.25,-187 6272.75,-187 6272.75,-104 6473.25,-104 6473.25,-187\"/>\n<text text-anchor=\"middle\" x=\"6373\" y=\"-169.7\" font-family=\"Helvetica,sans-Serif\" font-size=\"14.00\">tBodyAcc&#45;max()&#45;X &lt;= &#45;0.364</text>\n<text text-anchor=\"middle\" x=\"6373\" y=\"-154.7\" font-family=\"Helvetica,sans-Serif\" font-size=\"14.00\">gini = 0.066</text>\n<text text-anchor=\"middle\" x=\"6373\" y=\"-139.7\" font-family=\"Helvetica,sans-Serif\" font-size=\"14.00\">samples = 827</text>\n<text text-anchor=\"middle\" x=\"6373\" y=\"-124.7\" font-family=\"Helvetica,sans-Serif\" font-size=\"14.00\">value = [21, 799, 7, 0, 0, 0]</text>\n<text text-anchor=\"middle\" x=\"6373\" y=\"-109.7\" font-family=\"Helvetica,sans-Serif\" font-size=\"14.00\">class = WALKING_UPSTAIRS</text>\n</g>\n<!-- 94&#45;&gt;95 -->\n<g id=\"edge95\" class=\"edge\">\n<title>94&#45;&gt;95</title>\n<path fill=\"none\" stroke=\"black\" d=\"M6378.2,-222.58C6377.67,-214.79 6377.1,-206.53 6376.55,-198.45\"/>\n<polygon fill=\"black\" stroke=\"black\" points=\"6380.06,-198.45 6375.89,-188.71 6373.08,-198.93 6380.06,-198.45\"/>\n</g>\n<!-- 98 -->\n<g id=\"node99\" class=\"node\">\n<title>98</title>\n<polygon fill=\"#e6f8cc\" stroke=\"black\" points=\"6754.75,-187 6491.25,-187 6491.25,-104 6754.75,-104 6754.75,-187\"/>\n<text text-anchor=\"middle\" x=\"6623\" y=\"-169.7\" font-family=\"Helvetica,sans-Serif\" font-size=\"14.00\">tBodyAccJerk&#45;correlation()&#45;X,Y &lt;= &#45;0.003</text>\n<text text-anchor=\"middle\" x=\"6623\" y=\"-154.7\" font-family=\"Helvetica,sans-Serif\" font-size=\"14.00\">gini = 0.505</text>\n<text text-anchor=\"middle\" x=\"6623\" y=\"-139.7\" font-family=\"Helvetica,sans-Serif\" font-size=\"14.00\">samples = 60</text>\n<text text-anchor=\"middle\" x=\"6623\" y=\"-124.7\" font-family=\"Helvetica,sans-Serif\" font-size=\"14.00\">value = [25, 34, 1, 0, 0, 0]</text>\n<text text-anchor=\"middle\" x=\"6623\" y=\"-109.7\" font-family=\"Helvetica,sans-Serif\" font-size=\"14.00\">class = WALKING_UPSTAIRS</text>\n</g>\n<!-- 94&#45;&gt;98 -->\n<g id=\"edge98\" class=\"edge\">\n<title>94&#45;&gt;98</title>\n<path fill=\"none\" stroke=\"black\" d=\"M6465.64,-222.58C6485.81,-212.83 6507.47,-202.36 6528.07,-192.4\"/>\n<polygon fill=\"black\" stroke=\"black\" points=\"6529.57,-195.56 6537.05,-188.06 6526.52,-189.26 6529.57,-195.56\"/>\n</g>\n<!-- 96 -->\n<g id=\"node97\" class=\"node\">\n<title>96</title>\n<polygon fill=\"#ffffff\" stroke=\"black\" points=\"6286,-68 6132,-68 6132,0 6286,0 6286,-68\"/>\n<text text-anchor=\"middle\" x=\"6209\" y=\"-50.7\" font-family=\"Helvetica,sans-Serif\" font-size=\"14.00\">gini = 0.5</text>\n<text text-anchor=\"middle\" x=\"6209\" y=\"-35.7\" font-family=\"Helvetica,sans-Serif\" font-size=\"14.00\">samples = 18</text>\n<text text-anchor=\"middle\" x=\"6209\" y=\"-20.7\" font-family=\"Helvetica,sans-Serif\" font-size=\"14.00\">value = [9, 9, 0, 0, 0, 0]</text>\n<text text-anchor=\"middle\" x=\"6209\" y=\"-5.7\" font-family=\"Helvetica,sans-Serif\" font-size=\"14.00\">class = WALKING</text>\n</g>\n<!-- 95&#45;&gt;96 -->\n<g id=\"edge96\" class=\"edge\">\n<title>95&#45;&gt;96</title>\n<path fill=\"none\" stroke=\"black\" d=\"M6311.93,-103.73C6297.8,-94.29 6282.78,-84.26 6268.7,-74.86\"/>\n<polygon fill=\"black\" stroke=\"black\" points=\"6270.65,-71.96 6260.39,-69.31 6266.77,-77.78 6270.65,-71.96\"/>\n</g>\n<!-- 97 -->\n<g id=\"node98\" class=\"node\">\n<title>97</title>\n<polygon fill=\"#9fe63e\" stroke=\"black\" points=\"6504.25,-68 6303.75,-68 6303.75,0 6504.25,0 6504.25,-68\"/>\n<text text-anchor=\"middle\" x=\"6404\" y=\"-50.7\" font-family=\"Helvetica,sans-Serif\" font-size=\"14.00\">gini = 0.046</text>\n<text text-anchor=\"middle\" x=\"6404\" y=\"-35.7\" font-family=\"Helvetica,sans-Serif\" font-size=\"14.00\">samples = 809</text>\n<text text-anchor=\"middle\" x=\"6404\" y=\"-20.7\" font-family=\"Helvetica,sans-Serif\" font-size=\"14.00\">value = [12, 790, 7, 0, 0, 0]</text>\n<text text-anchor=\"middle\" x=\"6404\" y=\"-5.7\" font-family=\"Helvetica,sans-Serif\" font-size=\"14.00\">class = WALKING_UPSTAIRS</text>\n</g>\n<!-- 95&#45;&gt;97 -->\n<g id=\"edge97\" class=\"edge\">\n<title>95&#45;&gt;97</title>\n<path fill=\"none\" stroke=\"black\" d=\"M6384.54,-103.73C6386.82,-95.7 6389.21,-87.24 6391.51,-79.11\"/>\n<polygon fill=\"black\" stroke=\"black\" points=\"6394.8,-80.33 6394.16,-69.76 6388.07,-78.42 6394.8,-80.33\"/>\n</g>\n<!-- 99 -->\n<g id=\"node100\" class=\"node\">\n<title>99</title>\n<polygon fill=\"#b2eb63\" stroke=\"black\" points=\"6723.25,-68 6522.75,-68 6522.75,0 6723.25,0 6723.25,-68\"/>\n<text text-anchor=\"middle\" x=\"6623\" y=\"-50.7\" font-family=\"Helvetica,sans-Serif\" font-size=\"14.00\">gini = 0.302</text>\n<text text-anchor=\"middle\" x=\"6623\" y=\"-35.7\" font-family=\"Helvetica,sans-Serif\" font-size=\"14.00\">samples = 39</text>\n<text text-anchor=\"middle\" x=\"6623\" y=\"-20.7\" font-family=\"Helvetica,sans-Serif\" font-size=\"14.00\">value = [6, 32, 1, 0, 0, 0]</text>\n<text text-anchor=\"middle\" x=\"6623\" y=\"-5.7\" font-family=\"Helvetica,sans-Serif\" font-size=\"14.00\">class = WALKING_UPSTAIRS</text>\n</g>\n<!-- 98&#45;&gt;99 -->\n<g id=\"edge99\" class=\"edge\">\n<title>98&#45;&gt;99</title>\n<path fill=\"none\" stroke=\"black\" d=\"M6623,-103.73C6623,-95.88 6623,-87.63 6623,-79.67\"/>\n<polygon fill=\"black\" stroke=\"black\" points=\"6626.5,-79.81 6623,-69.81 6619.5,-79.81 6626.5,-79.81\"/>\n</g>\n<!-- 100 -->\n<g id=\"node101\" class=\"node\">\n<title>100</title>\n<polygon fill=\"#e88e4e\" stroke=\"black\" points=\"6902.75,-68 6741.25,-68 6741.25,0 6902.75,0 6902.75,-68\"/>\n<text text-anchor=\"middle\" x=\"6822\" y=\"-50.7\" font-family=\"Helvetica,sans-Serif\" font-size=\"14.00\">gini = 0.172</text>\n<text text-anchor=\"middle\" x=\"6822\" y=\"-35.7\" font-family=\"Helvetica,sans-Serif\" font-size=\"14.00\">samples = 21</text>\n<text text-anchor=\"middle\" x=\"6822\" y=\"-20.7\" font-family=\"Helvetica,sans-Serif\" font-size=\"14.00\">value = [19, 2, 0, 0, 0, 0]</text>\n<text text-anchor=\"middle\" x=\"6822\" y=\"-5.7\" font-family=\"Helvetica,sans-Serif\" font-size=\"14.00\">class = WALKING</text>\n</g>\n<!-- 98&#45;&gt;100 -->\n<g id=\"edge100\" class=\"edge\">\n<title>98&#45;&gt;100</title>\n<path fill=\"none\" stroke=\"black\" d=\"M6697.38,-103.57C6715.17,-93.78 6734.11,-83.36 6751.71,-73.68\"/>\n<polygon fill=\"black\" stroke=\"black\" points=\"6752.94,-77 6760.01,-69.11 6749.56,-70.86 6752.94,-77\"/>\n</g>\n<!-- 102 -->\n<g id=\"node103\" class=\"node\">\n<title>102</title>\n<polygon fill=\"#caf193\" stroke=\"black\" points=\"6738.25,-298.5 6537.75,-298.5 6537.75,-230.5 6738.25,-230.5 6738.25,-298.5\"/>\n<text text-anchor=\"middle\" x=\"6638\" y=\"-281.2\" font-family=\"Helvetica,sans-Serif\" font-size=\"14.00\">gini = 0.43</text>\n<text text-anchor=\"middle\" x=\"6638\" y=\"-266.2\" font-family=\"Helvetica,sans-Serif\" font-size=\"14.00\">samples = 16</text>\n<text text-anchor=\"middle\" x=\"6638\" y=\"-251.2\" font-family=\"Helvetica,sans-Serif\" font-size=\"14.00\">value = [0, 11, 5, 0, 0, 0]</text>\n<text text-anchor=\"middle\" x=\"6638\" y=\"-236.2\" font-family=\"Helvetica,sans-Serif\" font-size=\"14.00\">class = WALKING_UPSTAIRS</text>\n</g>\n<!-- 101&#45;&gt;102 -->\n<g id=\"edge102\" class=\"edge\">\n<title>101&#45;&gt;102</title>\n<path fill=\"none\" stroke=\"black\" d=\"M6638,-341.58C6638,-331.43 6638,-320.5 6638,-310.18\"/>\n<polygon fill=\"black\" stroke=\"black\" points=\"6641.5,-310.37 6638,-300.37 6634.5,-310.37 6641.5,-310.37\"/>\n</g>\n<!-- 103 -->\n<g id=\"node104\" class=\"node\">\n<title>103</title>\n<polygon fill=\"#e78946\" stroke=\"black\" points=\"6987.38,-306 6784.62,-306 6784.62,-223 6987.38,-223 6987.38,-306\"/>\n<text text-anchor=\"middle\" x=\"6886\" y=\"-288.7\" font-family=\"Helvetica,sans-Serif\" font-size=\"14.00\">tBodyAcc&#45;entropy()&#45;X &lt;= 0.096</text>\n<text text-anchor=\"middle\" x=\"6886\" y=\"-273.7\" font-family=\"Helvetica,sans-Serif\" font-size=\"14.00\">gini = 0.117</text>\n<text text-anchor=\"middle\" x=\"6886\" y=\"-258.7\" font-family=\"Helvetica,sans-Serif\" font-size=\"14.00\">samples = 64</text>\n<text text-anchor=\"middle\" x=\"6886\" y=\"-243.7\" font-family=\"Helvetica,sans-Serif\" font-size=\"14.00\">value = [60, 0, 4, 0, 0, 0]</text>\n<text text-anchor=\"middle\" x=\"6886\" y=\"-228.7\" font-family=\"Helvetica,sans-Serif\" font-size=\"14.00\">class = WALKING</text>\n</g>\n<!-- 101&#45;&gt;103 -->\n<g id=\"edge103\" class=\"edge\">\n<title>101&#45;&gt;103</title>\n<path fill=\"none\" stroke=\"black\" d=\"M6724.74,-341.58C6745.5,-331.78 6767.81,-321.26 6789.01,-311.26\"/>\n<polygon fill=\"black\" stroke=\"black\" points=\"6790.39,-314.48 6797.94,-307.04 6787.4,-308.14 6790.39,-314.48\"/>\n</g>\n<!-- 104 -->\n<g id=\"node105\" class=\"node\">\n<title>104</title>\n<polygon fill=\"#39e581\" stroke=\"black\" points=\"6999,-179.5 6773,-179.5 6773,-111.5 6999,-111.5 6999,-179.5\"/>\n<text text-anchor=\"middle\" x=\"6886\" y=\"-162.2\" font-family=\"Helvetica,sans-Serif\" font-size=\"14.00\">gini = 0.0</text>\n<text text-anchor=\"middle\" x=\"6886\" y=\"-147.2\" font-family=\"Helvetica,sans-Serif\" font-size=\"14.00\">samples = 3</text>\n<text text-anchor=\"middle\" x=\"6886\" y=\"-132.2\" font-family=\"Helvetica,sans-Serif\" font-size=\"14.00\">value = [0, 0, 3, 0, 0, 0]</text>\n<text text-anchor=\"middle\" x=\"6886\" y=\"-117.2\" font-family=\"Helvetica,sans-Serif\" font-size=\"14.00\">class = WALKING_DOWNSTAIRS</text>\n</g>\n<!-- 103&#45;&gt;104 -->\n<g id=\"edge104\" class=\"edge\">\n<title>103&#45;&gt;104</title>\n<path fill=\"none\" stroke=\"black\" d=\"M6886,-222.58C6886,-212.43 6886,-201.5 6886,-191.18\"/>\n<polygon fill=\"black\" stroke=\"black\" points=\"6889.5,-191.37 6886,-181.37 6882.5,-191.37 6889.5,-191.37\"/>\n</g>\n<!-- 105 -->\n<g id=\"node106\" class=\"node\">\n<title>105</title>\n<polygon fill=\"#e5833c\" stroke=\"black\" points=\"7246.88,-187 7017.12,-187 7017.12,-104 7246.88,-104 7246.88,-187\"/>\n<text text-anchor=\"middle\" x=\"7132\" y=\"-169.7\" font-family=\"Helvetica,sans-Serif\" font-size=\"14.00\">tBodyGyroJerk&#45;mean()&#45;Y &lt;= &#45;0.527</text>\n<text text-anchor=\"middle\" x=\"7132\" y=\"-154.7\" font-family=\"Helvetica,sans-Serif\" font-size=\"14.00\">gini = 0.032</text>\n<text text-anchor=\"middle\" x=\"7132\" y=\"-139.7\" font-family=\"Helvetica,sans-Serif\" font-size=\"14.00\">samples = 61</text>\n<text text-anchor=\"middle\" x=\"7132\" y=\"-124.7\" font-family=\"Helvetica,sans-Serif\" font-size=\"14.00\">value = [60, 0, 1, 0, 0, 0]</text>\n<text text-anchor=\"middle\" x=\"7132\" y=\"-109.7\" font-family=\"Helvetica,sans-Serif\" font-size=\"14.00\">class = WALKING</text>\n</g>\n<!-- 103&#45;&gt;105 -->\n<g id=\"edge105\" class=\"edge\">\n<title>103&#45;&gt;105</title>\n<path fill=\"none\" stroke=\"black\" d=\"M6972.04,-222.58C6992.64,-212.78 7014.76,-202.26 7035.79,-192.26\"/>\n<polygon fill=\"black\" stroke=\"black\" points=\"7037.12,-195.5 7044.64,-188.05 7034.11,-189.18 7037.12,-195.5\"/>\n</g>\n<!-- 106 -->\n<g id=\"node107\" class=\"node\">\n<title>106</title>\n<polygon fill=\"#39e581\" stroke=\"black\" points=\"7196,-68 6970,-68 6970,0 7196,0 7196,-68\"/>\n<text text-anchor=\"middle\" x=\"7083\" y=\"-50.7\" font-family=\"Helvetica,sans-Serif\" font-size=\"14.00\">gini = 0.0</text>\n<text text-anchor=\"middle\" x=\"7083\" y=\"-35.7\" font-family=\"Helvetica,sans-Serif\" font-size=\"14.00\">samples = 1</text>\n<text text-anchor=\"middle\" x=\"7083\" y=\"-20.7\" font-family=\"Helvetica,sans-Serif\" font-size=\"14.00\">value = [0, 0, 1, 0, 0, 0]</text>\n<text text-anchor=\"middle\" x=\"7083\" y=\"-5.7\" font-family=\"Helvetica,sans-Serif\" font-size=\"14.00\">class = WALKING_DOWNSTAIRS</text>\n</g>\n<!-- 105&#45;&gt;106 -->\n<g id=\"edge106\" class=\"edge\">\n<title>105&#45;&gt;106</title>\n<path fill=\"none\" stroke=\"black\" d=\"M7113.75,-103.73C7110.08,-95.52 7106.21,-86.86 7102.49,-78.56\"/>\n<polygon fill=\"black\" stroke=\"black\" points=\"7105.8,-77.38 7098.52,-69.68 7099.41,-80.24 7105.8,-77.38\"/>\n</g>\n<!-- 107 -->\n<g id=\"node108\" class=\"node\">\n<title>107</title>\n<polygon fill=\"#e58139\" stroke=\"black\" points=\"7375.75,-68 7214.25,-68 7214.25,0 7375.75,0 7375.75,-68\"/>\n<text text-anchor=\"middle\" x=\"7295\" y=\"-50.7\" font-family=\"Helvetica,sans-Serif\" font-size=\"14.00\">gini = 0.0</text>\n<text text-anchor=\"middle\" x=\"7295\" y=\"-35.7\" font-family=\"Helvetica,sans-Serif\" font-size=\"14.00\">samples = 60</text>\n<text text-anchor=\"middle\" x=\"7295\" y=\"-20.7\" font-family=\"Helvetica,sans-Serif\" font-size=\"14.00\">value = [60, 0, 0, 0, 0, 0]</text>\n<text text-anchor=\"middle\" x=\"7295\" y=\"-5.7\" font-family=\"Helvetica,sans-Serif\" font-size=\"14.00\">class = WALKING</text>\n</g>\n<!-- 105&#45;&gt;107 -->\n<g id=\"edge107\" class=\"edge\">\n<title>105&#45;&gt;107</title>\n<path fill=\"none\" stroke=\"black\" d=\"M7192.7,-103.73C7206.74,-94.29 7221.67,-84.26 7235.66,-74.86\"/>\n<polygon fill=\"black\" stroke=\"black\" points=\"7237.57,-77.8 7243.91,-69.32 7233.66,-71.99 7237.57,-77.8\"/>\n</g>\n<!-- 109 -->\n<g id=\"node110\" class=\"node\">\n<title>109</title>\n<polygon fill=\"#44e788\" stroke=\"black\" points=\"7666.25,-544 7435.75,-544 7435.75,-461 7666.25,-461 7666.25,-544\"/>\n<text text-anchor=\"middle\" x=\"7551\" y=\"-526.7\" font-family=\"Helvetica,sans-Serif\" font-size=\"14.00\">tGravityAcc&#45;arCoeff()&#45;X,3 &lt;= &#45;0.445</text>\n<text text-anchor=\"middle\" x=\"7551\" y=\"-511.7\" font-family=\"Helvetica,sans-Serif\" font-size=\"14.00\">gini = 0.107</text>\n<text text-anchor=\"middle\" x=\"7551\" y=\"-496.7\" font-family=\"Helvetica,sans-Serif\" font-size=\"14.00\">samples = 860</text>\n<text text-anchor=\"middle\" x=\"7551\" y=\"-481.7\" font-family=\"Helvetica,sans-Serif\" font-size=\"14.00\">value = [17, 31, 812, 0, 0, 0]</text>\n<text text-anchor=\"middle\" x=\"7551\" y=\"-466.7\" font-family=\"Helvetica,sans-Serif\" font-size=\"14.00\">class = WALKING_DOWNSTAIRS</text>\n</g>\n<!-- 108&#45;&gt;109 -->\n<g id=\"edge109\" class=\"edge\">\n<title>108&#45;&gt;109</title>\n<path fill=\"none\" stroke=\"black\" d=\"M7551,-579.58C7551,-571.79 7551,-563.53 7551,-555.45\"/>\n<polygon fill=\"black\" stroke=\"black\" points=\"7554.5,-555.71 7551,-545.71 7547.5,-555.71 7554.5,-555.71\"/>\n</g>\n<!-- 120 -->\n<g id=\"node121\" class=\"node\">\n<title>120</title>\n<polygon fill=\"#a7e84e\" stroke=\"black\" points=\"8053.25,-544 7768.75,-544 7768.75,-461 8053.25,-461 8053.25,-544\"/>\n<text text-anchor=\"middle\" x=\"7911\" y=\"-526.7\" font-family=\"Helvetica,sans-Serif\" font-size=\"14.00\">fBodyAccJerk&#45;bandsEnergy()&#45;1,24 &lt;= &#45;0.475</text>\n<text text-anchor=\"middle\" x=\"7911\" y=\"-511.7\" font-family=\"Helvetica,sans-Serif\" font-size=\"14.00\">gini = 0.182</text>\n<text text-anchor=\"middle\" x=\"7911\" y=\"-496.7\" font-family=\"Helvetica,sans-Serif\" font-size=\"14.00\">samples = 61</text>\n<text text-anchor=\"middle\" x=\"7911\" y=\"-481.7\" font-family=\"Helvetica,sans-Serif\" font-size=\"14.00\">value = [2, 55, 4, 0, 0, 0]</text>\n<text text-anchor=\"middle\" x=\"7911\" y=\"-466.7\" font-family=\"Helvetica,sans-Serif\" font-size=\"14.00\">class = WALKING_UPSTAIRS</text>\n</g>\n<!-- 108&#45;&gt;120 -->\n<g id=\"edge120\" class=\"edge\">\n<title>108&#45;&gt;120</title>\n<path fill=\"none\" stroke=\"black\" d=\"M7670.87,-581.54C7703.91,-570.8 7740,-559.07 7773.93,-548.05\"/>\n<polygon fill=\"black\" stroke=\"black\" points=\"7775,-551.38 7783.42,-544.96 7772.83,-544.72 7775,-551.38\"/>\n</g>\n<!-- 110 -->\n<g id=\"node111\" class=\"node\">\n<title>110</title>\n<polygon fill=\"#42e687\" stroke=\"black\" points=\"7613,-425 7321,-425 7321,-342 7613,-342 7613,-425\"/>\n<text text-anchor=\"middle\" x=\"7467\" y=\"-407.7\" font-family=\"Helvetica,sans-Serif\" font-size=\"14.00\">fBodyAccJerk&#45;bandsEnergy()&#45;17,32 &lt;= &#45;0.964</text>\n<text text-anchor=\"middle\" x=\"7467\" y=\"-392.7\" font-family=\"Helvetica,sans-Serif\" font-size=\"14.00\">gini = 0.086</text>\n<text text-anchor=\"middle\" x=\"7467\" y=\"-377.7\" font-family=\"Helvetica,sans-Serif\" font-size=\"14.00\">samples = 847</text>\n<text text-anchor=\"middle\" x=\"7467\" y=\"-362.7\" font-family=\"Helvetica,sans-Serif\" font-size=\"14.00\">value = [7, 31, 809, 0, 0, 0]</text>\n<text text-anchor=\"middle\" x=\"7467\" y=\"-347.7\" font-family=\"Helvetica,sans-Serif\" font-size=\"14.00\">class = WALKING_DOWNSTAIRS</text>\n</g>\n<!-- 109&#45;&gt;110 -->\n<g id=\"edge110\" class=\"edge\">\n<title>109&#45;&gt;110</title>\n<path fill=\"none\" stroke=\"black\" d=\"M7521.62,-460.58C7515.58,-452.16 7509.15,-443.2 7502.9,-434.5\"/>\n<polygon fill=\"black\" stroke=\"black\" points=\"7505.78,-432.51 7497.1,-426.43 7500.09,-436.59 7505.78,-432.51\"/>\n</g>\n<!-- 119 -->\n<g id=\"node120\" class=\"node\">\n<title>119</title>\n<polygon fill=\"#eda774\" stroke=\"black\" points=\"7792.75,-417.5 7631.25,-417.5 7631.25,-349.5 7792.75,-349.5 7792.75,-417.5\"/>\n<text text-anchor=\"middle\" x=\"7712\" y=\"-400.2\" font-family=\"Helvetica,sans-Serif\" font-size=\"14.00\">gini = 0.355</text>\n<text text-anchor=\"middle\" x=\"7712\" y=\"-385.2\" font-family=\"Helvetica,sans-Serif\" font-size=\"14.00\">samples = 13</text>\n<text text-anchor=\"middle\" x=\"7712\" y=\"-370.2\" font-family=\"Helvetica,sans-Serif\" font-size=\"14.00\">value = [10, 0, 3, 0, 0, 0]</text>\n<text text-anchor=\"middle\" x=\"7712\" y=\"-355.2\" font-family=\"Helvetica,sans-Serif\" font-size=\"14.00\">class = WALKING</text>\n</g>\n<!-- 109&#45;&gt;119 -->\n<g id=\"edge119\" class=\"edge\">\n<title>109&#45;&gt;119</title>\n<path fill=\"none\" stroke=\"black\" d=\"M7607.31,-460.58C7623.38,-448.9 7640.87,-436.19 7656.87,-424.57\"/>\n<polygon fill=\"black\" stroke=\"black\" points=\"7658.84,-427.46 7664.87,-418.75 7654.72,-421.8 7658.84,-427.46\"/>\n</g>\n<!-- 111 -->\n<g id=\"node112\" class=\"node\">\n<title>111</title>\n<polygon fill=\"#f8fdf1\" stroke=\"black\" points=\"7592.75,-306 7341.25,-306 7341.25,-223 7592.75,-223 7592.75,-306\"/>\n<text text-anchor=\"middle\" x=\"7467\" y=\"-288.7\" font-family=\"Helvetica,sans-Serif\" font-size=\"14.00\">fBodyAcc&#45;bandsEnergy()&#45;1,8 &lt;= &#45;0.387</text>\n<text text-anchor=\"middle\" x=\"7467\" y=\"-273.7\" font-family=\"Helvetica,sans-Serif\" font-size=\"14.00\">gini = 0.499</text>\n<text text-anchor=\"middle\" x=\"7467\" y=\"-258.7\" font-family=\"Helvetica,sans-Serif\" font-size=\"14.00\">samples = 27</text>\n<text text-anchor=\"middle\" x=\"7467\" y=\"-243.7\" font-family=\"Helvetica,sans-Serif\" font-size=\"14.00\">value = [0, 14, 13, 0, 0, 0]</text>\n<text text-anchor=\"middle\" x=\"7467\" y=\"-228.7\" font-family=\"Helvetica,sans-Serif\" font-size=\"14.00\">class = WALKING_UPSTAIRS</text>\n</g>\n<!-- 110&#45;&gt;111 -->\n<g id=\"edge111\" class=\"edge\">\n<title>110&#45;&gt;111</title>\n<path fill=\"none\" stroke=\"black\" d=\"M7467,-341.58C7467,-333.79 7467,-325.53 7467,-317.45\"/>\n<polygon fill=\"black\" stroke=\"black\" points=\"7470.5,-317.71 7467,-307.71 7463.5,-317.71 7470.5,-317.71\"/>\n</g>\n<!-- 114 -->\n<g id=\"node115\" class=\"node\">\n<title>114</title>\n<polygon fill=\"#3fe685\" stroke=\"black\" points=\"7940,-306 7714,-306 7714,-223 7940,-223 7940,-306\"/>\n<text text-anchor=\"middle\" x=\"7827\" y=\"-288.7\" font-family=\"Helvetica,sans-Serif\" font-size=\"14.00\">tBodyAccJerk&#45;max()&#45;X &lt;= &#45;0.512</text>\n<text text-anchor=\"middle\" x=\"7827\" y=\"-273.7\" font-family=\"Helvetica,sans-Serif\" font-size=\"14.00\">gini = 0.057</text>\n<text text-anchor=\"middle\" x=\"7827\" y=\"-258.7\" font-family=\"Helvetica,sans-Serif\" font-size=\"14.00\">samples = 820</text>\n<text text-anchor=\"middle\" x=\"7827\" y=\"-243.7\" font-family=\"Helvetica,sans-Serif\" font-size=\"14.00\">value = [7, 17, 796, 0, 0, 0]</text>\n<text text-anchor=\"middle\" x=\"7827\" y=\"-228.7\" font-family=\"Helvetica,sans-Serif\" font-size=\"14.00\">class = WALKING_DOWNSTAIRS</text>\n</g>\n<!-- 110&#45;&gt;114 -->\n<g id=\"edge114\" class=\"edge\">\n<title>110&#45;&gt;114</title>\n<path fill=\"none\" stroke=\"black\" d=\"M7592.91,-341.58C7628.56,-329.99 7667.33,-317.39 7702.87,-305.84\"/>\n<polygon fill=\"black\" stroke=\"black\" points=\"7703.92,-309.18 7712.35,-302.76 7701.76,-302.52 7703.92,-309.18\"/>\n</g>\n<!-- 112 -->\n<g id=\"node113\" class=\"node\">\n<title>112</title>\n<polygon fill=\"#9de539\" stroke=\"black\" points=\"7465.25,-179.5 7264.75,-179.5 7264.75,-111.5 7465.25,-111.5 7465.25,-179.5\"/>\n<text text-anchor=\"middle\" x=\"7365\" y=\"-162.2\" font-family=\"Helvetica,sans-Serif\" font-size=\"14.00\">gini = 0.0</text>\n<text text-anchor=\"middle\" x=\"7365\" y=\"-147.2\" font-family=\"Helvetica,sans-Serif\" font-size=\"14.00\">samples = 14</text>\n<text text-anchor=\"middle\" x=\"7365\" y=\"-132.2\" font-family=\"Helvetica,sans-Serif\" font-size=\"14.00\">value = [0, 14, 0, 0, 0, 0]</text>\n<text text-anchor=\"middle\" x=\"7365\" y=\"-117.2\" font-family=\"Helvetica,sans-Serif\" font-size=\"14.00\">class = WALKING_UPSTAIRS</text>\n</g>\n<!-- 111&#45;&gt;112 -->\n<g id=\"edge112\" class=\"edge\">\n<title>111&#45;&gt;112</title>\n<path fill=\"none\" stroke=\"black\" d=\"M7431.33,-222.58C7421.72,-211.56 7411.3,-199.61 7401.64,-188.53\"/>\n<polygon fill=\"black\" stroke=\"black\" points=\"7404.29,-186.24 7395.08,-181 7399.01,-190.84 7404.29,-186.24\"/>\n</g>\n<!-- 113 -->\n<g id=\"node114\" class=\"node\">\n<title>113</title>\n<polygon fill=\"#39e581\" stroke=\"black\" points=\"7709,-179.5 7483,-179.5 7483,-111.5 7709,-111.5 7709,-179.5\"/>\n<text text-anchor=\"middle\" x=\"7596\" y=\"-162.2\" font-family=\"Helvetica,sans-Serif\" font-size=\"14.00\">gini = 0.0</text>\n<text text-anchor=\"middle\" x=\"7596\" y=\"-147.2\" font-family=\"Helvetica,sans-Serif\" font-size=\"14.00\">samples = 13</text>\n<text text-anchor=\"middle\" x=\"7596\" y=\"-132.2\" font-family=\"Helvetica,sans-Serif\" font-size=\"14.00\">value = [0, 0, 13, 0, 0, 0]</text>\n<text text-anchor=\"middle\" x=\"7596\" y=\"-117.2\" font-family=\"Helvetica,sans-Serif\" font-size=\"14.00\">class = WALKING_DOWNSTAIRS</text>\n</g>\n<!-- 111&#45;&gt;113 -->\n<g id=\"edge113\" class=\"edge\">\n<title>111&#45;&gt;113</title>\n<path fill=\"none\" stroke=\"black\" d=\"M7512.12,-222.58C7524.63,-211.23 7538.22,-198.9 7550.74,-187.55\"/>\n<polygon fill=\"black\" stroke=\"black\" points=\"7553.04,-190.19 7558.1,-180.88 7548.34,-185 7553.04,-190.19\"/>\n</g>\n<!-- 115 -->\n<g id=\"node116\" class=\"node\">\n<title>115</title>\n<polygon fill=\"#def6bd\" stroke=\"black\" points=\"7927.25,-179.5 7726.75,-179.5 7726.75,-111.5 7927.25,-111.5 7927.25,-179.5\"/>\n<text text-anchor=\"middle\" x=\"7827\" y=\"-162.2\" font-family=\"Helvetica,sans-Serif\" font-size=\"14.00\">gini = 0.48</text>\n<text text-anchor=\"middle\" x=\"7827\" y=\"-147.2\" font-family=\"Helvetica,sans-Serif\" font-size=\"14.00\">samples = 5</text>\n<text text-anchor=\"middle\" x=\"7827\" y=\"-132.2\" font-family=\"Helvetica,sans-Serif\" font-size=\"14.00\">value = [2, 3, 0, 0, 0, 0]</text>\n<text text-anchor=\"middle\" x=\"7827\" y=\"-117.2\" font-family=\"Helvetica,sans-Serif\" font-size=\"14.00\">class = WALKING_UPSTAIRS</text>\n</g>\n<!-- 114&#45;&gt;115 -->\n<g id=\"edge115\" class=\"edge\">\n<title>114&#45;&gt;115</title>\n<path fill=\"none\" stroke=\"black\" d=\"M7827,-222.58C7827,-212.43 7827,-201.5 7827,-191.18\"/>\n<polygon fill=\"black\" stroke=\"black\" points=\"7830.5,-191.37 7827,-181.37 7823.5,-191.37 7830.5,-191.37\"/>\n</g>\n<!-- 116 -->\n<g id=\"node117\" class=\"node\">\n<title>116</title>\n<polygon fill=\"#3ee684\" stroke=\"black\" points=\"8171,-187 7945,-187 7945,-104 8171,-104 8171,-187\"/>\n<text text-anchor=\"middle\" x=\"8058\" y=\"-169.7\" font-family=\"Helvetica,sans-Serif\" font-size=\"14.00\">tBodyAcc&#45;max()&#45;X &lt;= 0.048</text>\n<text text-anchor=\"middle\" x=\"8058\" y=\"-154.7\" font-family=\"Helvetica,sans-Serif\" font-size=\"14.00\">gini = 0.046</text>\n<text text-anchor=\"middle\" x=\"8058\" y=\"-139.7\" font-family=\"Helvetica,sans-Serif\" font-size=\"14.00\">samples = 815</text>\n<text text-anchor=\"middle\" x=\"8058\" y=\"-124.7\" font-family=\"Helvetica,sans-Serif\" font-size=\"14.00\">value = [5, 14, 796, 0, 0, 0]</text>\n<text text-anchor=\"middle\" x=\"8058\" y=\"-109.7\" font-family=\"Helvetica,sans-Serif\" font-size=\"14.00\">class = WALKING_DOWNSTAIRS</text>\n</g>\n<!-- 114&#45;&gt;116 -->\n<g id=\"edge116\" class=\"edge\">\n<title>114&#45;&gt;116</title>\n<path fill=\"none\" stroke=\"black\" d=\"M7907.79,-222.58C7926.96,-212.87 7947.53,-202.45 7967.12,-192.53\"/>\n<polygon fill=\"black\" stroke=\"black\" points=\"7968.56,-195.72 7975.9,-188.08 7965.4,-189.48 7968.56,-195.72\"/>\n</g>\n<!-- 117 -->\n<g id=\"node118\" class=\"node\">\n<title>117</title>\n<polygon fill=\"#cef29c\" stroke=\"black\" points=\"8042.25,-68 7841.75,-68 7841.75,0 8042.25,0 8042.25,-68\"/>\n<text text-anchor=\"middle\" x=\"7942\" y=\"-50.7\" font-family=\"Helvetica,sans-Serif\" font-size=\"14.00\">gini = 0.444</text>\n<text text-anchor=\"middle\" x=\"7942\" y=\"-35.7\" font-family=\"Helvetica,sans-Serif\" font-size=\"14.00\">samples = 3</text>\n<text text-anchor=\"middle\" x=\"7942\" y=\"-20.7\" font-family=\"Helvetica,sans-Serif\" font-size=\"14.00\">value = [1, 2, 0, 0, 0, 0]</text>\n<text text-anchor=\"middle\" x=\"7942\" y=\"-5.7\" font-family=\"Helvetica,sans-Serif\" font-size=\"14.00\">class = WALKING_UPSTAIRS</text>\n</g>\n<!-- 116&#45;&gt;117 -->\n<g id=\"edge117\" class=\"edge\">\n<title>116&#45;&gt;117</title>\n<path fill=\"none\" stroke=\"black\" d=\"M8014.81,-103.73C8005.24,-94.7 7995.1,-85.12 7985.52,-76.08\"/>\n<polygon fill=\"black\" stroke=\"black\" points=\"7988.05,-73.66 7978.38,-69.34 7983.25,-78.75 7988.05,-73.66\"/>\n</g>\n<!-- 118 -->\n<g id=\"node119\" class=\"node\">\n<title>118</title>\n<polygon fill=\"#3de684\" stroke=\"black\" points=\"8286,-68 8060,-68 8060,0 8286,0 8286,-68\"/>\n<text text-anchor=\"middle\" x=\"8173\" y=\"-50.7\" font-family=\"Helvetica,sans-Serif\" font-size=\"14.00\">gini = 0.039</text>\n<text text-anchor=\"middle\" x=\"8173\" y=\"-35.7\" font-family=\"Helvetica,sans-Serif\" font-size=\"14.00\">samples = 812</text>\n<text text-anchor=\"middle\" x=\"8173\" y=\"-20.7\" font-family=\"Helvetica,sans-Serif\" font-size=\"14.00\">value = [4, 12, 796, 0, 0, 0]</text>\n<text text-anchor=\"middle\" x=\"8173\" y=\"-5.7\" font-family=\"Helvetica,sans-Serif\" font-size=\"14.00\">class = WALKING_DOWNSTAIRS</text>\n</g>\n<!-- 116&#45;&gt;118 -->\n<g id=\"edge118\" class=\"edge\">\n<title>116&#45;&gt;118</title>\n<path fill=\"none\" stroke=\"black\" d=\"M8100.82,-103.73C8110.3,-94.7 8120.36,-85.12 8129.85,-76.08\"/>\n<polygon fill=\"black\" stroke=\"black\" points=\"8132.1,-78.77 8136.93,-69.34 8127.28,-73.7 8132.1,-78.77\"/>\n</g>\n<!-- 121 -->\n<g id=\"node122\" class=\"node\">\n<title>121</title>\n<polygon fill=\"#9de539\" stroke=\"black\" points=\"8011.25,-417.5 7810.75,-417.5 7810.75,-349.5 8011.25,-349.5 8011.25,-417.5\"/>\n<text text-anchor=\"middle\" x=\"7911\" y=\"-400.2\" font-family=\"Helvetica,sans-Serif\" font-size=\"14.00\">gini = 0.0</text>\n<text text-anchor=\"middle\" x=\"7911\" y=\"-385.2\" font-family=\"Helvetica,sans-Serif\" font-size=\"14.00\">samples = 55</text>\n<text text-anchor=\"middle\" x=\"7911\" y=\"-370.2\" font-family=\"Helvetica,sans-Serif\" font-size=\"14.00\">value = [0, 55, 0, 0, 0, 0]</text>\n<text text-anchor=\"middle\" x=\"7911\" y=\"-355.2\" font-family=\"Helvetica,sans-Serif\" font-size=\"14.00\">class = WALKING_UPSTAIRS</text>\n</g>\n<!-- 120&#45;&gt;121 -->\n<g id=\"edge121\" class=\"edge\">\n<title>120&#45;&gt;121</title>\n<path fill=\"none\" stroke=\"black\" d=\"M7911,-460.58C7911,-450.43 7911,-439.5 7911,-429.18\"/>\n<polygon fill=\"black\" stroke=\"black\" points=\"7914.5,-429.37 7911,-419.37 7907.5,-429.37 7914.5,-429.37\"/>\n</g>\n<!-- 122 -->\n<g id=\"node123\" class=\"node\">\n<title>122</title>\n<polygon fill=\"#9cf2c0\" stroke=\"black\" points=\"8255,-417.5 8029,-417.5 8029,-349.5 8255,-349.5 8255,-417.5\"/>\n<text text-anchor=\"middle\" x=\"8142\" y=\"-400.2\" font-family=\"Helvetica,sans-Serif\" font-size=\"14.00\">gini = 0.444</text>\n<text text-anchor=\"middle\" x=\"8142\" y=\"-385.2\" font-family=\"Helvetica,sans-Serif\" font-size=\"14.00\">samples = 6</text>\n<text text-anchor=\"middle\" x=\"8142\" y=\"-370.2\" font-family=\"Helvetica,sans-Serif\" font-size=\"14.00\">value = [2, 0, 4, 0, 0, 0]</text>\n<text text-anchor=\"middle\" x=\"8142\" y=\"-355.2\" font-family=\"Helvetica,sans-Serif\" font-size=\"14.00\">class = WALKING_DOWNSTAIRS</text>\n</g>\n<!-- 120&#45;&gt;122 -->\n<g id=\"edge122\" class=\"edge\">\n<title>120&#45;&gt;122</title>\n<path fill=\"none\" stroke=\"black\" d=\"M7991.79,-460.58C8015.93,-448.36 8042.29,-435 8066.1,-422.94\"/>\n<polygon fill=\"black\" stroke=\"black\" points=\"8067.44,-426.19 8074.78,-418.55 8064.28,-419.94 8067.44,-426.19\"/>\n</g>\n</g>\n</svg>\n",
      "text/plain": [
       "<graphviz.sources.Source at 0x1487af5b0>"
      ]
     },
     "execution_count": 36,
     "metadata": {},
     "output_type": "execute_result"
    }
   ],
   "execution_count": 36
  },
  {
   "metadata": {},
   "cell_type": "code",
   "outputs": [],
   "execution_count": null,
   "source": ""
  }
 ],
 "metadata": {
  "kernelspec": {
   "display_name": "Python 3",
   "language": "python",
   "name": "python3"
  },
  "language_info": {
   "codemirror_mode": {
    "name": "ipython",
    "version": 3
   },
   "file_extension": ".py",
   "mimetype": "text/x-python",
   "name": "python",
   "nbconvert_exporter": "python",
   "pygments_lexer": "ipython3",
   "version": "3.10.7"
  }
 },
 "nbformat": 4,
 "nbformat_minor": 2
}
